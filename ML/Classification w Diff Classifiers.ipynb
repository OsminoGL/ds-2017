{
 "cells": [
  {
   "cell_type": "markdown",
   "metadata": {},
   "source": [
    "### Classification using\n",
    "#### SVM \n",
    "#### Linear Regression\n",
    "#### Logistic Regression\n",
    "#### PROBIT "
   ]
  },
  {
   "cell_type": "markdown",
   "metadata": {},
   "source": [
    "## Importing Data"
   ]
  },
  {
   "cell_type": "code",
   "execution_count": 5,
   "metadata": {
    "collapsed": true
   },
   "outputs": [],
   "source": [
    "# data from: http://archive.ics.uci.edu/ml/machine-learning-databases/wine/\n",
    "import pandas as pd \n",
    "import numpy as np"
   ]
  },
  {
   "cell_type": "code",
   "execution_count": 6,
   "metadata": {},
   "outputs": [
    {
     "data": {
      "text/plain": [
       "'\\n1) Alcohol\\n2) Malic acid\\n3) Ash\\n4) Alcalinity of ash  \\n5) Magnesium\\n6) Total phenols\\n7) Flavanoids\\n8) Nonflavanoid phenols\\n9) Proanthocyanins\\n10) Color intensity\\n11) Hue\\n12) OD280/OD315 of diluted wines\\n13) Proline\\n'"
      ]
     },
     "execution_count": 6,
     "metadata": {},
     "output_type": "execute_result"
    }
   ],
   "source": [
    "'''\n",
    "1) Alcohol\n",
    "2) Malic acid\n",
    "3) Ash\n",
    "4) Alcalinity of ash  \n",
    "5) Magnesium\n",
    "6) Total phenols\n",
    "7) Flavanoids\n",
    "8) Nonflavanoid phenols\n",
    "9) Proanthocyanins\n",
    "10) Color intensity\n",
    "11) Hue\n",
    "12) OD280/OD315 of diluted wines\n",
    "13) Proline\n",
    "'''"
   ]
  },
  {
   "cell_type": "markdown",
   "metadata": {},
   "source": [
    "## Data Cleasing and Preparation - Global"
   ]
  },
  {
   "cell_type": "code",
   "execution_count": 7,
   "metadata": {
    "collapsed": true
   },
   "outputs": [],
   "source": [
    "# Creating header\n",
    "colnames = ['Alcohol','Malic acid','Ash','Alcalinity of ash','Magnesium','Total phenols','Flavanoid',\\\n",
    "            'Nonflavanoid phenols','Proanthocyanis','Color Intensity', 'Hue','OD280/OD315','Proline']"
   ]
  },
  {
   "cell_type": "code",
   "execution_count": 8,
   "metadata": {
    "collapsed": true
   },
   "outputs": [],
   "source": [
    "# Reading csv and concatenating the header\n",
    "wineData = pd.read_csv('wine.data.csv', names=colnames, index_col=False)"
   ]
  },
  {
   "cell_type": "code",
   "execution_count": 9,
   "metadata": {},
   "outputs": [
    {
     "data": {
      "text/html": [
       "<div>\n",
       "<style>\n",
       "    .dataframe thead tr:only-child th {\n",
       "        text-align: right;\n",
       "    }\n",
       "\n",
       "    .dataframe thead th {\n",
       "        text-align: left;\n",
       "    }\n",
       "\n",
       "    .dataframe tbody tr th {\n",
       "        vertical-align: top;\n",
       "    }\n",
       "</style>\n",
       "<table border=\"1\" class=\"dataframe\">\n",
       "  <thead>\n",
       "    <tr style=\"text-align: right;\">\n",
       "      <th></th>\n",
       "      <th>Alcohol</th>\n",
       "      <th>Malic acid</th>\n",
       "      <th>Ash</th>\n",
       "      <th>Alcalinity of ash</th>\n",
       "      <th>Magnesium</th>\n",
       "      <th>Total phenols</th>\n",
       "      <th>Flavanoid</th>\n",
       "      <th>Nonflavanoid phenols</th>\n",
       "      <th>Proanthocyanis</th>\n",
       "      <th>Color Intensity</th>\n",
       "      <th>Hue</th>\n",
       "      <th>OD280/OD315</th>\n",
       "      <th>Proline</th>\n",
       "    </tr>\n",
       "  </thead>\n",
       "  <tbody>\n",
       "    <tr>\n",
       "      <th>0</th>\n",
       "      <td>1</td>\n",
       "      <td>14.23</td>\n",
       "      <td>1.71</td>\n",
       "      <td>2.43</td>\n",
       "      <td>15.6</td>\n",
       "      <td>127</td>\n",
       "      <td>2.80</td>\n",
       "      <td>3.06</td>\n",
       "      <td>0.28</td>\n",
       "      <td>2.29</td>\n",
       "      <td>5.64</td>\n",
       "      <td>1.04</td>\n",
       "      <td>3.92</td>\n",
       "    </tr>\n",
       "    <tr>\n",
       "      <th>1</th>\n",
       "      <td>1</td>\n",
       "      <td>13.20</td>\n",
       "      <td>1.78</td>\n",
       "      <td>2.14</td>\n",
       "      <td>11.2</td>\n",
       "      <td>100</td>\n",
       "      <td>2.65</td>\n",
       "      <td>2.76</td>\n",
       "      <td>0.26</td>\n",
       "      <td>1.28</td>\n",
       "      <td>4.38</td>\n",
       "      <td>1.05</td>\n",
       "      <td>3.40</td>\n",
       "    </tr>\n",
       "    <tr>\n",
       "      <th>2</th>\n",
       "      <td>1</td>\n",
       "      <td>13.16</td>\n",
       "      <td>2.36</td>\n",
       "      <td>2.67</td>\n",
       "      <td>18.6</td>\n",
       "      <td>101</td>\n",
       "      <td>2.80</td>\n",
       "      <td>3.24</td>\n",
       "      <td>0.30</td>\n",
       "      <td>2.81</td>\n",
       "      <td>5.68</td>\n",
       "      <td>1.03</td>\n",
       "      <td>3.17</td>\n",
       "    </tr>\n",
       "    <tr>\n",
       "      <th>3</th>\n",
       "      <td>1</td>\n",
       "      <td>14.37</td>\n",
       "      <td>1.95</td>\n",
       "      <td>2.50</td>\n",
       "      <td>16.8</td>\n",
       "      <td>113</td>\n",
       "      <td>3.85</td>\n",
       "      <td>3.49</td>\n",
       "      <td>0.24</td>\n",
       "      <td>2.18</td>\n",
       "      <td>7.80</td>\n",
       "      <td>0.86</td>\n",
       "      <td>3.45</td>\n",
       "    </tr>\n",
       "  </tbody>\n",
       "</table>\n",
       "</div>"
      ],
      "text/plain": [
       "   Alcohol  Malic acid   Ash  Alcalinity of ash  Magnesium  Total phenols  \\\n",
       "0        1       14.23  1.71               2.43       15.6            127   \n",
       "1        1       13.20  1.78               2.14       11.2            100   \n",
       "2        1       13.16  2.36               2.67       18.6            101   \n",
       "3        1       14.37  1.95               2.50       16.8            113   \n",
       "\n",
       "   Flavanoid  Nonflavanoid phenols  Proanthocyanis  Color Intensity   Hue  \\\n",
       "0       2.80                  3.06            0.28             2.29  5.64   \n",
       "1       2.65                  2.76            0.26             1.28  4.38   \n",
       "2       2.80                  3.24            0.30             2.81  5.68   \n",
       "3       3.85                  3.49            0.24             2.18  7.80   \n",
       "\n",
       "   OD280/OD315  Proline  \n",
       "0         1.04     3.92  \n",
       "1         1.05     3.40  \n",
       "2         1.03     3.17  \n",
       "3         0.86     3.45  "
      ]
     },
     "execution_count": 9,
     "metadata": {},
     "output_type": "execute_result"
    }
   ],
   "source": [
    "# Glimpse on the data\n",
    "wineData.head(4)"
   ]
  },
  {
   "cell_type": "code",
   "execution_count": 10,
   "metadata": {},
   "outputs": [
    {
     "data": {
      "text/html": [
       "<div>\n",
       "<style>\n",
       "    .dataframe thead tr:only-child th {\n",
       "        text-align: right;\n",
       "    }\n",
       "\n",
       "    .dataframe thead th {\n",
       "        text-align: left;\n",
       "    }\n",
       "\n",
       "    .dataframe tbody tr th {\n",
       "        vertical-align: top;\n",
       "    }\n",
       "</style>\n",
       "<table border=\"1\" class=\"dataframe\">\n",
       "  <thead>\n",
       "    <tr style=\"text-align: right;\">\n",
       "      <th></th>\n",
       "      <th>Alcohol</th>\n",
       "      <th>Malic acid</th>\n",
       "      <th>Ash</th>\n",
       "      <th>Alcalinity of ash</th>\n",
       "      <th>Magnesium</th>\n",
       "      <th>Total phenols</th>\n",
       "      <th>Flavanoid</th>\n",
       "      <th>Nonflavanoid phenols</th>\n",
       "      <th>Proanthocyanis</th>\n",
       "      <th>Color Intensity</th>\n",
       "      <th>Hue</th>\n",
       "      <th>OD280/OD315</th>\n",
       "      <th>Proline</th>\n",
       "    </tr>\n",
       "  </thead>\n",
       "  <tbody>\n",
       "    <tr>\n",
       "      <th>count</th>\n",
       "      <td>178.000000</td>\n",
       "      <td>178.000000</td>\n",
       "      <td>178.000000</td>\n",
       "      <td>178.000000</td>\n",
       "      <td>178.000000</td>\n",
       "      <td>178.000000</td>\n",
       "      <td>178.000000</td>\n",
       "      <td>178.000000</td>\n",
       "      <td>178.000000</td>\n",
       "      <td>178.000000</td>\n",
       "      <td>178.000000</td>\n",
       "      <td>178.000000</td>\n",
       "      <td>178.000000</td>\n",
       "    </tr>\n",
       "    <tr>\n",
       "      <th>mean</th>\n",
       "      <td>1.938202</td>\n",
       "      <td>13.000618</td>\n",
       "      <td>2.336348</td>\n",
       "      <td>2.366517</td>\n",
       "      <td>19.494944</td>\n",
       "      <td>99.741573</td>\n",
       "      <td>2.295112</td>\n",
       "      <td>2.029270</td>\n",
       "      <td>0.361854</td>\n",
       "      <td>1.590899</td>\n",
       "      <td>5.058090</td>\n",
       "      <td>0.957449</td>\n",
       "      <td>2.611685</td>\n",
       "    </tr>\n",
       "    <tr>\n",
       "      <th>std</th>\n",
       "      <td>0.775035</td>\n",
       "      <td>0.811827</td>\n",
       "      <td>1.117146</td>\n",
       "      <td>0.274344</td>\n",
       "      <td>3.339564</td>\n",
       "      <td>14.282484</td>\n",
       "      <td>0.625851</td>\n",
       "      <td>0.998859</td>\n",
       "      <td>0.124453</td>\n",
       "      <td>0.572359</td>\n",
       "      <td>2.318286</td>\n",
       "      <td>0.228572</td>\n",
       "      <td>0.709990</td>\n",
       "    </tr>\n",
       "    <tr>\n",
       "      <th>min</th>\n",
       "      <td>1.000000</td>\n",
       "      <td>11.030000</td>\n",
       "      <td>0.740000</td>\n",
       "      <td>1.360000</td>\n",
       "      <td>10.600000</td>\n",
       "      <td>70.000000</td>\n",
       "      <td>0.980000</td>\n",
       "      <td>0.340000</td>\n",
       "      <td>0.130000</td>\n",
       "      <td>0.410000</td>\n",
       "      <td>1.280000</td>\n",
       "      <td>0.480000</td>\n",
       "      <td>1.270000</td>\n",
       "    </tr>\n",
       "    <tr>\n",
       "      <th>25%</th>\n",
       "      <td>1.000000</td>\n",
       "      <td>12.362500</td>\n",
       "      <td>1.602500</td>\n",
       "      <td>2.210000</td>\n",
       "      <td>17.200000</td>\n",
       "      <td>88.000000</td>\n",
       "      <td>1.742500</td>\n",
       "      <td>1.205000</td>\n",
       "      <td>0.270000</td>\n",
       "      <td>1.250000</td>\n",
       "      <td>3.220000</td>\n",
       "      <td>0.782500</td>\n",
       "      <td>1.937500</td>\n",
       "    </tr>\n",
       "    <tr>\n",
       "      <th>50%</th>\n",
       "      <td>2.000000</td>\n",
       "      <td>13.050000</td>\n",
       "      <td>1.865000</td>\n",
       "      <td>2.360000</td>\n",
       "      <td>19.500000</td>\n",
       "      <td>98.000000</td>\n",
       "      <td>2.355000</td>\n",
       "      <td>2.135000</td>\n",
       "      <td>0.340000</td>\n",
       "      <td>1.555000</td>\n",
       "      <td>4.690000</td>\n",
       "      <td>0.965000</td>\n",
       "      <td>2.780000</td>\n",
       "    </tr>\n",
       "    <tr>\n",
       "      <th>75%</th>\n",
       "      <td>3.000000</td>\n",
       "      <td>13.677500</td>\n",
       "      <td>3.082500</td>\n",
       "      <td>2.557500</td>\n",
       "      <td>21.500000</td>\n",
       "      <td>107.000000</td>\n",
       "      <td>2.800000</td>\n",
       "      <td>2.875000</td>\n",
       "      <td>0.437500</td>\n",
       "      <td>1.950000</td>\n",
       "      <td>6.200000</td>\n",
       "      <td>1.120000</td>\n",
       "      <td>3.170000</td>\n",
       "    </tr>\n",
       "    <tr>\n",
       "      <th>max</th>\n",
       "      <td>3.000000</td>\n",
       "      <td>14.830000</td>\n",
       "      <td>5.800000</td>\n",
       "      <td>3.230000</td>\n",
       "      <td>30.000000</td>\n",
       "      <td>162.000000</td>\n",
       "      <td>3.880000</td>\n",
       "      <td>5.080000</td>\n",
       "      <td>0.660000</td>\n",
       "      <td>3.580000</td>\n",
       "      <td>13.000000</td>\n",
       "      <td>1.710000</td>\n",
       "      <td>4.000000</td>\n",
       "    </tr>\n",
       "  </tbody>\n",
       "</table>\n",
       "</div>"
      ],
      "text/plain": [
       "          Alcohol  Malic acid         Ash  Alcalinity of ash   Magnesium  \\\n",
       "count  178.000000  178.000000  178.000000         178.000000  178.000000   \n",
       "mean     1.938202   13.000618    2.336348           2.366517   19.494944   \n",
       "std      0.775035    0.811827    1.117146           0.274344    3.339564   \n",
       "min      1.000000   11.030000    0.740000           1.360000   10.600000   \n",
       "25%      1.000000   12.362500    1.602500           2.210000   17.200000   \n",
       "50%      2.000000   13.050000    1.865000           2.360000   19.500000   \n",
       "75%      3.000000   13.677500    3.082500           2.557500   21.500000   \n",
       "max      3.000000   14.830000    5.800000           3.230000   30.000000   \n",
       "\n",
       "       Total phenols   Flavanoid  Nonflavanoid phenols  Proanthocyanis  \\\n",
       "count     178.000000  178.000000            178.000000      178.000000   \n",
       "mean       99.741573    2.295112              2.029270        0.361854   \n",
       "std        14.282484    0.625851              0.998859        0.124453   \n",
       "min        70.000000    0.980000              0.340000        0.130000   \n",
       "25%        88.000000    1.742500              1.205000        0.270000   \n",
       "50%        98.000000    2.355000              2.135000        0.340000   \n",
       "75%       107.000000    2.800000              2.875000        0.437500   \n",
       "max       162.000000    3.880000              5.080000        0.660000   \n",
       "\n",
       "       Color Intensity         Hue  OD280/OD315     Proline  \n",
       "count       178.000000  178.000000   178.000000  178.000000  \n",
       "mean          1.590899    5.058090     0.957449    2.611685  \n",
       "std           0.572359    2.318286     0.228572    0.709990  \n",
       "min           0.410000    1.280000     0.480000    1.270000  \n",
       "25%           1.250000    3.220000     0.782500    1.937500  \n",
       "50%           1.555000    4.690000     0.965000    2.780000  \n",
       "75%           1.950000    6.200000     1.120000    3.170000  \n",
       "max           3.580000   13.000000     1.710000    4.000000  "
      ]
     },
     "execution_count": 10,
     "metadata": {},
     "output_type": "execute_result"
    }
   ],
   "source": [
    "# Summary of the dataset\n",
    "wineData.describe()"
   ]
  },
  {
   "cell_type": "markdown",
   "metadata": {},
   "source": [
    "### SVM - Linear"
   ]
  },
  {
   "cell_type": "code",
   "execution_count": 11,
   "metadata": {
    "collapsed": true
   },
   "outputs": [],
   "source": [
    "# Importing library\n",
    "from sklearn import svm, linear_model"
   ]
  },
  {
   "cell_type": "markdown",
   "metadata": {},
   "source": [
    "#### Data Preparation - Local"
   ]
  },
  {
   "cell_type": "code",
   "execution_count": 12,
   "metadata": {},
   "outputs": [],
   "source": [
    "# Loading csv file into a readable format for sklearn\n",
    "data =  np.loadtxt(fname = 'wine.data.csv', delimiter = ',')"
   ]
  },
  {
   "cell_type": "code",
   "execution_count": 13,
   "metadata": {},
   "outputs": [
    {
     "data": {
      "text/plain": [
       "array([  1.00000000e+00,   1.42300000e+01,   1.71000000e+00,\n",
       "         2.43000000e+00,   1.56000000e+01,   1.27000000e+02,\n",
       "         2.80000000e+00,   3.06000000e+00,   2.80000000e-01,\n",
       "         2.29000000e+00,   5.64000000e+00,   1.04000000e+00,\n",
       "         3.92000000e+00,   1.06500000e+03])"
      ]
     },
     "execution_count": 13,
     "metadata": {},
     "output_type": "execute_result"
    }
   ],
   "source": [
    "data[0]"
   ]
  },
  {
   "cell_type": "code",
   "execution_count": 58,
   "metadata": {
    "collapsed": true
   },
   "outputs": [],
   "source": [
    "# Getting the DV and IV\n",
    "y = data[:, 0]\n",
    "\n",
    "x = data[:, 4:5]"
   ]
  },
  {
   "cell_type": "markdown",
   "metadata": {},
   "source": [
    "#### Modeling"
   ]
  },
  {
   "cell_type": "code",
   "execution_count": 1,
   "metadata": {
    "collapsed": true
   },
   "outputs": [
    {
     "ename": "NameError",
     "evalue": "name 'svm' is not defined",
     "output_type": "error",
     "traceback": [
      "\u001b[0;31m---------------------------------------------------------------------------\u001b[0m",
      "\u001b[0;31mNameError\u001b[0m                                 Traceback (most recent call last)",
      "\u001b[0;32m<ipython-input-1-a39221be33bc>\u001b[0m in \u001b[0;36m<module>\u001b[0;34m()\u001b[0m\n\u001b[1;32m      2\u001b[0m \u001b[0;34m\u001b[0m\u001b[0m\n\u001b[1;32m      3\u001b[0m \u001b[0;31m# Linear\u001b[0m\u001b[0;34m\u001b[0m\u001b[0;34m\u001b[0m\u001b[0m\n\u001b[0;32m----> 4\u001b[0;31m \u001b[0mclf\u001b[0m \u001b[0;34m=\u001b[0m \u001b[0msvm\u001b[0m\u001b[0;34m.\u001b[0m\u001b[0mSVC\u001b[0m\u001b[0;34m(\u001b[0m\u001b[0mkernel\u001b[0m\u001b[0;34m=\u001b[0m\u001b[0;34m'linear'\u001b[0m\u001b[0;34m)\u001b[0m\u001b[0;34m\u001b[0m\u001b[0m\n\u001b[0m",
      "\u001b[0;31mNameError\u001b[0m: name 'svm' is not defined"
     ]
    }
   ],
   "source": [
    "# Instantiating the classification object \n",
    "\n",
    "# Linear\n",
    "clf = svm.SVC(kernel='linear')"
   ]
  },
  {
   "cell_type": "code",
   "execution_count": 60,
   "metadata": {},
   "outputs": [
    {
     "data": {
      "text/plain": [
       "SVC(C=1.0, cache_size=200, class_weight=None, coef0=0.0,\n",
       "  decision_function_shape=None, degree=3, gamma='auto', kernel='linear',\n",
       "  max_iter=-1, probability=False, random_state=None, shrinking=True,\n",
       "  tol=0.001, verbose=False)"
      ]
     },
     "execution_count": 60,
     "metadata": {},
     "output_type": "execute_result"
    }
   ],
   "source": [
    "clf.fit(x,y)"
   ]
  },
  {
   "cell_type": "code",
   "execution_count": 61,
   "metadata": {},
   "outputs": [
    {
     "data": {
      "text/plain": [
       "array([ 2.])"
      ]
     },
     "execution_count": 61,
     "metadata": {},
     "output_type": "execute_result"
    }
   ],
   "source": [
    "# Lets predict to \n",
    "clf.predict([[20]])"
   ]
  },
  {
   "cell_type": "markdown",
   "metadata": {},
   "source": [
    "#### Visualization"
   ]
  },
  {
   "cell_type": "code",
   "execution_count": 62,
   "metadata": {
    "collapsed": true
   },
   "outputs": [],
   "source": [
    "# Plotting \n",
    "import matplotlib.pyplot as plt\n",
    "%matplotlib inline "
   ]
  },
  {
   "cell_type": "code",
   "execution_count": 63,
   "metadata": {},
   "outputs": [
    {
     "data": {
      "text/plain": [
       "<matplotlib.collections.PathCollection at 0x10bc89358>"
      ]
     },
     "execution_count": 63,
     "metadata": {},
     "output_type": "execute_result"
    },
    {
     "data": {
      "image/png": "[encoded data removed]",
      "text/plain": [
       "<matplotlib.figure.Figure at 0x10bbbbb70>"
      ]
     },
     "metadata": {},
     "output_type": "display_data"
    }
   ],
   "source": [
    "plt.scatter(x, y, c=y, cmap=plt.cm.coolwarm)"
   ]
  },
  {
   "cell_type": "code",
   "execution_count": null,
   "metadata": {
    "collapsed": true
   },
   "outputs": [],
   "source": []
  },
  {
   "cell_type": "code",
   "execution_count": null,
   "metadata": {
    "collapsed": true
   },
   "outputs": [],
   "source": []
  },
  {
   "cell_type": "markdown",
   "metadata": {},
   "source": [
    "### Classification with Linear Regression"
   ]
  },
  {
   "cell_type": "code",
   "execution_count": 64,
   "metadata": {
    "collapsed": true
   },
   "outputs": [],
   "source": [
    "import pylab as pl\n",
    "import statsmodels.api as sm"
   ]
  },
  {
   "cell_type": "markdown",
   "metadata": {},
   "source": [
    "#### Data Preparation - Local"
   ]
  },
  {
   "cell_type": "code",
   "execution_count": 65,
   "metadata": {},
   "outputs": [
    {
     "data": {
      "text/plain": [
       "array(['Alcohol', 'Malic acid', 'Ash', 'Alcalinity of ash', 'Magnesium',\n",
       "       'Total phenols', 'Flavanoid', 'Nonflavanoid phenols',\n",
       "       'Proanthocyanis', 'Color Intensity', 'Hue', 'OD280/OD315', 'Proline'], dtype=object)"
      ]
     },
     "execution_count": 65,
     "metadata": {},
     "output_type": "execute_result"
    }
   ],
   "source": [
    "wineData.columns.values"
   ]
  },
  {
   "cell_type": "code",
   "execution_count": 66,
   "metadata": {},
   "outputs": [
    {
     "name": "stdout",
     "output_type": "stream",
     "text": [
      "Magnesium  10.6  11.2  11.4  12.0  12.4  13.2  14.0  14.6  14.8  15.0  ...   \\\n",
      "Alcohol                                                                ...    \n",
      "1             0     1     1     1     1     1     2     1     0     1  ...    \n",
      "2             1     0     0     0     0     0     0     0     1     1  ...    \n",
      "3             0     0     0     0     0     0     0     0     0     0  ...    \n",
      "\n",
      "Magnesium  23.6  24.0  24.5  25.0  25.5  26.0  26.5  27.0  28.5  30.0  \n",
      "Alcohol                                                                \n",
      "1             0     0     0     1     0     0     0     0     0     0  \n",
      "2             1     2     1     1     0     1     1     0     2     1  \n",
      "3             0     3     2     3     1     0     0     1     0     0  \n",
      "\n",
      "[3 rows x 63 columns]\n"
     ]
    }
   ],
   "source": [
    "# TODO EXPLAIN CROSS TAB ANALYSIS\n",
    "print(pd.crosstab(wineData['Alcohol'], wineData['Magnesium']))"
   ]
  },
  {
   "cell_type": "code",
   "execution_count": 67,
   "metadata": {
    "collapsed": true
   },
   "outputs": [],
   "source": [
    "# get_dummies creates a new DataFrame with binary indicator \n",
    "# variables for each category/option in the column specified.\n",
    "# Very useful when your categorical variables are nomimal (no ordered)\n",
    "dummy_ranks = pd.get_dummies(wineData['Alcohol'], prefix='Alcohol')"
   ]
  },
  {
   "cell_type": "code",
   "execution_count": 68,
   "metadata": {},
   "outputs": [
    {
     "data": {
      "text/html": [
       "<div>\n",
       "<style>\n",
       "    .dataframe thead tr:only-child th {\n",
       "        text-align: right;\n",
       "    }\n",
       "\n",
       "    .dataframe thead th {\n",
       "        text-align: left;\n",
       "    }\n",
       "\n",
       "    .dataframe tbody tr th {\n",
       "        vertical-align: top;\n",
       "    }\n",
       "</style>\n",
       "<table border=\"1\" class=\"dataframe\">\n",
       "  <thead>\n",
       "    <tr style=\"text-align: right;\">\n",
       "      <th></th>\n",
       "      <th>Alcohol_1</th>\n",
       "      <th>Alcohol_2</th>\n",
       "      <th>Alcohol_3</th>\n",
       "    </tr>\n",
       "  </thead>\n",
       "  <tbody>\n",
       "    <tr>\n",
       "      <th>173</th>\n",
       "      <td>0</td>\n",
       "      <td>0</td>\n",
       "      <td>1</td>\n",
       "    </tr>\n",
       "    <tr>\n",
       "      <th>174</th>\n",
       "      <td>0</td>\n",
       "      <td>0</td>\n",
       "      <td>1</td>\n",
       "    </tr>\n",
       "    <tr>\n",
       "      <th>175</th>\n",
       "      <td>0</td>\n",
       "      <td>0</td>\n",
       "      <td>1</td>\n",
       "    </tr>\n",
       "    <tr>\n",
       "      <th>176</th>\n",
       "      <td>0</td>\n",
       "      <td>0</td>\n",
       "      <td>1</td>\n",
       "    </tr>\n",
       "    <tr>\n",
       "      <th>177</th>\n",
       "      <td>0</td>\n",
       "      <td>0</td>\n",
       "      <td>1</td>\n",
       "    </tr>\n",
       "  </tbody>\n",
       "</table>\n",
       "</div>"
      ],
      "text/plain": [
       "     Alcohol_1  Alcohol_2  Alcohol_3\n",
       "173          0          0          1\n",
       "174          0          0          1\n",
       "175          0          0          1\n",
       "176          0          0          1\n",
       "177          0          0          1"
      ]
     },
     "execution_count": 68,
     "metadata": {},
     "output_type": "execute_result"
    }
   ],
   "source": [
    "dummy_ranks.tail()"
   ]
  },
  {
   "cell_type": "code",
   "execution_count": 69,
   "metadata": {
    "collapsed": true
   },
   "outputs": [],
   "source": [
    "# Coping the dataset to mantain the base dataset\n",
    "data = wineData.iloc[:,0:7].copy()"
   ]
  },
  {
   "cell_type": "code",
   "execution_count": 70,
   "metadata": {
    "collapsed": true
   },
   "outputs": [],
   "source": [
    "# Merging the datasets\n",
    "data = data.join(dummy_ranks.loc[:, 'Alcohol_2':])"
   ]
  },
  {
   "cell_type": "code",
   "execution_count": 71,
   "metadata": {
    "collapsed": true
   },
   "outputs": [],
   "source": [
    "# TODO EXPLAIN INTERCEPT AND THE IMPORTANCE OF IT\n",
    "data['Intercept'] = 1.0"
   ]
  },
  {
   "cell_type": "code",
   "execution_count": 72,
   "metadata": {},
   "outputs": [
    {
     "data": {
      "text/html": [
       "<div>\n",
       "<style>\n",
       "    .dataframe thead tr:only-child th {\n",
       "        text-align: right;\n",
       "    }\n",
       "\n",
       "    .dataframe thead th {\n",
       "        text-align: left;\n",
       "    }\n",
       "\n",
       "    .dataframe tbody tr th {\n",
       "        vertical-align: top;\n",
       "    }\n",
       "</style>\n",
       "<table border=\"1\" class=\"dataframe\">\n",
       "  <thead>\n",
       "    <tr style=\"text-align: right;\">\n",
       "      <th></th>\n",
       "      <th>Alcohol</th>\n",
       "      <th>Malic acid</th>\n",
       "      <th>Ash</th>\n",
       "      <th>Alcalinity of ash</th>\n",
       "      <th>Magnesium</th>\n",
       "      <th>Total phenols</th>\n",
       "      <th>Flavanoid</th>\n",
       "      <th>Alcohol_2</th>\n",
       "      <th>Alcohol_3</th>\n",
       "      <th>Intercept</th>\n",
       "    </tr>\n",
       "  </thead>\n",
       "  <tbody>\n",
       "    <tr>\n",
       "      <th>0</th>\n",
       "      <td>1</td>\n",
       "      <td>14.23</td>\n",
       "      <td>1.71</td>\n",
       "      <td>2.43</td>\n",
       "      <td>15.6</td>\n",
       "      <td>127</td>\n",
       "      <td>2.80</td>\n",
       "      <td>0</td>\n",
       "      <td>0</td>\n",
       "      <td>1.0</td>\n",
       "    </tr>\n",
       "    <tr>\n",
       "      <th>1</th>\n",
       "      <td>1</td>\n",
       "      <td>13.20</td>\n",
       "      <td>1.78</td>\n",
       "      <td>2.14</td>\n",
       "      <td>11.2</td>\n",
       "      <td>100</td>\n",
       "      <td>2.65</td>\n",
       "      <td>0</td>\n",
       "      <td>0</td>\n",
       "      <td>1.0</td>\n",
       "    </tr>\n",
       "  </tbody>\n",
       "</table>\n",
       "</div>"
      ],
      "text/plain": [
       "   Alcohol  Malic acid   Ash  Alcalinity of ash  Magnesium  Total phenols  \\\n",
       "0        1       14.23  1.71               2.43       15.6            127   \n",
       "1        1       13.20  1.78               2.14       11.2            100   \n",
       "\n",
       "   Flavanoid  Alcohol_2  Alcohol_3  Intercept  \n",
       "0       2.80          0          0        1.0  \n",
       "1       2.65          0          0        1.0  "
      ]
     },
     "execution_count": 72,
     "metadata": {},
     "output_type": "execute_result"
    }
   ],
   "source": [
    "data.head(2)"
   ]
  },
  {
   "cell_type": "markdown",
   "metadata": {},
   "source": [
    "#### Modeling"
   ]
  },
  {
   "cell_type": "code",
   "execution_count": 73,
   "metadata": {
    "collapsed": true
   },
   "outputs": [],
   "source": [
    "from sklearn.model_selection import train_test_split\n",
    "\n",
    "def ClassificationLR(dataset):\n",
    "\n",
    "    # Spliting the data into train and test\n",
    "    # 80% -> Training \n",
    "    # 20% -> Testing\n",
    "    \n",
    "    #trainData = dataset.iloc[:int(len(dataset)*.8),:]\n",
    "    #testData = dataset.iloc[int(len(dataset)*.8+1):]\n",
    "    trainData, testData = train_test_split(dataset, test_size = 0.3)\n",
    "    \n",
    "    # Linear regression\n",
    "    # On the train data the dependet variable and the intercept are removed\n",
    "    lr = sm.OLS(trainData['Alcohol'], trainData.iloc[:,1:-1])\n",
    "\n",
    "    # Fitting\n",
    "    res = lr.fit()\n",
    "\n",
    "    print(res.summary())\n",
    " \n",
    "    # Generating the odds ratio, based on the exponential of each coefficient \n",
    "    print(\"\\n-----\\nOdds Ratio\\n\")\n",
    "    print(np.exp(res.params))\n",
    "    \n",
    "    # Adding the predicted values on another colunm\n",
    "    dataset['Admit Pred'] = res.predict((testData.iloc[:,2:]))\n",
    "    \n",
    "    #print(res.predict(testData.iloc[:,2:]))\n",
    "    return res, dataset"
   ]
  },
  {
   "cell_type": "code",
   "execution_count": 74,
   "metadata": {},
   "outputs": [
    {
     "name": "stdout",
     "output_type": "stream",
     "text": [
      "                            OLS Regression Results                            \n",
      "==============================================================================\n",
      "Dep. Variable:                Alcohol   R-squared:                       1.000\n",
      "Model:                            OLS   Adj. R-squared:                  1.000\n",
      "Method:                 Least Squares   F-statistic:                 5.830e+04\n",
      "Date:                Thu, 01 Jun 2017   Prob (F-statistic):          3.18e-205\n",
      "Time:                        10:54:08   Log-Likelihood:                 248.79\n",
      "No. Observations:                 124   AIC:                            -481.6\n",
      "Df Residuals:                     116   BIC:                            -459.0\n",
      "Df Model:                           8                                         \n",
      "Covariance Type:            nonrobust                                         \n",
      "=====================================================================================\n",
      "                        coef    std err          t      P>|t|      [0.025      0.975]\n",
      "-------------------------------------------------------------------------------------\n",
      "Malic acid            0.0605      0.003     23.510      0.000       0.055       0.066\n",
      "Ash                  -0.0025      0.003     -0.752      0.454      -0.009       0.004\n",
      "Alcalinity of ash     0.0355      0.016      2.194      0.030       0.003       0.068\n",
      "Magnesium             0.0010      0.002      0.665      0.507      -0.002       0.004\n",
      "Total phenols         0.0004      0.000      1.702      0.091   -7.07e-05       0.001\n",
      "Flavanoid             0.0080      0.007      1.085      0.280      -0.007       0.023\n",
      "Alcohol_2             1.1080      0.009    118.289      0.000       1.089       1.127\n",
      "Alcohol_3             2.0502      0.013    159.050      0.000       2.025       2.076\n",
      "==============================================================================\n",
      "Omnibus:                        1.573   Durbin-Watson:                   2.142\n",
      "Prob(Omnibus):                  0.455   Jarque-Bera (JB):                1.299\n",
      "Skew:                           0.049   Prob(JB):                        0.522\n",
      "Kurtosis:                       2.508   Cond. No.                         601.\n",
      "==============================================================================\n",
      "\n",
      "Warnings:\n",
      "[1] Standard Errors assume that the covariance matrix of the errors is correctly specified.\n",
      "\n",
      "-----\n",
      "Odds Ratio\n",
      "\n",
      "Malic acid           1.062412\n",
      "Ash                  0.997470\n",
      "Alcalinity of ash    1.036188\n",
      "Magnesium            1.001008\n",
      "Total phenols        1.000432\n",
      "Flavanoid            1.008018\n",
      "Alcohol_2            3.028409\n",
      "Alcohol_3            7.769232\n",
      "dtype: float64\n"
     ]
    },
    {
     "data": {
      "text/plain": [
       "(<statsmodels.regression.linear_model.RegressionResultsWrapper at 0x10bb7f588>,\n",
       "      Alcohol  Malic acid   Ash  Alcalinity of ash  Magnesium  Total phenols  \\\n",
       " 0          1       14.23  1.71               2.43       15.6            127   \n",
       " 1          1       13.20  1.78               2.14       11.2            100   \n",
       " 2          1       13.16  2.36               2.67       18.6            101   \n",
       " 3          1       14.37  1.95               2.50       16.8            113   \n",
       " 4          1       13.24  2.59               2.87       21.0            118   \n",
       " 5          1       14.20  1.76               2.45       15.2            112   \n",
       " 6          1       14.39  1.87               2.45       14.6             96   \n",
       " 7          1       14.06  2.15               2.61       17.6            121   \n",
       " 8          1       14.83  1.64               2.17       14.0             97   \n",
       " 9          1       13.86  1.35               2.27       16.0             98   \n",
       " 10         1       14.10  2.16               2.30       18.0            105   \n",
       " 11         1       14.12  1.48               2.32       16.8             95   \n",
       " 12         1       13.75  1.73               2.41       16.0             89   \n",
       " 13         1       14.75  1.73               2.39       11.4             91   \n",
       " 14         1       14.38  1.87               2.38       12.0            102   \n",
       " 15         1       13.63  1.81               2.70       17.2            112   \n",
       " 16         1       14.30  1.92               2.72       20.0            120   \n",
       " 17         1       13.83  1.57               2.62       20.0            115   \n",
       " 18         1       14.19  1.59               2.48       16.5            108   \n",
       " 19         1       13.64  3.10               2.56       15.2            116   \n",
       " 20         1       14.06  1.63               2.28       16.0            126   \n",
       " 21         1       12.93  3.80               2.65       18.6            102   \n",
       " 22         1       13.71  1.86               2.36       16.6            101   \n",
       " 23         1       12.85  1.60               2.52       17.8             95   \n",
       " 24         1       13.50  1.81               2.61       20.0             96   \n",
       " 25         1       13.05  2.05               3.22       25.0            124   \n",
       " 26         1       13.39  1.77               2.62       16.1             93   \n",
       " 27         1       13.30  1.72               2.14       17.0             94   \n",
       " 28         1       13.87  1.90               2.80       19.4            107   \n",
       " 29         1       14.02  1.68               2.21       16.0             96   \n",
       " ..       ...         ...   ...                ...        ...            ...   \n",
       " 148        3       13.32  3.24               2.38       21.5             92   \n",
       " 149        3       13.08  3.90               2.36       21.5            113   \n",
       " 150        3       13.50  3.12               2.62       24.0            123   \n",
       " 151        3       12.79  2.67               2.48       22.0            112   \n",
       " 152        3       13.11  1.90               2.75       25.5            116   \n",
       " 153        3       13.23  3.30               2.28       18.5             98   \n",
       " 154        3       12.58  1.29               2.10       20.0            103   \n",
       " 155        3       13.17  5.19               2.32       22.0             93   \n",
       " 156        3       13.84  4.12               2.38       19.5             89   \n",
       " 157        3       12.45  3.03               2.64       27.0             97   \n",
       " 158        3       14.34  1.68               2.70       25.0             98   \n",
       " 159        3       13.48  1.67               2.64       22.5             89   \n",
       " 160        3       12.36  3.83               2.38       21.0             88   \n",
       " 161        3       13.69  3.26               2.54       20.0            107   \n",
       " 162        3       12.85  3.27               2.58       22.0            106   \n",
       " 163        3       12.96  3.45               2.35       18.5            106   \n",
       " 164        3       13.78  2.76               2.30       22.0             90   \n",
       " 165        3       13.73  4.36               2.26       22.5             88   \n",
       " 166        3       13.45  3.70               2.60       23.0            111   \n",
       " 167        3       12.82  3.37               2.30       19.5             88   \n",
       " 168        3       13.58  2.58               2.69       24.5            105   \n",
       " 169        3       13.40  4.60               2.86       25.0            112   \n",
       " 170        3       12.20  3.03               2.32       19.0             96   \n",
       " 171        3       12.77  2.39               2.28       19.5             86   \n",
       " 172        3       14.16  2.51               2.48       20.0             91   \n",
       " 173        3       13.71  5.65               2.45       20.5             95   \n",
       " 174        3       13.40  3.91               2.48       23.0            102   \n",
       " 175        3       13.27  4.28               2.26       20.0            120   \n",
       " 176        3       13.17  2.59               2.37       20.0            120   \n",
       " 177        3       14.13  4.10               2.74       24.5             96   \n",
       " \n",
       "      Flavanoid  Alcohol_2  Alcohol_3  Intercept  Admit Pred  \n",
       " 0         2.80          0          0        1.0    2.831296  \n",
       " 1         2.65          0          0        1.0         NaN  \n",
       " 2         2.80          0          0        1.0         NaN  \n",
       " 3         3.85          0          0        1.0         NaN  \n",
       " 4         2.80          0          0        1.0         NaN  \n",
       " 5         3.27          0          0        1.0         NaN  \n",
       " 6         2.50          0          0        1.0         NaN  \n",
       " 7         2.60          0          0        1.0         NaN  \n",
       " 8         2.80          0          0        1.0    2.740607  \n",
       " 9         2.98          0          0        1.0         NaN  \n",
       " 10        2.95          0          0        1.0         NaN  \n",
       " 11        2.20          0          0        1.0         NaN  \n",
       " 12        2.60          0          0        1.0         NaN  \n",
       " 13        3.10          0          0        1.0         NaN  \n",
       " 14        3.30          0          0        1.0         NaN  \n",
       " 15        2.85          0          0        1.0         NaN  \n",
       " 16        2.80          0          0        1.0         NaN  \n",
       " 17        2.95          0          0        1.0         NaN  \n",
       " 18        3.30          0          0        1.0         NaN  \n",
       " 19        2.70          0          0        1.0         NaN  \n",
       " 20        3.00          0          0        1.0         NaN  \n",
       " 21        2.41          0          0        1.0         NaN  \n",
       " 22        2.61          0          0        1.0         NaN  \n",
       " 23        2.48          0          0        1.0         NaN  \n",
       " 24        2.53          0          0        1.0    2.961953  \n",
       " 25        2.63          0          0        1.0    3.180942  \n",
       " 26        2.85          0          0        1.0         NaN  \n",
       " 27        2.40          0          0        1.0         NaN  \n",
       " 28        2.95          0          0        1.0         NaN  \n",
       " 29        2.65          0          0        1.0    2.812952  \n",
       " ..         ...        ...        ...        ...         ...  \n",
       " 148       1.93          0          1        1.0         NaN  \n",
       " 149       1.41          0          1        1.0         NaN  \n",
       " 150       1.40          0          1        1.0         NaN  \n",
       " 151       1.48          0          1        1.0         NaN  \n",
       " 152       2.20          0          1        1.0         NaN  \n",
       " 153       1.80          0          1        1.0         NaN  \n",
       " 154       1.48          0          1        1.0         NaN  \n",
       " 155       1.74          0          1        1.0         NaN  \n",
       " 156       1.80          0          1        1.0         NaN  \n",
       " 157       1.90          0          1        1.0    4.393354  \n",
       " 158       2.80          0          1        1.0    4.241769  \n",
       " 159       2.60          0          1        1.0    4.143287  \n",
       " 160       2.30          0          1        1.0         NaN  \n",
       " 161       1.83          0          1        1.0         NaN  \n",
       " 162       1.65          0          1        1.0    4.239253  \n",
       " 163       1.39          0          1        1.0    4.126199  \n",
       " 164       1.35          0          1        1.0         NaN  \n",
       " 165       1.28          0          1        1.0    4.305529  \n",
       " 166       1.70          0          1        1.0         NaN  \n",
       " 167       1.48          0          1        1.0         NaN  \n",
       " 168       1.55          0          1        1.0         NaN  \n",
       " 169       1.98          0          1        1.0         NaN  \n",
       " 170       1.25          0          1        1.0         NaN  \n",
       " 171       1.39          0          1        1.0         NaN  \n",
       " 172       1.68          0          1        1.0    4.107294  \n",
       " 173       1.68          0          1        1.0    4.319276  \n",
       " 174       1.80          0          1        1.0         NaN  \n",
       " 175       1.59          0          1        1.0         NaN  \n",
       " 176       1.65          0          1        1.0    4.141627  \n",
       " 177       2.05          0          1        1.0         NaN  \n",
       " \n",
       " [178 rows x 11 columns])"
      ]
     },
     "execution_count": 74,
     "metadata": {},
     "output_type": "execute_result"
    }
   ],
   "source": [
    "ClassificationLR(data)"
   ]
  },
  {
   "cell_type": "code",
   "execution_count": 75,
   "metadata": {
    "scrolled": true
   },
   "outputs": [
    {
     "data": {
      "text/html": [
       "<div>\n",
       "<style>\n",
       "    .dataframe thead tr:only-child th {\n",
       "        text-align: right;\n",
       "    }\n",
       "\n",
       "    .dataframe thead th {\n",
       "        text-align: left;\n",
       "    }\n",
       "\n",
       "    .dataframe tbody tr th {\n",
       "        vertical-align: top;\n",
       "    }\n",
       "</style>\n",
       "<table border=\"1\" class=\"dataframe\">\n",
       "  <thead>\n",
       "    <tr style=\"text-align: right;\">\n",
       "      <th></th>\n",
       "      <th>Alcohol</th>\n",
       "      <th>Malic acid</th>\n",
       "      <th>Ash</th>\n",
       "      <th>Alcalinity of ash</th>\n",
       "      <th>Magnesium</th>\n",
       "      <th>Total phenols</th>\n",
       "      <th>Flavanoid</th>\n",
       "      <th>Alcohol_2</th>\n",
       "      <th>Alcohol_3</th>\n",
       "      <th>Intercept</th>\n",
       "      <th>Admit Pred</th>\n",
       "    </tr>\n",
       "  </thead>\n",
       "  <tbody>\n",
       "    <tr>\n",
       "      <th>0</th>\n",
       "      <td>1</td>\n",
       "      <td>14.23</td>\n",
       "      <td>1.71</td>\n",
       "      <td>2.43</td>\n",
       "      <td>15.6</td>\n",
       "      <td>127</td>\n",
       "      <td>2.80</td>\n",
       "      <td>0</td>\n",
       "      <td>0</td>\n",
       "      <td>1.0</td>\n",
       "      <td>2.831296</td>\n",
       "    </tr>\n",
       "    <tr>\n",
       "      <th>8</th>\n",
       "      <td>1</td>\n",
       "      <td>14.83</td>\n",
       "      <td>1.64</td>\n",
       "      <td>2.17</td>\n",
       "      <td>14.0</td>\n",
       "      <td>97</td>\n",
       "      <td>2.80</td>\n",
       "      <td>0</td>\n",
       "      <td>0</td>\n",
       "      <td>1.0</td>\n",
       "      <td>2.740607</td>\n",
       "    </tr>\n",
       "    <tr>\n",
       "      <th>24</th>\n",
       "      <td>1</td>\n",
       "      <td>13.50</td>\n",
       "      <td>1.81</td>\n",
       "      <td>2.61</td>\n",
       "      <td>20.0</td>\n",
       "      <td>96</td>\n",
       "      <td>2.53</td>\n",
       "      <td>0</td>\n",
       "      <td>0</td>\n",
       "      <td>1.0</td>\n",
       "      <td>2.961953</td>\n",
       "    </tr>\n",
       "    <tr>\n",
       "      <th>25</th>\n",
       "      <td>1</td>\n",
       "      <td>13.05</td>\n",
       "      <td>2.05</td>\n",
       "      <td>3.22</td>\n",
       "      <td>25.0</td>\n",
       "      <td>124</td>\n",
       "      <td>2.63</td>\n",
       "      <td>0</td>\n",
       "      <td>0</td>\n",
       "      <td>1.0</td>\n",
       "      <td>3.180942</td>\n",
       "    </tr>\n",
       "    <tr>\n",
       "      <th>29</th>\n",
       "      <td>1</td>\n",
       "      <td>14.02</td>\n",
       "      <td>1.68</td>\n",
       "      <td>2.21</td>\n",
       "      <td>16.0</td>\n",
       "      <td>96</td>\n",
       "      <td>2.65</td>\n",
       "      <td>0</td>\n",
       "      <td>0</td>\n",
       "      <td>1.0</td>\n",
       "      <td>2.812952</td>\n",
       "    </tr>\n",
       "    <tr>\n",
       "      <th>34</th>\n",
       "      <td>1</td>\n",
       "      <td>13.51</td>\n",
       "      <td>1.80</td>\n",
       "      <td>2.65</td>\n",
       "      <td>19.0</td>\n",
       "      <td>110</td>\n",
       "      <td>2.35</td>\n",
       "      <td>0</td>\n",
       "      <td>0</td>\n",
       "      <td>1.0</td>\n",
       "      <td>2.939728</td>\n",
       "    </tr>\n",
       "    <tr>\n",
       "      <th>36</th>\n",
       "      <td>1</td>\n",
       "      <td>13.28</td>\n",
       "      <td>1.64</td>\n",
       "      <td>2.84</td>\n",
       "      <td>15.5</td>\n",
       "      <td>110</td>\n",
       "      <td>2.60</td>\n",
       "      <td>0</td>\n",
       "      <td>0</td>\n",
       "      <td>1.0</td>\n",
       "      <td>2.805247</td>\n",
       "    </tr>\n",
       "    <tr>\n",
       "      <th>42</th>\n",
       "      <td>1</td>\n",
       "      <td>13.88</td>\n",
       "      <td>1.89</td>\n",
       "      <td>2.59</td>\n",
       "      <td>15.0</td>\n",
       "      <td>101</td>\n",
       "      <td>3.25</td>\n",
       "      <td>0</td>\n",
       "      <td>0</td>\n",
       "      <td>1.0</td>\n",
       "      <td>2.794452</td>\n",
       "    </tr>\n",
       "    <tr>\n",
       "      <th>45</th>\n",
       "      <td>1</td>\n",
       "      <td>14.21</td>\n",
       "      <td>4.04</td>\n",
       "      <td>2.44</td>\n",
       "      <td>18.9</td>\n",
       "      <td>111</td>\n",
       "      <td>2.85</td>\n",
       "      <td>0</td>\n",
       "      <td>0</td>\n",
       "      <td>1.0</td>\n",
       "      <td>3.073542</td>\n",
       "    </tr>\n",
       "    <tr>\n",
       "      <th>47</th>\n",
       "      <td>1</td>\n",
       "      <td>13.90</td>\n",
       "      <td>1.68</td>\n",
       "      <td>2.12</td>\n",
       "      <td>16.0</td>\n",
       "      <td>101</td>\n",
       "      <td>3.10</td>\n",
       "      <td>0</td>\n",
       "      <td>0</td>\n",
       "      <td>1.0</td>\n",
       "      <td>2.818413</td>\n",
       "    </tr>\n",
       "    <tr>\n",
       "      <th>51</th>\n",
       "      <td>1</td>\n",
       "      <td>13.83</td>\n",
       "      <td>1.65</td>\n",
       "      <td>2.60</td>\n",
       "      <td>17.2</td>\n",
       "      <td>94</td>\n",
       "      <td>2.45</td>\n",
       "      <td>0</td>\n",
       "      <td>0</td>\n",
       "      <td>1.0</td>\n",
       "      <td>2.850705</td>\n",
       "    </tr>\n",
       "    <tr>\n",
       "      <th>53</th>\n",
       "      <td>1</td>\n",
       "      <td>13.77</td>\n",
       "      <td>1.90</td>\n",
       "      <td>2.68</td>\n",
       "      <td>17.1</td>\n",
       "      <td>115</td>\n",
       "      <td>3.00</td>\n",
       "      <td>0</td>\n",
       "      <td>0</td>\n",
       "      <td>1.0</td>\n",
       "      <td>2.883483</td>\n",
       "    </tr>\n",
       "    <tr>\n",
       "      <th>56</th>\n",
       "      <td>1</td>\n",
       "      <td>14.22</td>\n",
       "      <td>1.70</td>\n",
       "      <td>2.30</td>\n",
       "      <td>16.3</td>\n",
       "      <td>118</td>\n",
       "      <td>3.20</td>\n",
       "      <td>0</td>\n",
       "      <td>0</td>\n",
       "      <td>1.0</td>\n",
       "      <td>2.847007</td>\n",
       "    </tr>\n",
       "    <tr>\n",
       "      <th>64</th>\n",
       "      <td>2</td>\n",
       "      <td>12.17</td>\n",
       "      <td>1.45</td>\n",
       "      <td>2.53</td>\n",
       "      <td>19.0</td>\n",
       "      <td>104</td>\n",
       "      <td>1.89</td>\n",
       "      <td>1</td>\n",
       "      <td>0</td>\n",
       "      <td>1.0</td>\n",
       "      <td>2.920584</td>\n",
       "    </tr>\n",
       "    <tr>\n",
       "      <th>68</th>\n",
       "      <td>2</td>\n",
       "      <td>13.34</td>\n",
       "      <td>0.94</td>\n",
       "      <td>2.36</td>\n",
       "      <td>17.0</td>\n",
       "      <td>110</td>\n",
       "      <td>2.53</td>\n",
       "      <td>1</td>\n",
       "      <td>0</td>\n",
       "      <td>1.0</td>\n",
       "      <td>2.825363</td>\n",
       "    </tr>\n",
       "    <tr>\n",
       "      <th>69</th>\n",
       "      <td>2</td>\n",
       "      <td>12.21</td>\n",
       "      <td>1.19</td>\n",
       "      <td>1.75</td>\n",
       "      <td>16.8</td>\n",
       "      <td>151</td>\n",
       "      <td>1.85</td>\n",
       "      <td>1</td>\n",
       "      <td>0</td>\n",
       "      <td>1.0</td>\n",
       "      <td>2.875957</td>\n",
       "    </tr>\n",
       "    <tr>\n",
       "      <th>70</th>\n",
       "      <td>2</td>\n",
       "      <td>12.29</td>\n",
       "      <td>1.61</td>\n",
       "      <td>2.21</td>\n",
       "      <td>20.4</td>\n",
       "      <td>103</td>\n",
       "      <td>1.10</td>\n",
       "      <td>1</td>\n",
       "      <td>0</td>\n",
       "      <td>1.0</td>\n",
       "      <td>2.979501</td>\n",
       "    </tr>\n",
       "    <tr>\n",
       "      <th>71</th>\n",
       "      <td>2</td>\n",
       "      <td>13.86</td>\n",
       "      <td>1.51</td>\n",
       "      <td>2.67</td>\n",
       "      <td>25.0</td>\n",
       "      <td>86</td>\n",
       "      <td>2.95</td>\n",
       "      <td>1</td>\n",
       "      <td>0</td>\n",
       "      <td>1.0</td>\n",
       "      <td>3.119474</td>\n",
       "    </tr>\n",
       "    <tr>\n",
       "      <th>73</th>\n",
       "      <td>2</td>\n",
       "      <td>12.99</td>\n",
       "      <td>1.67</td>\n",
       "      <td>2.60</td>\n",
       "      <td>30.0</td>\n",
       "      <td>139</td>\n",
       "      <td>3.30</td>\n",
       "      <td>1</td>\n",
       "      <td>0</td>\n",
       "      <td>1.0</td>\n",
       "      <td>3.360643</td>\n",
       "    </tr>\n",
       "    <tr>\n",
       "      <th>76</th>\n",
       "      <td>2</td>\n",
       "      <td>13.03</td>\n",
       "      <td>0.90</td>\n",
       "      <td>1.71</td>\n",
       "      <td>16.0</td>\n",
       "      <td>86</td>\n",
       "      <td>1.95</td>\n",
       "      <td>1</td>\n",
       "      <td>0</td>\n",
       "      <td>1.0</td>\n",
       "      <td>2.764603</td>\n",
       "    </tr>\n",
       "    <tr>\n",
       "      <th>79</th>\n",
       "      <td>2</td>\n",
       "      <td>12.70</td>\n",
       "      <td>3.87</td>\n",
       "      <td>2.40</td>\n",
       "      <td>23.0</td>\n",
       "      <td>101</td>\n",
       "      <td>2.83</td>\n",
       "      <td>1</td>\n",
       "      <td>0</td>\n",
       "      <td>1.0</td>\n",
       "      <td>3.207002</td>\n",
       "    </tr>\n",
       "    <tr>\n",
       "      <th>82</th>\n",
       "      <td>2</td>\n",
       "      <td>12.08</td>\n",
       "      <td>1.13</td>\n",
       "      <td>2.51</td>\n",
       "      <td>24.0</td>\n",
       "      <td>78</td>\n",
       "      <td>2.00</td>\n",
       "      <td>1</td>\n",
       "      <td>0</td>\n",
       "      <td>1.0</td>\n",
       "      <td>3.052852</td>\n",
       "    </tr>\n",
       "    <tr>\n",
       "      <th>85</th>\n",
       "      <td>2</td>\n",
       "      <td>12.67</td>\n",
       "      <td>0.98</td>\n",
       "      <td>2.24</td>\n",
       "      <td>18.0</td>\n",
       "      <td>99</td>\n",
       "      <td>2.20</td>\n",
       "      <td>1</td>\n",
       "      <td>0</td>\n",
       "      <td>1.0</td>\n",
       "      <td>2.852410</td>\n",
       "    </tr>\n",
       "    <tr>\n",
       "      <th>86</th>\n",
       "      <td>2</td>\n",
       "      <td>12.16</td>\n",
       "      <td>1.61</td>\n",
       "      <td>2.31</td>\n",
       "      <td>22.8</td>\n",
       "      <td>90</td>\n",
       "      <td>1.78</td>\n",
       "      <td>1</td>\n",
       "      <td>0</td>\n",
       "      <td>1.0</td>\n",
       "      <td>3.051758</td>\n",
       "    </tr>\n",
       "    <tr>\n",
       "      <th>89</th>\n",
       "      <td>2</td>\n",
       "      <td>12.08</td>\n",
       "      <td>1.33</td>\n",
       "      <td>2.30</td>\n",
       "      <td>23.6</td>\n",
       "      <td>70</td>\n",
       "      <td>2.20</td>\n",
       "      <td>1</td>\n",
       "      <td>0</td>\n",
       "      <td>1.0</td>\n",
       "      <td>3.043297</td>\n",
       "    </tr>\n",
       "    <tr>\n",
       "      <th>90</th>\n",
       "      <td>2</td>\n",
       "      <td>12.08</td>\n",
       "      <td>1.83</td>\n",
       "      <td>2.32</td>\n",
       "      <td>18.5</td>\n",
       "      <td>81</td>\n",
       "      <td>1.60</td>\n",
       "      <td>1</td>\n",
       "      <td>0</td>\n",
       "      <td>1.0</td>\n",
       "      <td>2.903044</td>\n",
       "    </tr>\n",
       "    <tr>\n",
       "      <th>92</th>\n",
       "      <td>2</td>\n",
       "      <td>12.69</td>\n",
       "      <td>1.53</td>\n",
       "      <td>2.26</td>\n",
       "      <td>20.7</td>\n",
       "      <td>80</td>\n",
       "      <td>1.38</td>\n",
       "      <td>1</td>\n",
       "      <td>0</td>\n",
       "      <td>1.0</td>\n",
       "      <td>2.962139</td>\n",
       "    </tr>\n",
       "    <tr>\n",
       "      <th>96</th>\n",
       "      <td>2</td>\n",
       "      <td>11.81</td>\n",
       "      <td>2.12</td>\n",
       "      <td>2.74</td>\n",
       "      <td>21.5</td>\n",
       "      <td>134</td>\n",
       "      <td>1.60</td>\n",
       "      <td>1</td>\n",
       "      <td>0</td>\n",
       "      <td>1.0</td>\n",
       "      <td>3.079594</td>\n",
       "    </tr>\n",
       "    <tr>\n",
       "      <th>102</th>\n",
       "      <td>2</td>\n",
       "      <td>12.34</td>\n",
       "      <td>2.45</td>\n",
       "      <td>2.46</td>\n",
       "      <td>21.0</td>\n",
       "      <td>98</td>\n",
       "      <td>2.56</td>\n",
       "      <td>1</td>\n",
       "      <td>0</td>\n",
       "      <td>1.0</td>\n",
       "      <td>3.046644</td>\n",
       "    </tr>\n",
       "    <tr>\n",
       "      <th>104</th>\n",
       "      <td>2</td>\n",
       "      <td>12.51</td>\n",
       "      <td>1.73</td>\n",
       "      <td>1.98</td>\n",
       "      <td>20.5</td>\n",
       "      <td>85</td>\n",
       "      <td>2.20</td>\n",
       "      <td>1</td>\n",
       "      <td>0</td>\n",
       "      <td>1.0</td>\n",
       "      <td>2.973239</td>\n",
       "    </tr>\n",
       "    <tr>\n",
       "      <th>107</th>\n",
       "      <td>2</td>\n",
       "      <td>12.72</td>\n",
       "      <td>1.75</td>\n",
       "      <td>2.28</td>\n",
       "      <td>22.5</td>\n",
       "      <td>84</td>\n",
       "      <td>1.38</td>\n",
       "      <td>1</td>\n",
       "      <td>0</td>\n",
       "      <td>1.0</td>\n",
       "      <td>3.043426</td>\n",
       "    </tr>\n",
       "    <tr>\n",
       "      <th>108</th>\n",
       "      <td>2</td>\n",
       "      <td>12.22</td>\n",
       "      <td>1.29</td>\n",
       "      <td>1.94</td>\n",
       "      <td>19.0</td>\n",
       "      <td>92</td>\n",
       "      <td>2.36</td>\n",
       "      <td>1</td>\n",
       "      <td>0</td>\n",
       "      <td>1.0</td>\n",
       "      <td>2.900502</td>\n",
       "    </tr>\n",
       "    <tr>\n",
       "      <th>114</th>\n",
       "      <td>2</td>\n",
       "      <td>12.08</td>\n",
       "      <td>1.39</td>\n",
       "      <td>2.50</td>\n",
       "      <td>22.5</td>\n",
       "      <td>84</td>\n",
       "      <td>2.56</td>\n",
       "      <td>1</td>\n",
       "      <td>0</td>\n",
       "      <td>1.0</td>\n",
       "      <td>3.021583</td>\n",
       "    </tr>\n",
       "    <tr>\n",
       "      <th>116</th>\n",
       "      <td>2</td>\n",
       "      <td>11.82</td>\n",
       "      <td>1.47</td>\n",
       "      <td>1.99</td>\n",
       "      <td>20.8</td>\n",
       "      <td>86</td>\n",
       "      <td>1.98</td>\n",
       "      <td>1</td>\n",
       "      <td>0</td>\n",
       "      <td>1.0</td>\n",
       "      <td>2.969050</td>\n",
       "    </tr>\n",
       "    <tr>\n",
       "      <th>117</th>\n",
       "      <td>2</td>\n",
       "      <td>12.42</td>\n",
       "      <td>1.61</td>\n",
       "      <td>2.19</td>\n",
       "      <td>22.5</td>\n",
       "      <td>108</td>\n",
       "      <td>2.00</td>\n",
       "      <td>1</td>\n",
       "      <td>0</td>\n",
       "      <td>1.0</td>\n",
       "      <td>3.059631</td>\n",
       "    </tr>\n",
       "    <tr>\n",
       "      <th>118</th>\n",
       "      <td>2</td>\n",
       "      <td>12.77</td>\n",
       "      <td>3.43</td>\n",
       "      <td>1.98</td>\n",
       "      <td>16.0</td>\n",
       "      <td>80</td>\n",
       "      <td>1.63</td>\n",
       "      <td>1</td>\n",
       "      <td>0</td>\n",
       "      <td>1.0</td>\n",
       "      <td>2.910905</td>\n",
       "    </tr>\n",
       "    <tr>\n",
       "      <th>120</th>\n",
       "      <td>2</td>\n",
       "      <td>11.45</td>\n",
       "      <td>2.40</td>\n",
       "      <td>2.42</td>\n",
       "      <td>20.0</td>\n",
       "      <td>96</td>\n",
       "      <td>2.90</td>\n",
       "      <td>1</td>\n",
       "      <td>0</td>\n",
       "      <td>1.0</td>\n",
       "      <td>3.006300</td>\n",
       "    </tr>\n",
       "    <tr>\n",
       "      <th>124</th>\n",
       "      <td>2</td>\n",
       "      <td>11.87</td>\n",
       "      <td>4.31</td>\n",
       "      <td>2.39</td>\n",
       "      <td>21.0</td>\n",
       "      <td>82</td>\n",
       "      <td>2.86</td>\n",
       "      <td>1</td>\n",
       "      <td>0</td>\n",
       "      <td>1.0</td>\n",
       "      <td>3.143434</td>\n",
       "    </tr>\n",
       "    <tr>\n",
       "      <th>128</th>\n",
       "      <td>2</td>\n",
       "      <td>12.37</td>\n",
       "      <td>1.63</td>\n",
       "      <td>2.30</td>\n",
       "      <td>24.5</td>\n",
       "      <td>88</td>\n",
       "      <td>2.22</td>\n",
       "      <td>1</td>\n",
       "      <td>0</td>\n",
       "      <td>1.0</td>\n",
       "      <td>3.111602</td>\n",
       "    </tr>\n",
       "    <tr>\n",
       "      <th>129</th>\n",
       "      <td>2</td>\n",
       "      <td>12.04</td>\n",
       "      <td>4.30</td>\n",
       "      <td>2.38</td>\n",
       "      <td>22.0</td>\n",
       "      <td>80</td>\n",
       "      <td>2.10</td>\n",
       "      <td>1</td>\n",
       "      <td>0</td>\n",
       "      <td>1.0</td>\n",
       "      <td>3.176060</td>\n",
       "    </tr>\n",
       "    <tr>\n",
       "      <th>130</th>\n",
       "      <td>3</td>\n",
       "      <td>12.86</td>\n",
       "      <td>1.35</td>\n",
       "      <td>2.32</td>\n",
       "      <td>18.0</td>\n",
       "      <td>122</td>\n",
       "      <td>1.51</td>\n",
       "      <td>0</td>\n",
       "      <td>1</td>\n",
       "      <td>1.0</td>\n",
       "      <td>3.997539</td>\n",
       "    </tr>\n",
       "    <tr>\n",
       "      <th>131</th>\n",
       "      <td>3</td>\n",
       "      <td>12.88</td>\n",
       "      <td>2.99</td>\n",
       "      <td>2.40</td>\n",
       "      <td>20.0</td>\n",
       "      <td>104</td>\n",
       "      <td>1.30</td>\n",
       "      <td>0</td>\n",
       "      <td>1</td>\n",
       "      <td>1.0</td>\n",
       "      <td>4.149493</td>\n",
       "    </tr>\n",
       "    <tr>\n",
       "      <th>136</th>\n",
       "      <td>3</td>\n",
       "      <td>12.25</td>\n",
       "      <td>4.72</td>\n",
       "      <td>2.54</td>\n",
       "      <td>21.0</td>\n",
       "      <td>89</td>\n",
       "      <td>1.38</td>\n",
       "      <td>0</td>\n",
       "      <td>1</td>\n",
       "      <td>1.0</td>\n",
       "      <td>4.274343</td>\n",
       "    </tr>\n",
       "    <tr>\n",
       "      <th>141</th>\n",
       "      <td>3</td>\n",
       "      <td>13.36</td>\n",
       "      <td>2.56</td>\n",
       "      <td>2.35</td>\n",
       "      <td>20.0</td>\n",
       "      <td>89</td>\n",
       "      <td>1.40</td>\n",
       "      <td>0</td>\n",
       "      <td>1</td>\n",
       "      <td>1.0</td>\n",
       "      <td>4.108514</td>\n",
       "    </tr>\n",
       "    <tr>\n",
       "      <th>145</th>\n",
       "      <td>3</td>\n",
       "      <td>13.16</td>\n",
       "      <td>3.57</td>\n",
       "      <td>2.15</td>\n",
       "      <td>21.0</td>\n",
       "      <td>102</td>\n",
       "      <td>1.50</td>\n",
       "      <td>0</td>\n",
       "      <td>1</td>\n",
       "      <td>1.0</td>\n",
       "      <td>4.218860</td>\n",
       "    </tr>\n",
       "    <tr>\n",
       "      <th>157</th>\n",
       "      <td>3</td>\n",
       "      <td>12.45</td>\n",
       "      <td>3.03</td>\n",
       "      <td>2.64</td>\n",
       "      <td>27.0</td>\n",
       "      <td>97</td>\n",
       "      <td>1.90</td>\n",
       "      <td>0</td>\n",
       "      <td>1</td>\n",
       "      <td>1.0</td>\n",
       "      <td>4.393354</td>\n",
       "    </tr>\n",
       "    <tr>\n",
       "      <th>158</th>\n",
       "      <td>3</td>\n",
       "      <td>14.34</td>\n",
       "      <td>1.68</td>\n",
       "      <td>2.70</td>\n",
       "      <td>25.0</td>\n",
       "      <td>98</td>\n",
       "      <td>2.80</td>\n",
       "      <td>0</td>\n",
       "      <td>1</td>\n",
       "      <td>1.0</td>\n",
       "      <td>4.241769</td>\n",
       "    </tr>\n",
       "    <tr>\n",
       "      <th>159</th>\n",
       "      <td>3</td>\n",
       "      <td>13.48</td>\n",
       "      <td>1.67</td>\n",
       "      <td>2.64</td>\n",
       "      <td>22.5</td>\n",
       "      <td>89</td>\n",
       "      <td>2.60</td>\n",
       "      <td>0</td>\n",
       "      <td>1</td>\n",
       "      <td>1.0</td>\n",
       "      <td>4.143287</td>\n",
       "    </tr>\n",
       "    <tr>\n",
       "      <th>162</th>\n",
       "      <td>3</td>\n",
       "      <td>12.85</td>\n",
       "      <td>3.27</td>\n",
       "      <td>2.58</td>\n",
       "      <td>22.0</td>\n",
       "      <td>106</td>\n",
       "      <td>1.65</td>\n",
       "      <td>0</td>\n",
       "      <td>1</td>\n",
       "      <td>1.0</td>\n",
       "      <td>4.239253</td>\n",
       "    </tr>\n",
       "    <tr>\n",
       "      <th>163</th>\n",
       "      <td>3</td>\n",
       "      <td>12.96</td>\n",
       "      <td>3.45</td>\n",
       "      <td>2.35</td>\n",
       "      <td>18.5</td>\n",
       "      <td>106</td>\n",
       "      <td>1.39</td>\n",
       "      <td>0</td>\n",
       "      <td>1</td>\n",
       "      <td>1.0</td>\n",
       "      <td>4.126199</td>\n",
       "    </tr>\n",
       "    <tr>\n",
       "      <th>165</th>\n",
       "      <td>3</td>\n",
       "      <td>13.73</td>\n",
       "      <td>4.36</td>\n",
       "      <td>2.26</td>\n",
       "      <td>22.5</td>\n",
       "      <td>88</td>\n",
       "      <td>1.28</td>\n",
       "      <td>0</td>\n",
       "      <td>1</td>\n",
       "      <td>1.0</td>\n",
       "      <td>4.305529</td>\n",
       "    </tr>\n",
       "    <tr>\n",
       "      <th>172</th>\n",
       "      <td>3</td>\n",
       "      <td>14.16</td>\n",
       "      <td>2.51</td>\n",
       "      <td>2.48</td>\n",
       "      <td>20.0</td>\n",
       "      <td>91</td>\n",
       "      <td>1.68</td>\n",
       "      <td>0</td>\n",
       "      <td>1</td>\n",
       "      <td>1.0</td>\n",
       "      <td>4.107294</td>\n",
       "    </tr>\n",
       "    <tr>\n",
       "      <th>173</th>\n",
       "      <td>3</td>\n",
       "      <td>13.71</td>\n",
       "      <td>5.65</td>\n",
       "      <td>2.45</td>\n",
       "      <td>20.5</td>\n",
       "      <td>95</td>\n",
       "      <td>1.68</td>\n",
       "      <td>0</td>\n",
       "      <td>1</td>\n",
       "      <td>1.0</td>\n",
       "      <td>4.319276</td>\n",
       "    </tr>\n",
       "    <tr>\n",
       "      <th>176</th>\n",
       "      <td>3</td>\n",
       "      <td>13.17</td>\n",
       "      <td>2.59</td>\n",
       "      <td>2.37</td>\n",
       "      <td>20.0</td>\n",
       "      <td>120</td>\n",
       "      <td>1.65</td>\n",
       "      <td>0</td>\n",
       "      <td>1</td>\n",
       "      <td>1.0</td>\n",
       "      <td>4.141627</td>\n",
       "    </tr>\n",
       "  </tbody>\n",
       "</table>\n",
       "</div>"
      ],
      "text/plain": [
       "     Alcohol  Malic acid   Ash  Alcalinity of ash  Magnesium  Total phenols  \\\n",
       "0          1       14.23  1.71               2.43       15.6            127   \n",
       "8          1       14.83  1.64               2.17       14.0             97   \n",
       "24         1       13.50  1.81               2.61       20.0             96   \n",
       "25         1       13.05  2.05               3.22       25.0            124   \n",
       "29         1       14.02  1.68               2.21       16.0             96   \n",
       "34         1       13.51  1.80               2.65       19.0            110   \n",
       "36         1       13.28  1.64               2.84       15.5            110   \n",
       "42         1       13.88  1.89               2.59       15.0            101   \n",
       "45         1       14.21  4.04               2.44       18.9            111   \n",
       "47         1       13.90  1.68               2.12       16.0            101   \n",
       "51         1       13.83  1.65               2.60       17.2             94   \n",
       "53         1       13.77  1.90               2.68       17.1            115   \n",
       "56         1       14.22  1.70               2.30       16.3            118   \n",
       "64         2       12.17  1.45               2.53       19.0            104   \n",
       "68         2       13.34  0.94               2.36       17.0            110   \n",
       "69         2       12.21  1.19               1.75       16.8            151   \n",
       "70         2       12.29  1.61               2.21       20.4            103   \n",
       "71         2       13.86  1.51               2.67       25.0             86   \n",
       "73         2       12.99  1.67               2.60       30.0            139   \n",
       "76         2       13.03  0.90               1.71       16.0             86   \n",
       "79         2       12.70  3.87               2.40       23.0            101   \n",
       "82         2       12.08  1.13               2.51       24.0             78   \n",
       "85         2       12.67  0.98               2.24       18.0             99   \n",
       "86         2       12.16  1.61               2.31       22.8             90   \n",
       "89         2       12.08  1.33               2.30       23.6             70   \n",
       "90         2       12.08  1.83               2.32       18.5             81   \n",
       "92         2       12.69  1.53               2.26       20.7             80   \n",
       "96         2       11.81  2.12               2.74       21.5            134   \n",
       "102        2       12.34  2.45               2.46       21.0             98   \n",
       "104        2       12.51  1.73               1.98       20.5             85   \n",
       "107        2       12.72  1.75               2.28       22.5             84   \n",
       "108        2       12.22  1.29               1.94       19.0             92   \n",
       "114        2       12.08  1.39               2.50       22.5             84   \n",
       "116        2       11.82  1.47               1.99       20.8             86   \n",
       "117        2       12.42  1.61               2.19       22.5            108   \n",
       "118        2       12.77  3.43               1.98       16.0             80   \n",
       "120        2       11.45  2.40               2.42       20.0             96   \n",
       "124        2       11.87  4.31               2.39       21.0             82   \n",
       "128        2       12.37  1.63               2.30       24.5             88   \n",
       "129        2       12.04  4.30               2.38       22.0             80   \n",
       "130        3       12.86  1.35               2.32       18.0            122   \n",
       "131        3       12.88  2.99               2.40       20.0            104   \n",
       "136        3       12.25  4.72               2.54       21.0             89   \n",
       "141        3       13.36  2.56               2.35       20.0             89   \n",
       "145        3       13.16  3.57               2.15       21.0            102   \n",
       "157        3       12.45  3.03               2.64       27.0             97   \n",
       "158        3       14.34  1.68               2.70       25.0             98   \n",
       "159        3       13.48  1.67               2.64       22.5             89   \n",
       "162        3       12.85  3.27               2.58       22.0            106   \n",
       "163        3       12.96  3.45               2.35       18.5            106   \n",
       "165        3       13.73  4.36               2.26       22.5             88   \n",
       "172        3       14.16  2.51               2.48       20.0             91   \n",
       "173        3       13.71  5.65               2.45       20.5             95   \n",
       "176        3       13.17  2.59               2.37       20.0            120   \n",
       "\n",
       "     Flavanoid  Alcohol_2  Alcohol_3  Intercept  Admit Pred  \n",
       "0         2.80          0          0        1.0    2.831296  \n",
       "8         2.80          0          0        1.0    2.740607  \n",
       "24        2.53          0          0        1.0    2.961953  \n",
       "25        2.63          0          0        1.0    3.180942  \n",
       "29        2.65          0          0        1.0    2.812952  \n",
       "34        2.35          0          0        1.0    2.939728  \n",
       "36        2.60          0          0        1.0    2.805247  \n",
       "42        3.25          0          0        1.0    2.794452  \n",
       "45        2.85          0          0        1.0    3.073542  \n",
       "47        3.10          0          0        1.0    2.818413  \n",
       "51        2.45          0          0        1.0    2.850705  \n",
       "53        3.00          0          0        1.0    2.883483  \n",
       "56        3.20          0          0        1.0    2.847007  \n",
       "64        1.89          1          0        1.0    2.920584  \n",
       "68        2.53          1          0        1.0    2.825363  \n",
       "69        1.85          1          0        1.0    2.875957  \n",
       "70        1.10          1          0        1.0    2.979501  \n",
       "71        2.95          1          0        1.0    3.119474  \n",
       "73        3.30          1          0        1.0    3.360643  \n",
       "76        1.95          1          0        1.0    2.764603  \n",
       "79        2.83          1          0        1.0    3.207002  \n",
       "82        2.00          1          0        1.0    3.052852  \n",
       "85        2.20          1          0        1.0    2.852410  \n",
       "86        1.78          1          0        1.0    3.051758  \n",
       "89        2.20          1          0        1.0    3.043297  \n",
       "90        1.60          1          0        1.0    2.903044  \n",
       "92        1.38          1          0        1.0    2.962139  \n",
       "96        1.60          1          0        1.0    3.079594  \n",
       "102       2.56          1          0        1.0    3.046644  \n",
       "104       2.20          1          0        1.0    2.973239  \n",
       "107       1.38          1          0        1.0    3.043426  \n",
       "108       2.36          1          0        1.0    2.900502  \n",
       "114       2.56          1          0        1.0    3.021583  \n",
       "116       1.98          1          0        1.0    2.969050  \n",
       "117       2.00          1          0        1.0    3.059631  \n",
       "118       1.63          1          0        1.0    2.910905  \n",
       "120       2.90          1          0        1.0    3.006300  \n",
       "124       2.86          1          0        1.0    3.143434  \n",
       "128       2.22          1          0        1.0    3.111602  \n",
       "129       2.10          1          0        1.0    3.176060  \n",
       "130       1.51          0          1        1.0    3.997539  \n",
       "131       1.30          0          1        1.0    4.149493  \n",
       "136       1.38          0          1        1.0    4.274343  \n",
       "141       1.40          0          1        1.0    4.108514  \n",
       "145       1.50          0          1        1.0    4.218860  \n",
       "157       1.90          0          1        1.0    4.393354  \n",
       "158       2.80          0          1        1.0    4.241769  \n",
       "159       2.60          0          1        1.0    4.143287  \n",
       "162       1.65          0          1        1.0    4.239253  \n",
       "163       1.39          0          1        1.0    4.126199  \n",
       "165       1.28          0          1        1.0    4.305529  \n",
       "172       1.68          0          1        1.0    4.107294  \n",
       "173       1.68          0          1        1.0    4.319276  \n",
       "176       1.65          0          1        1.0    4.141627  "
      ]
     },
     "execution_count": 75,
     "metadata": {},
     "output_type": "execute_result"
    }
   ],
   "source": [
    "# Analysing the dataset\n",
    "\n",
    "data[data['Admit Pred'].notnull()]"
   ]
  },
  {
   "cell_type": "markdown",
   "metadata": {
    "collapsed": true
   },
   "source": [
    "#### Visualization"
   ]
  },
  {
   "cell_type": "code",
   "execution_count": 76,
   "metadata": {
    "collapsed": true
   },
   "outputs": [],
   "source": [
    "def Plot(variable):\n",
    "    # Selecting the variables\n",
    "    results = data[data['Admit Pred'].notnull()]\n",
    "    \n",
    "    grouped = pd.pivot_table(results, values=['Admit Pred'], index=[variable, 'Alcohol'],\n",
    "              aggfunc=np.mean)\n",
    "    # Plotting\n",
    "    for col in data.Alcohol.unique():\n",
    "        plt_data = grouped.iloc[grouped.index.get_level_values(1)==col].reset_index()\n",
    "        pl.plot(plt_data.index.get_level_values(0), plt_data['Alcohol'])\n",
    "\n",
    "    pl.xlabel(variable)\n",
    "    pl.ylabel(\"P(Alcohol)\")\n",
    "    pl.legend(['1', '2', '3'], loc='upper left', title='Alcohol')\n",
    "    pl.title(\"Prob(Alcohol Group) isolating \" + variable + \" and Alcohol\")\n",
    "    pl.show()"
   ]
  },
  {
   "cell_type": "code",
   "execution_count": 77,
   "metadata": {},
   "outputs": [
    {
     "data": {
      "image/png": "[encoded data removed]",
      "text/plain": [
       "<matplotlib.figure.Figure at 0x10bbdea20>"
      ]
     },
     "metadata": {},
     "output_type": "display_data"
    }
   ],
   "source": [
    "Plot('Ash')"
   ]
  },
  {
   "cell_type": "markdown",
   "metadata": {},
   "source": [
    "#### Evaluating - Confusion Matrix + ROC"
   ]
  },
  {
   "cell_type": "code",
   "execution_count": 78,
   "metadata": {
    "collapsed": true
   },
   "outputs": [],
   "source": [
    "from sklearn.metrics import confusion_matrix"
   ]
  },
  {
   "cell_type": "code",
   "execution_count": 79,
   "metadata": {
    "collapsed": true
   },
   "outputs": [],
   "source": [
    "ROC = data[data['Admit Pred'].notnull()]"
   ]
  },
  {
   "cell_type": "code",
   "execution_count": 80,
   "metadata": {
    "collapsed": true
   },
   "outputs": [],
   "source": [
    "#Getting the real and predicted values\n",
    "\n",
    "true = np.array(ROC['Alcohol'])\n",
    "\n",
    "# from float to round down int variables\n",
    "predict_ = np.array(ROC['Admit Pred'])\n",
    "predict = np.floor(predict_)"
   ]
  },
  {
   "cell_type": "code",
   "execution_count": 81,
   "metadata": {
    "collapsed": true
   },
   "outputs": [],
   "source": [
    "# The predicted values go over 3 (the maximum class). We need to floor to 3\n",
    "for index in range(len(predict)):\n",
    "    if predict[index] > 3:\n",
    "        predict[index] = 3"
   ]
  },
  {
   "cell_type": "code",
   "execution_count": 82,
   "metadata": {},
   "outputs": [
    {
     "data": {
      "text/plain": [
       "array([[ 0, 11,  2],\n",
       "       [ 0, 12, 15],\n",
       "       [ 0,  0, 14]])"
      ]
     },
     "execution_count": 82,
     "metadata": {},
     "output_type": "execute_result"
    }
   ],
   "source": [
    "confusion_matrix(true, predict)"
   ]
  },
  {
   "cell_type": "code",
   "execution_count": 83,
   "metadata": {
    "collapsed": true
   },
   "outputs": [],
   "source": [
    "# TODO: PLOT ROC! "
   ]
  },
  {
   "cell_type": "code",
   "execution_count": null,
   "metadata": {
    "collapsed": true
   },
   "outputs": [],
   "source": []
  },
  {
   "cell_type": "code",
   "execution_count": null,
   "metadata": {
    "collapsed": true
   },
   "outputs": [],
   "source": []
  },
  {
   "cell_type": "markdown",
   "metadata": {},
   "source": [
    "## Classification with Logistic Regression"
   ]
  },
  {
   "cell_type": "markdown",
   "metadata": {},
   "source": [
    "#### Preparation - Local"
   ]
  },
  {
   "cell_type": "code",
   "execution_count": 84,
   "metadata": {
    "collapsed": true
   },
   "outputs": [],
   "source": [
    "# Once the linear and logistic regression will use the same persistence we only need to remove the predictions\n",
    "# from the last dataset \n",
    "data_ = data.iloc[:,:-1]"
   ]
  },
  {
   "cell_type": "code",
   "execution_count": 85,
   "metadata": {},
   "outputs": [
    {
     "data": {
      "text/html": [
       "<div>\n",
       "<style>\n",
       "    .dataframe thead tr:only-child th {\n",
       "        text-align: right;\n",
       "    }\n",
       "\n",
       "    .dataframe thead th {\n",
       "        text-align: left;\n",
       "    }\n",
       "\n",
       "    .dataframe tbody tr th {\n",
       "        vertical-align: top;\n",
       "    }\n",
       "</style>\n",
       "<table border=\"1\" class=\"dataframe\">\n",
       "  <thead>\n",
       "    <tr style=\"text-align: right;\">\n",
       "      <th></th>\n",
       "      <th>Alcohol</th>\n",
       "      <th>Malic acid</th>\n",
       "      <th>Ash</th>\n",
       "      <th>Alcalinity of ash</th>\n",
       "      <th>Magnesium</th>\n",
       "      <th>Total phenols</th>\n",
       "      <th>Flavanoid</th>\n",
       "      <th>Alcohol_2</th>\n",
       "      <th>Alcohol_3</th>\n",
       "      <th>Intercept</th>\n",
       "    </tr>\n",
       "  </thead>\n",
       "  <tbody>\n",
       "    <tr>\n",
       "      <th>0</th>\n",
       "      <td>1</td>\n",
       "      <td>14.23</td>\n",
       "      <td>1.71</td>\n",
       "      <td>2.43</td>\n",
       "      <td>15.6</td>\n",
       "      <td>127</td>\n",
       "      <td>2.80</td>\n",
       "      <td>0</td>\n",
       "      <td>0</td>\n",
       "      <td>1.0</td>\n",
       "    </tr>\n",
       "    <tr>\n",
       "      <th>1</th>\n",
       "      <td>1</td>\n",
       "      <td>13.20</td>\n",
       "      <td>1.78</td>\n",
       "      <td>2.14</td>\n",
       "      <td>11.2</td>\n",
       "      <td>100</td>\n",
       "      <td>2.65</td>\n",
       "      <td>0</td>\n",
       "      <td>0</td>\n",
       "      <td>1.0</td>\n",
       "    </tr>\n",
       "    <tr>\n",
       "      <th>2</th>\n",
       "      <td>1</td>\n",
       "      <td>13.16</td>\n",
       "      <td>2.36</td>\n",
       "      <td>2.67</td>\n",
       "      <td>18.6</td>\n",
       "      <td>101</td>\n",
       "      <td>2.80</td>\n",
       "      <td>0</td>\n",
       "      <td>0</td>\n",
       "      <td>1.0</td>\n",
       "    </tr>\n",
       "  </tbody>\n",
       "</table>\n",
       "</div>"
      ],
      "text/plain": [
       "   Alcohol  Malic acid   Ash  Alcalinity of ash  Magnesium  Total phenols  \\\n",
       "0        1       14.23  1.71               2.43       15.6            127   \n",
       "1        1       13.20  1.78               2.14       11.2            100   \n",
       "2        1       13.16  2.36               2.67       18.6            101   \n",
       "\n",
       "   Flavanoid  Alcohol_2  Alcohol_3  Intercept  \n",
       "0       2.80          0          0        1.0  \n",
       "1       2.65          0          0        1.0  \n",
       "2       2.80          0          0        1.0  "
      ]
     },
     "execution_count": 85,
     "metadata": {},
     "output_type": "execute_result"
    }
   ],
   "source": [
    "data_.head(3)\n",
    "\n",
    "# Lets use the Total Phenols as our predictor"
   ]
  },
  {
   "cell_type": "markdown",
   "metadata": {},
   "source": [
    "#### Modeling"
   ]
  },
  {
   "cell_type": "code",
   "execution_count": 86,
   "metadata": {
    "collapsed": true
   },
   "outputs": [],
   "source": [
    "def ClassificationLOGIT(dataset):\n",
    "\n",
    "    # Spliting the data into train and test\n",
    "    # 80% -> Training \n",
    "    # 20% -> Testing\n",
    "    \n",
    "    #trainData = dataset.iloc[:int(len(dataset)*.8),:]\n",
    "    #testData = dataset.iloc[int(len(dataset)*.8+1):]\n",
    "    trainData, testData = train_test_split(dataset, test_size = 0.3)\n",
    "    \n",
    "    # Linear regression\n",
    "    # On the train data the dependet variable and the intercept are removed\n",
    "    logit = sm.Logit(trainData['Alcohol'], trainData['Total phenols'])\n",
    "\n",
    "    # Fitting\n",
    "    res = logit.fit()\n",
    "\n",
    "    print(res.summary())\n",
    " \n",
    "    # Generating the odds ratio, based on the exponential of each coefficient \n",
    "    print(\"\\n-----\\nOdds Ratio\\n\")\n",
    "    print(np.exp(res.params))\n",
    "    \n",
    "    # Adding the predicted values on another colunm\n",
    "    dataset['Admit Pred'] = res.predict((testData.iloc[:,2:]))\n",
    "    #print(res.predict(testData.iloc[:,2:]))\n",
    "    return res, dataset"
   ]
  },
  {
   "cell_type": "code",
   "execution_count": null,
   "metadata": {
    "collapsed": true
   },
   "outputs": [],
   "source": []
  },
  {
   "cell_type": "code",
   "execution_count": null,
   "metadata": {
    "collapsed": true
   },
   "outputs": [],
   "source": []
  },
  {
   "cell_type": "markdown",
   "metadata": {},
   "source": [
    "## Classification using Naïve Bayes"
   ]
  },
  {
   "cell_type": "markdown",
   "metadata": {},
   "source": [
    "#### Preparation - Local"
   ]
  },
  {
   "cell_type": "code",
   "execution_count": 87,
   "metadata": {
    "collapsed": true
   },
   "outputs": [],
   "source": [
    "# Getting only the dependent and independet variables (predictors)\n",
    "data_b = data.iloc[:,:-4]"
   ]
  },
  {
   "cell_type": "code",
   "execution_count": 88,
   "metadata": {},
   "outputs": [
    {
     "data": {
      "text/html": [
       "<div>\n",
       "<style>\n",
       "    .dataframe thead tr:only-child th {\n",
       "        text-align: right;\n",
       "    }\n",
       "\n",
       "    .dataframe thead th {\n",
       "        text-align: left;\n",
       "    }\n",
       "\n",
       "    .dataframe tbody tr th {\n",
       "        vertical-align: top;\n",
       "    }\n",
       "</style>\n",
       "<table border=\"1\" class=\"dataframe\">\n",
       "  <thead>\n",
       "    <tr style=\"text-align: right;\">\n",
       "      <th></th>\n",
       "      <th>Alcohol</th>\n",
       "      <th>Malic acid</th>\n",
       "      <th>Ash</th>\n",
       "      <th>Alcalinity of ash</th>\n",
       "      <th>Magnesium</th>\n",
       "      <th>Total phenols</th>\n",
       "      <th>Flavanoid</th>\n",
       "    </tr>\n",
       "  </thead>\n",
       "  <tbody>\n",
       "    <tr>\n",
       "      <th>0</th>\n",
       "      <td>1</td>\n",
       "      <td>14.23</td>\n",
       "      <td>1.71</td>\n",
       "      <td>2.43</td>\n",
       "      <td>15.6</td>\n",
       "      <td>127</td>\n",
       "      <td>2.80</td>\n",
       "    </tr>\n",
       "    <tr>\n",
       "      <th>1</th>\n",
       "      <td>1</td>\n",
       "      <td>13.20</td>\n",
       "      <td>1.78</td>\n",
       "      <td>2.14</td>\n",
       "      <td>11.2</td>\n",
       "      <td>100</td>\n",
       "      <td>2.65</td>\n",
       "    </tr>\n",
       "    <tr>\n",
       "      <th>2</th>\n",
       "      <td>1</td>\n",
       "      <td>13.16</td>\n",
       "      <td>2.36</td>\n",
       "      <td>2.67</td>\n",
       "      <td>18.6</td>\n",
       "      <td>101</td>\n",
       "      <td>2.80</td>\n",
       "    </tr>\n",
       "  </tbody>\n",
       "</table>\n",
       "</div>"
      ],
      "text/plain": [
       "   Alcohol  Malic acid   Ash  Alcalinity of ash  Magnesium  Total phenols  \\\n",
       "0        1       14.23  1.71               2.43       15.6            127   \n",
       "1        1       13.20  1.78               2.14       11.2            100   \n",
       "2        1       13.16  2.36               2.67       18.6            101   \n",
       "\n",
       "   Flavanoid  \n",
       "0       2.80  \n",
       "1       2.65  \n",
       "2       2.80  "
      ]
     },
     "execution_count": 88,
     "metadata": {},
     "output_type": "execute_result"
    }
   ],
   "source": [
    "data_b.head(3)"
   ]
  },
  {
   "cell_type": "code",
   "execution_count": 89,
   "metadata": {
    "collapsed": true
   },
   "outputs": [],
   "source": [
    "# Splitting the data into Training and Test\n",
    "\n",
    "trainDataBayes, testDataBayes = train_test_split(data_b, test_size = 0.3)"
   ]
  },
  {
   "cell_type": "markdown",
   "metadata": {},
   "source": [
    "#### Modeling"
   ]
  },
  {
   "cell_type": "code",
   "execution_count": 90,
   "metadata": {
    "collapsed": true
   },
   "outputs": [],
   "source": [
    "from sklearn.naive_bayes import GaussianNB"
   ]
  },
  {
   "cell_type": "code",
   "execution_count": 91,
   "metadata": {
    "collapsed": true
   },
   "outputs": [],
   "source": [
    "# Instantiating the object for NB\n",
    "gnb = GaussianNB()"
   ]
  },
  {
   "cell_type": "code",
   "execution_count": 92,
   "metadata": {
    "collapsed": true
   },
   "outputs": [],
   "source": [
    "# Running Bayes\n",
    "res = gnb.fit(trainDataBayes.iloc[:,1:], trainDataBayes.Alcohol)"
   ]
  },
  {
   "cell_type": "code",
   "execution_count": 93,
   "metadata": {
    "collapsed": true
   },
   "outputs": [
    {
     "name": "stderr",
     "output_type": "stream",
     "text": [
      "/Library/Frameworks/Python.framework/Versions/3.6/lib/python3.6/site-packages/ipykernel_launcher.py:1: SettingWithCopyWarning: \n",
      "A value is trying to be set on a copy of a slice from a DataFrame.\n",
      "Try using .loc[row_indexer,col_indexer] = value instead\n",
      "\n",
      "See the caveats in the documentation: http://pandas.pydata.org/pandas-docs/stable/indexing.html#indexing-view-versus-copy\n",
      "  \"\"\"Entry point for launching an IPython kernel.\n"
     ]
    }
   ],
   "source": [
    "testDataBayes['Admit Pred'] = res.predict(testDataBayes.iloc[:,1:])"
   ]
  },
  {
   "cell_type": "code",
   "execution_count": 94,
   "metadata": {},
   "outputs": [
    {
     "data": {
      "text/html": [
       "<div>\n",
       "<style>\n",
       "    .dataframe thead tr:only-child th {\n",
       "        text-align: right;\n",
       "    }\n",
       "\n",
       "    .dataframe thead th {\n",
       "        text-align: left;\n",
       "    }\n",
       "\n",
       "    .dataframe tbody tr th {\n",
       "        vertical-align: top;\n",
       "    }\n",
       "</style>\n",
       "<table border=\"1\" class=\"dataframe\">\n",
       "  <thead>\n",
       "    <tr style=\"text-align: right;\">\n",
       "      <th></th>\n",
       "      <th>Alcohol</th>\n",
       "      <th>Malic acid</th>\n",
       "      <th>Ash</th>\n",
       "      <th>Alcalinity of ash</th>\n",
       "      <th>Magnesium</th>\n",
       "      <th>Total phenols</th>\n",
       "      <th>Flavanoid</th>\n",
       "      <th>Admit Pred</th>\n",
       "    </tr>\n",
       "  </thead>\n",
       "  <tbody>\n",
       "    <tr>\n",
       "      <th>147</th>\n",
       "      <td>3</td>\n",
       "      <td>12.87</td>\n",
       "      <td>4.61</td>\n",
       "      <td>2.48</td>\n",
       "      <td>21.5</td>\n",
       "      <td>86</td>\n",
       "      <td>1.70</td>\n",
       "      <td>3</td>\n",
       "    </tr>\n",
       "    <tr>\n",
       "      <th>98</th>\n",
       "      <td>2</td>\n",
       "      <td>12.37</td>\n",
       "      <td>1.07</td>\n",
       "      <td>2.10</td>\n",
       "      <td>18.5</td>\n",
       "      <td>88</td>\n",
       "      <td>3.52</td>\n",
       "      <td>2</td>\n",
       "    </tr>\n",
       "    <tr>\n",
       "      <th>19</th>\n",
       "      <td>1</td>\n",
       "      <td>13.64</td>\n",
       "      <td>3.10</td>\n",
       "      <td>2.56</td>\n",
       "      <td>15.2</td>\n",
       "      <td>116</td>\n",
       "      <td>2.70</td>\n",
       "      <td>1</td>\n",
       "    </tr>\n",
       "    <tr>\n",
       "      <th>70</th>\n",
       "      <td>2</td>\n",
       "      <td>12.29</td>\n",
       "      <td>1.61</td>\n",
       "      <td>2.21</td>\n",
       "      <td>20.4</td>\n",
       "      <td>103</td>\n",
       "      <td>1.10</td>\n",
       "      <td>2</td>\n",
       "    </tr>\n",
       "  </tbody>\n",
       "</table>\n",
       "</div>"
      ],
      "text/plain": [
       "     Alcohol  Malic acid   Ash  Alcalinity of ash  Magnesium  Total phenols  \\\n",
       "147        3       12.87  4.61               2.48       21.5             86   \n",
       "98         2       12.37  1.07               2.10       18.5             88   \n",
       "19         1       13.64  3.10               2.56       15.2            116   \n",
       "70         2       12.29  1.61               2.21       20.4            103   \n",
       "\n",
       "     Flavanoid  Admit Pred  \n",
       "147       1.70           3  \n",
       "98        3.52           2  \n",
       "19        2.70           1  \n",
       "70        1.10           2  "
      ]
     },
     "execution_count": 94,
     "metadata": {},
     "output_type": "execute_result"
    }
   ],
   "source": [
    "testDataBayes.head(4)"
   ]
  },
  {
   "cell_type": "markdown",
   "metadata": {},
   "source": [
    "#### Evaluation"
   ]
  },
  {
   "cell_type": "code",
   "execution_count": 95,
   "metadata": {},
   "outputs": [
    {
     "data": {
      "text/plain": [
       "array([[16,  1,  0],\n",
       "       [ 1, 20,  4],\n",
       "       [ 0,  0, 12]])"
      ]
     },
     "execution_count": 95,
     "metadata": {},
     "output_type": "execute_result"
    }
   ],
   "source": [
    "confusion_matrix(testDataBayes.Alcohol, testDataBayes['Admit Pred'])"
   ]
  },
  {
   "cell_type": "code",
   "execution_count": 96,
   "metadata": {},
   "outputs": [
    {
     "name": "stdout",
     "output_type": "stream",
     "text": [
      "0.888888888889\n"
     ]
    }
   ],
   "source": [
    "print(sum(testDataBayes['Admit Pred'] == testDataBayes.Alcohol)/ len(testDataBayes))"
   ]
  },
  {
   "cell_type": "code",
   "execution_count": null,
   "metadata": {
    "collapsed": true
   },
   "outputs": [],
   "source": []
  },
  {
   "cell_type": "code",
   "execution_count": null,
   "metadata": {
    "collapsed": true
   },
   "outputs": [],
   "source": []
  },
  {
   "cell_type": "markdown",
   "metadata": {},
   "source": [
    "## Linear Discriminant Analysis"
   ]
  },
  {
   "cell_type": "markdown",
   "metadata": {},
   "source": [
    "#### Modeling"
   ]
  },
  {
   "cell_type": "code",
   "execution_count": 153,
   "metadata": {
    "collapsed": true
   },
   "outputs": [],
   "source": [
    "from sklearn.discriminant_analysis import LinearDiscriminantAnalysis as LDA\n",
    "\n",
    "# Getting only the dependent and independet variables (predictors)\n",
    "data_lda = data.iloc[:,:-4]\n",
    "\n",
    "# Splitting the data into Training and Test\n",
    "\n",
    "trainDataLDA, testDataLDA = train_test_split(data_lda, test_size = 0.3)"
   ]
  },
  {
   "cell_type": "markdown",
   "metadata": {},
   "source": [
    "#### Modeling"
   ]
  },
  {
   "cell_type": "code",
   "execution_count": 154,
   "metadata": {
    "collapsed": true
   },
   "outputs": [],
   "source": [
    "x = trainDataLDA.drop('Alcohol', axis=1)\n",
    "y = trainDataLDA.Alcohol"
   ]
  },
  {
   "cell_type": "code",
   "execution_count": 155,
   "metadata": {},
   "outputs": [
    {
     "data": {
      "text/plain": [
       "LinearDiscriminantAnalysis(n_components=3, priors=None, shrinkage=None,\n",
       "              solver='svd', store_covariance=False, tol=0.0001)"
      ]
     },
     "execution_count": 155,
     "metadata": {},
     "output_type": "execute_result"
    }
   ],
   "source": [
    "# Instantiating the object and fitting\n",
    "res = LDA(n_components=3)\n",
    "res.fit(x, y)"
   ]
  },
  {
   "cell_type": "markdown",
   "metadata": {},
   "source": [
    "#### Prediction"
   ]
  },
  {
   "cell_type": "code",
   "execution_count": 157,
   "metadata": {
    "collapsed": true
   },
   "outputs": [
    {
     "name": "stderr",
     "output_type": "stream",
     "text": [
      "/Library/Frameworks/Python.framework/Versions/3.6/lib/python3.6/site-packages/ipykernel_launcher.py:1: SettingWithCopyWarning: \n",
      "A value is trying to be set on a copy of a slice from a DataFrame.\n",
      "Try using .loc[row_indexer,col_indexer] = value instead\n",
      "\n",
      "See the caveats in the documentation: http://pandas.pydata.org/pandas-docs/stable/indexing.html#indexing-view-versus-copy\n",
      "  \"\"\"Entry point for launching an IPython kernel.\n"
     ]
    }
   ],
   "source": [
    "testDataLDA['Admit Pred'] = res.predict(testDataLDA.iloc[:,1:])"
   ]
  },
  {
   "cell_type": "markdown",
   "metadata": {},
   "source": [
    "#### Evaluation"
   ]
  },
  {
   "cell_type": "code",
   "execution_count": 158,
   "metadata": {},
   "outputs": [
    {
     "data": {
      "text/plain": [
       "array([[17,  0,  0],\n",
       "       [ 1, 22,  2],\n",
       "       [ 2,  1,  9]])"
      ]
     },
     "execution_count": 158,
     "metadata": {},
     "output_type": "execute_result"
    }
   ],
   "source": [
    "confusion_matrix(testDataLDA.Alcohol, testDataLDA['Admit Pred'])"
   ]
  },
  {
   "cell_type": "code",
   "execution_count": 159,
   "metadata": {},
   "outputs": [
    {
     "name": "stdout",
     "output_type": "stream",
     "text": [
      "0.888888888889\n"
     ]
    }
   ],
   "source": [
    "print(sum(testDataLDA['Admit Pred'] == testDataLDA.Alcohol)/ len(testDataLDA))"
   ]
  }
 ],
 "metadata": {
  "kernelspec": {
   "display_name": "Python 3",
   "language": "python",
   "name": "python3"
  },
  "language_info": {
   "codemirror_mode": {
    "name": "ipython",
    "version": 3
   },
   "file_extension": ".py",
   "mimetype": "text/x-python",
   "name": "python",
   "nbconvert_exporter": "python",
   "pygments_lexer": "ipython3",
   "version": "3.6.1"
  }
 },
 "nbformat": 4,
 "nbformat_minor": 2
}
