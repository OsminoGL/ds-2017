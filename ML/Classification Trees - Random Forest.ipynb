{
 "cells": [
  {
   "cell_type": "code",
   "execution_count": 117,
   "metadata": {
    "collapsed": true
   },
   "outputs": [],
   "source": [
    "# data from: http://archive.ics.uci.edu/ml/machine-learning-databases/wine/\n",
    "import pandas as pd \n",
    "import numpy as np\n",
    "import matplotlib.pyplot as plt\n",
    "%matplotlib inline "
   ]
  },
  {
   "cell_type": "code",
   "execution_count": null,
   "metadata": {
    "collapsed": true
   },
   "outputs": [],
   "source": [
    "'''\n",
    "1) Alcohol\n",
    "2) Malic acid\n",
    "3) Ash\n",
    "4) Alcalinity of ash  \n",
    "5) Magnesium\n",
    "6) Total phenols\n",
    "7) Flavanoids\n",
    "8) Nonflavanoid phenols\n",
    "9) Proanthocyanins\n",
    "10) Color intensity\n",
    "11) Hue\n",
    "12) OD280/OD315 of diluted wines\n",
    "13) Proline\n",
    "'''"
   ]
  },
  {
   "cell_type": "markdown",
   "metadata": {},
   "source": [
    "#### Data Cleasing and Preparation"
   ]
  },
  {
   "cell_type": "code",
   "execution_count": 2,
   "metadata": {
    "collapsed": true
   },
   "outputs": [],
   "source": [
    "# Creating header\n",
    "colnames = ['Alcohol','Malic acid','Ash','Alcalinity of ash','Magnesium','Total phenols','Flavanoid',\\\n",
    "            'Nonflavanoid phenols','Proanthocyanis','Color Intensity', 'Hue','OD280/OD315','Proline']"
   ]
  },
  {
   "cell_type": "code",
   "execution_count": 3,
   "metadata": {
    "collapsed": true
   },
   "outputs": [],
   "source": [
    "# Reading csv and concatenating the header\n",
    "wineData = pd.read_csv('wine.data.csv', names=colnames, index_col=False)"
   ]
  },
  {
   "cell_type": "code",
   "execution_count": 4,
   "metadata": {
    "collapsed": true
   },
   "outputs": [],
   "source": [
    "# Normalizing \n",
    "# df_norm = (df - df.mean()) / (df.max() - df.min())\n",
    "wineData_norm_d = wineData.Alcohol\n",
    "wineData_norm = (wineData.iloc[:,1:] - wineData.iloc[:,1:].mean()) / (wineData.iloc[:,1:].max() - wineData.iloc[:,1:].min())\n",
    "wineData_norm['Alcohol'] = wineData_norm_d"
   ]
  },
  {
   "cell_type": "code",
   "execution_count": 61,
   "metadata": {
    "collapsed": true
   },
   "outputs": [],
   "source": [
    "# Additional Imports\n",
    "from sklearn.ensemble import RandomForestClassifier\n",
    "from sklearn.model_selection import train_test_split\n",
    "from sklearn import metrics\n",
    "\n",
    "from sklearn.cross_validation import cross_val_score\n",
    "from sklearn.cross_validation import KFold\n",
    "from sklearn import tree"
   ]
  },
  {
   "cell_type": "code",
   "execution_count": 96,
   "metadata": {
    "collapsed": true
   },
   "outputs": [],
   "source": [
    "# Spliting the Data \n",
    "trainData, testData = train_test_split(wineData_norm, test_size = 0.2)\n",
    "trainData, validationData = train_test_split(trainData, test_size = 0.1)\n",
    "\n",
    "### Train ###\n",
    "\n",
    "yTrain = trainData.Alcohol\n",
    "X_Train = trainData.iloc[:,:-1]\n",
    "    \n",
    "\n",
    "### Test ###\n",
    "\n",
    "yTest = testData.Alcohol\n",
    "X_Test = testData.iloc[:,:-1]\n",
    "\n",
    "\n",
    "### Validation ###\n",
    "yValidation = validationData.Alcohol\n",
    "X_Validation= validationData.iloc[:,:-1]"
   ]
  },
  {
   "cell_type": "markdown",
   "metadata": {},
   "source": [
    "#### Modeling - Classification Trees"
   ]
  },
  {
   "cell_type": "code",
   "execution_count": 82,
   "metadata": {},
   "outputs": [
    {
     "name": "stdout",
     "output_type": "stream",
     "text": [
      "Depth: 1 Accuracy: 0.622\n",
      "Depth: 2 Accuracy: 0.866\n",
      "Depth: 3 Accuracy: 0.914\n",
      "Depth: 4 Accuracy: 0.929\n"
     ]
    }
   ],
   "source": [
    "crossvalidation = KFold(n=X_Train.shape[0], n_folds=4, shuffle=True, random_state=1)\n",
    "\n",
    "for depth in range(1,10):\n",
    "    \n",
    "    # Instatiating the object\n",
    "    t_cls = tree.DecisionTreeClassifier(max_depth=depth, random_state=0)\n",
    "    fit = t_cls.fit(X_Train, yTrain)\n",
    "\n",
    "    if fit.tree_.max_depth < depth:\n",
    "        break\n",
    "\n",
    "    score = np.mean(cross_val_score(t_cls, X_Train, yTrain ,scoring='accuracy', cv=crossvalidation, n_jobs=1))\n",
    "\n",
    "    print ('Depth: %i Accuracy: %.3f' %(depth,score))"
   ]
  },
  {
   "cell_type": "markdown",
   "metadata": {},
   "source": [
    "#### using Bagging"
   ]
  },
  {
   "cell_type": "code",
   "execution_count": 130,
   "metadata": {
    "collapsed": true
   },
   "outputs": [],
   "source": [
    "# TODO"
   ]
  },
  {
   "cell_type": "markdown",
   "metadata": {},
   "source": [
    "#### Modeling - Random Forest"
   ]
  },
  {
   "cell_type": "code",
   "execution_count": 129,
   "metadata": {
    "scrolled": true
   },
   "outputs": [
    {
     "data": {
      "text/plain": [
       "0.9722222222222222"
      ]
     },
     "execution_count": 129,
     "metadata": {},
     "output_type": "execute_result"
    }
   ],
   "source": [
    "res = RandomForestClassifier(n_jobs=2)\n",
    "res.fit(X_Train, yTrain)\n",
    "\n",
    "# Prediction\n",
    "predict = np.array(res.predict(X_Test))\n",
    "\n",
    "# Evaluating\n",
    "eff = 0\n",
    "for x in range(len(predict)):\n",
    "    if predict[x] == yTest.tolist()[x]:\n",
    "        eff += 1\n",
    "eff/len(predict)    "
   ]
  },
  {
   "cell_type": "code",
   "execution_count": 126,
   "metadata": {
    "collapsed": true
   },
   "outputs": [],
   "source": [
    "min_estimators = 15\n",
    "max_estimators = 175\n",
    "error_rate = []\n",
    "estimator = []\n",
    "\n",
    "for i in range(min_estimators, max_estimators + 1):\n",
    "    res.set_params(n_estimators=i)\n",
    "    res.fit(X_Train, yTrain)\n",
    "    \n",
    "    # Record the OOB error for each `n_estimators=i` setting.\n",
    "    error_rate.append(res.oob_score)\n",
    "    estimator.append(i)"
   ]
  },
  {
   "cell_type": "code",
   "execution_count": 131,
   "metadata": {},
   "outputs": [
    {
     "data": {
      "text/plain": [
       "[<matplotlib.lines.Line2D at 0x10bed6be0>]"
      ]
     },
     "execution_count": 131,
     "metadata": {},
     "output_type": "execute_result"
    },
    {
     "data": {
      "image/png": "[encoded data removed]",
      "text/plain": [
       "<matplotlib.figure.Figure at 0x10be3d438>"
      ]
     },
     "metadata": {},
     "output_type": "display_data"
    }
   ],
   "source": [
    "plt.plot(estimator, error_rate)"
   ]
  },
  {
   "cell_type": "markdown",
   "metadata": {
    "collapsed": true
   },
   "source": [
    "### Using XGBoost"
   ]
  },
  {
   "cell_type": "code",
   "execution_count": 1,
   "metadata": {},
   "outputs": [
    {
     "ename": "ModuleNotFoundError",
     "evalue": "No module named 'xgboost'",
     "output_type": "error",
     "traceback": [
      "\u001b[0;31m---------------------------------------------------------------------------\u001b[0m",
      "\u001b[0;31mModuleNotFoundError\u001b[0m                       Traceback (most recent call last)",
      "\u001b[0;32m<ipython-input-1-745aa3a2d734>\u001b[0m in \u001b[0;36m<module>\u001b[0;34m()\u001b[0m\n\u001b[0;32m----> 1\u001b[0;31m \u001b[0;32mimport\u001b[0m \u001b[0mxgboost\u001b[0m \u001b[0;32mas\u001b[0m \u001b[0mxgb\u001b[0m\u001b[0;34m\u001b[0m\u001b[0m\n\u001b[0m",
      "\u001b[0;31mModuleNotFoundError\u001b[0m: No module named 'xgboost'"
     ]
    }
   ],
   "source": [
    "import xgboost as xgb"
   ]
  },
  {
   "cell_type": "code",
   "execution_count": null,
   "metadata": {
    "collapsed": true
   },
   "outputs": [],
   "source": []
  }
 ],
 "metadata": {
  "kernelspec": {
   "display_name": "Python 3",
   "language": "python",
   "name": "python3"
  },
  "language_info": {
   "codemirror_mode": {
    "name": "ipython",
    "version": 3
   },
   "file_extension": ".py",
   "mimetype": "text/x-python",
   "name": "python",
   "nbconvert_exporter": "python",
   "pygments_lexer": "ipython3",
   "version": "3.6.1"
  }
 },
 "nbformat": 4,
 "nbformat_minor": 2
}
