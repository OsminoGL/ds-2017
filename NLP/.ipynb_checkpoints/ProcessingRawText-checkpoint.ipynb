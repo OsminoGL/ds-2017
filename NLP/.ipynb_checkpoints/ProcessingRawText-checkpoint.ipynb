{
 "cells": [
  {
   "cell_type": "code",
   "execution_count": 1,
   "metadata": {},
   "outputs": [],
   "source": [
    "# HTML scrapping processing\n",
    "from urllib import request\n",
    "from bs4 import BeautifulSoup\n",
    "\n",
    "# RSS \n",
    "import feedparser\n",
    "\n",
    "# NLP\n",
    "import nltk as nlp"
   ]
  },
  {
   "cell_type": "markdown",
   "metadata": {},
   "source": [
    "### Book file"
   ]
  },
  {
   "cell_type": "code",
   "execution_count": 2,
   "metadata": {},
   "outputs": [],
   "source": [
    "# url with the data\n",
    "url = \"http://www.gutenberg.org/files/2554/2554.txt\"\n",
    "\n",
    "# request to the url\n",
    "response = request.urlopen(url)\n",
    "\n",
    "# reading the response on utf8 \n",
    "raw = response.read().decode('utf8')"
   ]
  },
  {
   "cell_type": "code",
   "execution_count": 3,
   "metadata": {},
   "outputs": [
    {
     "data": {
      "text/plain": [
       "'The Project Gutenber'"
      ]
     },
     "execution_count": 3,
     "metadata": {},
     "output_type": "execute_result"
    }
   ],
   "source": [
    "# glimpse into the text\n",
    "raw[:20]"
   ]
  },
  {
   "cell_type": "code",
   "execution_count": 4,
   "metadata": {
    "collapsed": true
   },
   "outputs": [],
   "source": [
    "# generating tokens -> bring the strings into words and punctuations \n",
    "\n",
    "tokens = nlp.word_tokenize(raw)"
   ]
  },
  {
   "cell_type": "code",
   "execution_count": 5,
   "metadata": {
    "collapsed": true
   },
   "outputs": [],
   "source": [
    "# because the book include details about the author, summary, etc.. We need to trim the data to get only the \n",
    "# desired content -> most of this job is performed mannualy\n",
    "\n",
    "begin = raw.find(\"PART I\")\n",
    "\n",
    "end = raw.rfind(\"End of Project Gutenberg's Crime\")\n",
    "\n",
    "raw = raw[begin:end]"
   ]
  },
  {
   "cell_type": "markdown",
   "metadata": {},
   "source": [
    "### HTML"
   ]
  },
  {
   "cell_type": "code",
   "execution_count": 6,
   "metadata": {
    "collapsed": true
   },
   "outputs": [],
   "source": [
    "# getting URL\n",
    "url = \"http://news.bbc.co.uk/2/hi/health/2284783.stm\"\n",
    "\n",
    "# request/response reading on utf8\n",
    "html = request.urlopen(url).read().decode('utf8')"
   ]
  },
  {
   "cell_type": "code",
   "execution_count": 7,
   "metadata": {
    "collapsed": true
   },
   "outputs": [],
   "source": [
    "# getting the data into raw format-string\n",
    "raw = BeautifulSoup(html, \"html5lib\").get_text()\n",
    "\n",
    "# generate the tokens\n",
    "#tokens = word_tokenize(raw)"
   ]
  },
  {
   "cell_type": "markdown",
   "metadata": {},
   "source": [
    "### RSS "
   ]
  },
  {
   "cell_type": "code",
   "execution_count": 8,
   "metadata": {
    "collapsed": true
   },
   "outputs": [],
   "source": [
    "# using the url, parsing all the data based on RSS format \n",
    "llog = feedparser.parse(\"http://languagelog.ldc.upenn.edu/nll/?feed=atom\")"
   ]
  },
  {
   "cell_type": "code",
   "execution_count": 9,
   "metadata": {},
   "outputs": [
    {
     "data": {
      "text/plain": [
       "'Language Log'"
      ]
     },
     "execution_count": 9,
     "metadata": {},
     "output_type": "execute_result"
    }
   ],
   "source": [
    "# the data format still contain the xml DOMs\n",
    "llog['feed']['title']"
   ]
  },
  {
   "cell_type": "code",
   "execution_count": 10,
   "metadata": {},
   "outputs": [
    {
     "data": {
      "text/plain": [
       "'Language Log'"
      ]
     },
     "execution_count": 10,
     "metadata": {},
     "output_type": "execute_result"
    }
   ],
   "source": [
    "llog['feed']['title']"
   ]
  },
  {
   "cell_type": "code",
   "execution_count": 11,
   "metadata": {
    "collapsed": true
   },
   "outputs": [],
   "source": [
    "# getting one independet post\n",
    "post = llog.entries[2]"
   ]
  },
  {
   "cell_type": "code",
   "execution_count": 12,
   "metadata": {
    "scrolled": true
   },
   "outputs": [
    {
     "data": {
      "text/plain": [
       "{'author': 'Mark Liberman',\n",
       " 'author_detail': {'href': 'http://ling.upenn.edu/~myl',\n",
       "  'name': 'Mark Liberman'},\n",
       " 'authors': [{'href': 'http://ling.upenn.edu/~myl', 'name': 'Mark Liberman'}],\n",
       " 'content': [{'base': 'http://languagelog.ldc.upenn.edu/nll/?p=33344',\n",
       "   'language': 'en-US',\n",
       "   'type': 'text/html',\n",
       "   'value': '<div id=\"fb-root\"></div>\\n<p>&#8220;<a href=\"http://www.espn.com/nfl/story/_/id/19678652/supreme-court-gives-washington-redskins-boost-name-fight\" target=\"_blank\" rel=\"noopener\">Supreme Court rules government can&#8217;t refuse disparaging trademarks</a>&#8220;, ESPN:</p>\\n<p style=\"padding-left: 30px;\"><span style=\"color: #000080;\">The Supreme Court on Monday struck down part of a law that bans offensive trademarks in a ruling that is expected to help the Redskins in their legal fight over the team name. </span></p>\\n<p style=\"padding-left: 30px;\"><span style=\"color: #000080;\">The justices ruled that the 71-year-old trademark law barring disparaging terms infringes free speech rights. </span></p>\\n<p style=\"padding-left: 30px;\"><span style=\"color: #000080;\">The ruling is a victory for the Asian-American rock band called the Slants, but the case was closely watched for the impact it would have on the separate dispute involving the Washington football team.</span></p>\\n<p><span id=\"more-33344\"></span></p>\\n<p>The opinion&#8217;s &#8220;syllabus&#8221; is <a href=\"https://www.supremecourt.gov/opinions/16pdf/15-1293_1o13.pdf\" target=\"_blank\" rel=\"noopener\">here:</a></p>\\n<p style=\"padding-left: 30px;\"><span style=\"color: #800000;\">Simon Tam, lead singer of the rock group “The Slants,” chose this moniker in order to “reclaim” the term and drain its denigrating force as a derogatory term for Asian persons. Tam sought federal registration of the mark “THE SLANTS.” The Patent and Trademark Office (PTO) denied the application under a Lanham Act provision prohibiting the registration of trademarks that may “disparage . . . or bring . . . into contemp[t] or disrepute” any “persons, living or dead.” 15 U. S. C. §1052(a). Tam contested the denial of registration through the administrative appeals process, to no avail. He then took the\\xa0</span><span style=\"color: #800000;\">case to federal court, where the en banc Federal Circuit ultimately found the disparagement clause facially unconstitutional under the First Amendment’s Free Speech Clause.</span></p>\\n<p style=\"padding-left: 30px;\"><span style=\"color: #800000;\">Held: The judgment is affirmed.</span></p>\\n<p>Some reelvant LLOG posts:</p>\\n<p>“<a href=\"http://itre.cis.upenn.edu/~myl/languagelog/archives/000029.html\" target=\"_blank\" rel=\"noopener\">Fenimore Cooper, call your office</a>“, 10/7/2003<br />\\n“<a href=\"http://itre.cis.upenn.edu/~myl/languagelog/archives/000035.html\" target=\"_blank\" rel=\"noopener\">The conventions for expressive content words</a>“, 10/11/2003<br />\\n“<a href=\"http://itre.cis.upenn.edu/~myl/languagelog/archives/000360.html\" target=\"_blank\" rel=\"noopener\">Of limes and racial epithets</a>“, 1/18/2004<br />\\n“<a href=\"http://itre.cis.upenn.edu/~myl/languagelog/archives/002194.html\" target=\"_blank\" rel=\"noopener\">Mascot names and etymology</a>“, 5/25/2004<br />\\n“<a href=\"http://itre.cis.upenn.edu/~myl/languagelog/archives/002333.html\" target=\"_blank\" rel=\"noopener\">Disparaging trademarks and the lexicography of tools</a>“, 7/16/2005<br />\\n“<a href=\"http://itre.cis.upenn.edu/~myl/languagelog/archives/002338.html\" target=\"_blank\" rel=\"noopener\">Adverbial license</a>“, 7/17/2005<br />\\n“<a href=\"http://itre.cis.upenn.edu/~myl/languagelog/archives/002961.html\" target=\"_blank\" rel=\"noopener\">The origin of redskin</a>“, 3/26/2006<br />\\n“<a href=\"http://languagelog.ldc.upenn.edu/nll/?p=1961\" target=\"_blank\" rel=\"noopener\">When should linguists disclose a conflict?</a>“, 12/15/2009<br />\\n“<a href=\"http://languagelog.ldc.upenn.edu/nll/?p=8001\" target=\"_blank\" rel=\"noopener\">The Slants vs. the USPTO</a>“, 8/21/2013<br />\\n&#8220;<a href=\"http://languagelog.ldc.upenn.edu/nll/?p=13042\" target=\"_blank\" rel=\"noopener\">&#8216;Redskins&#8217; ruled disparaging</a>&#8220;, 6/18/2014</p>\\n<p>&nbsp;</p>'}],\n",
       " 'guidislink': False,\n",
       " 'href': 'http://ling.upenn.edu/~myl',\n",
       " 'id': 'http://languagelog.ldc.upenn.edu/nll/?p=33344',\n",
       " 'link': 'http://languagelog.ldc.upenn.edu/nll/?p=33344',\n",
       " 'links': [{'href': 'http://languagelog.ldc.upenn.edu/nll/?p=33344',\n",
       "   'rel': 'alternate',\n",
       "   'type': 'text/html'},\n",
       "  {'count': '11',\n",
       "   'href': 'http://languagelog.ldc.upenn.edu/nll/?p=33344#comments',\n",
       "   'rel': 'replies',\n",
       "   'thr:count': '11',\n",
       "   'type': 'text/html'},\n",
       "  {'count': '11',\n",
       "   'href': 'http://languagelog.ldc.upenn.edu/nll/?feed=atom&p=33344',\n",
       "   'rel': 'replies',\n",
       "   'thr:count': '11',\n",
       "   'type': 'application/atom+xml'}],\n",
       " 'published': '2017-06-19T15:19:31Z',\n",
       " 'published_parsed': time.struct_time(tm_year=2017, tm_mon=6, tm_mday=19, tm_hour=15, tm_min=19, tm_sec=31, tm_wday=0, tm_yday=170, tm_isdst=0),\n",
       " 'summary': '&#8220;Supreme Court rules government can&#8217;t refuse disparaging trademarks&#8220;, ESPN: The Supreme Court on Monday struck down part of a law that bans offensive trademarks in a ruling that is expected to help the Redskins in their legal fight over the team name. The justices ruled that the 71-year-old trademark law barring disparaging terms infringes free [&#8230;]',\n",
       " 'summary_detail': {'base': 'http://languagelog.ldc.upenn.edu/nll/wp-atom.php',\n",
       "  'language': 'en-US',\n",
       "  'type': 'text/html',\n",
       "  'value': '&#8220;Supreme Court rules government can&#8217;t refuse disparaging trademarks&#8220;, ESPN: The Supreme Court on Monday struck down part of a law that bans offensive trademarks in a ruling that is expected to help the Redskins in their legal fight over the team name. The justices ruled that the 71-year-old trademark law barring disparaging terms infringes free [&#8230;]'},\n",
       " 'tags': [{'label': None,\n",
       "   'scheme': 'http://languagelog.ldc.upenn.edu/nll',\n",
       "   'term': 'Language and the law'}],\n",
       " 'thr_total': '11',\n",
       " 'title': 'Disparaging trademarks',\n",
       " 'title_detail': {'base': 'http://languagelog.ldc.upenn.edu/nll/wp-atom.php',\n",
       "  'language': 'en-US',\n",
       "  'type': 'text/html',\n",
       "  'value': 'Disparaging trademarks'},\n",
       " 'updated': '2017-06-19T22:21:08Z',\n",
       " 'updated_parsed': time.struct_time(tm_year=2017, tm_mon=6, tm_mday=19, tm_hour=22, tm_min=21, tm_sec=8, tm_wday=0, tm_yday=170, tm_isdst=0)}"
      ]
     },
     "execution_count": 12,
     "metadata": {},
     "output_type": "execute_result"
    }
   ],
   "source": [
    "post"
   ]
  },
  {
   "cell_type": "code",
   "execution_count": 13,
   "metadata": {
    "collapsed": true
   },
   "outputs": [],
   "source": [
    "# referent to the content we want\n",
    "content = post.content[0].value"
   ]
  },
  {
   "cell_type": "code",
   "execution_count": 14,
   "metadata": {
    "collapsed": true
   },
   "outputs": [],
   "source": [
    "# using beautifulsoap to remove the html DOMS/tags from our text\n",
    "raw = BeautifulSoup(content, 'html5lib').get_text()"
   ]
  },
  {
   "cell_type": "code",
   "execution_count": 16,
   "metadata": {},
   "outputs": [],
   "source": [
    "# getting tokens \n",
    "tokens = nlp.word_tokenize(raw)"
   ]
  },
  {
   "cell_type": "code",
   "execution_count": 17,
   "metadata": {},
   "outputs": [
    {
     "data": {
      "text/plain": [
       "['“',\n",
       " 'Supreme',\n",
       " 'Court',\n",
       " 'rules',\n",
       " 'government',\n",
       " 'can',\n",
       " '’',\n",
       " 't',\n",
       " 'refuse',\n",
       " 'disparaging',\n",
       " 'trademarks',\n",
       " '“',\n",
       " ',',\n",
       " 'ESPN',\n",
       " ':',\n",
       " 'The',\n",
       " 'Supreme',\n",
       " 'Court',\n",
       " 'on',\n",
       " 'Monday',\n",
       " 'struck',\n",
       " 'down',\n",
       " 'part',\n",
       " 'of',\n",
       " 'a',\n",
       " 'law',\n",
       " 'that',\n",
       " 'bans',\n",
       " 'offensive',\n",
       " 'trademarks',\n",
       " 'in',\n",
       " 'a',\n",
       " 'ruling',\n",
       " 'that',\n",
       " 'is',\n",
       " 'expected',\n",
       " 'to',\n",
       " 'help',\n",
       " 'the',\n",
       " 'Redskins',\n",
       " 'in',\n",
       " 'their',\n",
       " 'legal',\n",
       " 'fight',\n",
       " 'over',\n",
       " 'the',\n",
       " 'team',\n",
       " 'name',\n",
       " '.',\n",
       " 'The',\n",
       " 'justices',\n",
       " 'ruled',\n",
       " 'that',\n",
       " 'the',\n",
       " '71-year-old',\n",
       " 'trademark',\n",
       " 'law',\n",
       " 'barring',\n",
       " 'disparaging',\n",
       " 'terms',\n",
       " 'infringes',\n",
       " 'free',\n",
       " 'speech',\n",
       " 'rights',\n",
       " '.',\n",
       " 'The',\n",
       " 'ruling',\n",
       " 'is',\n",
       " 'a',\n",
       " 'victory',\n",
       " 'for',\n",
       " 'the',\n",
       " 'Asian-American',\n",
       " 'rock',\n",
       " 'band',\n",
       " 'called',\n",
       " 'the',\n",
       " 'Slants',\n",
       " ',',\n",
       " 'but',\n",
       " 'the',\n",
       " 'case',\n",
       " 'was',\n",
       " 'closely',\n",
       " 'watched',\n",
       " 'for',\n",
       " 'the',\n",
       " 'impact',\n",
       " 'it',\n",
       " 'would',\n",
       " 'have',\n",
       " 'on',\n",
       " 'the',\n",
       " 'separate',\n",
       " 'dispute',\n",
       " 'involving',\n",
       " 'the',\n",
       " 'Washington',\n",
       " 'football',\n",
       " 'team',\n",
       " '.',\n",
       " 'The',\n",
       " 'opinion',\n",
       " '’',\n",
       " 's',\n",
       " '“',\n",
       " 'syllabus',\n",
       " '”',\n",
       " 'is',\n",
       " 'here',\n",
       " ':',\n",
       " 'Simon',\n",
       " 'Tam',\n",
       " ',',\n",
       " 'lead',\n",
       " 'singer',\n",
       " 'of',\n",
       " 'the',\n",
       " 'rock',\n",
       " 'group',\n",
       " '“',\n",
       " 'The',\n",
       " 'Slants',\n",
       " ',',\n",
       " '”',\n",
       " 'chose',\n",
       " 'this',\n",
       " 'moniker',\n",
       " 'in',\n",
       " 'order',\n",
       " 'to',\n",
       " '“',\n",
       " 'reclaim',\n",
       " '”',\n",
       " 'the',\n",
       " 'term',\n",
       " 'and',\n",
       " 'drain',\n",
       " 'its',\n",
       " 'denigrating',\n",
       " 'force',\n",
       " 'as',\n",
       " 'a',\n",
       " 'derogatory',\n",
       " 'term',\n",
       " 'for',\n",
       " 'Asian',\n",
       " 'persons',\n",
       " '.',\n",
       " 'Tam',\n",
       " 'sought',\n",
       " 'federal',\n",
       " 'registration',\n",
       " 'of',\n",
       " 'the',\n",
       " 'mark',\n",
       " '“',\n",
       " 'THE',\n",
       " 'SLANTS.',\n",
       " '”',\n",
       " 'The',\n",
       " 'Patent',\n",
       " 'and',\n",
       " 'Trademark',\n",
       " 'Office',\n",
       " '(',\n",
       " 'PTO',\n",
       " ')',\n",
       " 'denied',\n",
       " 'the',\n",
       " 'application',\n",
       " 'under',\n",
       " 'a',\n",
       " 'Lanham',\n",
       " 'Act',\n",
       " 'provision',\n",
       " 'prohibiting',\n",
       " 'the',\n",
       " 'registration',\n",
       " 'of',\n",
       " 'trademarks',\n",
       " 'that',\n",
       " 'may',\n",
       " '“',\n",
       " 'disparage',\n",
       " '.',\n",
       " '.',\n",
       " '.',\n",
       " 'or',\n",
       " 'bring',\n",
       " '.',\n",
       " '.',\n",
       " '.',\n",
       " 'into',\n",
       " 'contemp',\n",
       " '[',\n",
       " 't',\n",
       " ']',\n",
       " 'or',\n",
       " 'disrepute',\n",
       " '”',\n",
       " 'any',\n",
       " '“',\n",
       " 'persons',\n",
       " ',',\n",
       " 'living',\n",
       " 'or',\n",
       " 'dead.',\n",
       " '”',\n",
       " '15',\n",
       " 'U.',\n",
       " 'S.',\n",
       " 'C.',\n",
       " '§1052',\n",
       " '(',\n",
       " 'a',\n",
       " ')',\n",
       " '.',\n",
       " 'Tam',\n",
       " 'contested',\n",
       " 'the',\n",
       " 'denial',\n",
       " 'of',\n",
       " 'registration',\n",
       " 'through',\n",
       " 'the',\n",
       " 'administrative',\n",
       " 'appeals',\n",
       " 'process',\n",
       " ',',\n",
       " 'to',\n",
       " 'no',\n",
       " 'avail',\n",
       " '.',\n",
       " 'He',\n",
       " 'then',\n",
       " 'took',\n",
       " 'the',\n",
       " 'case',\n",
       " 'to',\n",
       " 'federal',\n",
       " 'court',\n",
       " ',',\n",
       " 'where',\n",
       " 'the',\n",
       " 'en',\n",
       " 'banc',\n",
       " 'Federal',\n",
       " 'Circuit',\n",
       " 'ultimately',\n",
       " 'found',\n",
       " 'the',\n",
       " 'disparagement',\n",
       " 'clause',\n",
       " 'facially',\n",
       " 'unconstitutional',\n",
       " 'under',\n",
       " 'the',\n",
       " 'First',\n",
       " 'Amendment',\n",
       " '’',\n",
       " 's',\n",
       " 'Free',\n",
       " 'Speech',\n",
       " 'Clause',\n",
       " '.',\n",
       " 'Held',\n",
       " ':',\n",
       " 'The',\n",
       " 'judgment',\n",
       " 'is',\n",
       " 'affirmed',\n",
       " '.',\n",
       " 'Some',\n",
       " 'reelvant',\n",
       " 'LLOG',\n",
       " 'posts',\n",
       " ':',\n",
       " '“',\n",
       " 'Fenimore',\n",
       " 'Cooper',\n",
       " ',',\n",
       " 'call',\n",
       " 'your',\n",
       " 'office',\n",
       " '“',\n",
       " ',',\n",
       " '10/7/2003',\n",
       " '“',\n",
       " 'The',\n",
       " 'conventions',\n",
       " 'for',\n",
       " 'expressive',\n",
       " 'content',\n",
       " 'words',\n",
       " '“',\n",
       " ',',\n",
       " '10/11/2003',\n",
       " '“',\n",
       " 'Of',\n",
       " 'limes',\n",
       " 'and',\n",
       " 'racial',\n",
       " 'epithets',\n",
       " '“',\n",
       " ',',\n",
       " '1/18/2004',\n",
       " '“',\n",
       " 'Mascot',\n",
       " 'names',\n",
       " 'and',\n",
       " 'etymology',\n",
       " '“',\n",
       " ',',\n",
       " '5/25/2004',\n",
       " '“',\n",
       " 'Disparaging',\n",
       " 'trademarks',\n",
       " 'and',\n",
       " 'the',\n",
       " 'lexicography',\n",
       " 'of',\n",
       " 'tools',\n",
       " '“',\n",
       " ',',\n",
       " '7/16/2005',\n",
       " '“',\n",
       " 'Adverbial',\n",
       " 'license',\n",
       " '“',\n",
       " ',',\n",
       " '7/17/2005',\n",
       " '“',\n",
       " 'The',\n",
       " 'origin',\n",
       " 'of',\n",
       " 'redskin',\n",
       " '“',\n",
       " ',',\n",
       " '3/26/2006',\n",
       " '“',\n",
       " 'When',\n",
       " 'should',\n",
       " 'linguists',\n",
       " 'disclose',\n",
       " 'a',\n",
       " 'conflict',\n",
       " '?',\n",
       " '“',\n",
       " ',',\n",
       " '12/15/2009',\n",
       " '“',\n",
       " 'The',\n",
       " 'Slants',\n",
       " 'vs.',\n",
       " 'the',\n",
       " 'USPTO',\n",
       " '“',\n",
       " ',',\n",
       " '8/21/2013',\n",
       " '“',\n",
       " '‘',\n",
       " 'Redskins',\n",
       " '’',\n",
       " 'ruled',\n",
       " 'disparaging',\n",
       " '“',\n",
       " ',',\n",
       " '6/18/2014']"
      ]
     },
     "execution_count": 17,
     "metadata": {},
     "output_type": "execute_result"
    }
   ],
   "source": [
    "tokens"
   ]
  },
  {
   "cell_type": "markdown",
   "metadata": {},
   "source": [
    "### Local Files"
   ]
  },
  {
   "cell_type": "code",
   "execution_count": null,
   "metadata": {
    "collapsed": true
   },
   "outputs": [],
   "source": [
    "# the whole process is performed in python and once we have our raw text the tokenization follows the above\n",
    "# examples\n",
    "\n",
    "f = open('aeneid.txt')\n",
    "raw = f.read()\n",
    "\n",
    "for line in f:\n",
    "    print(line.strip())"
   ]
  },
  {
   "cell_type": "code",
   "execution_count": null,
   "metadata": {
    "collapsed": true
   },
   "outputs": [],
   "source": [
    "raw"
   ]
  },
  {
   "cell_type": "code",
   "execution_count": null,
   "metadata": {
    "collapsed": true
   },
   "outputs": [],
   "source": [
    "# We can use nltk to remove /n from our text, once that in python we need to perform .strip manually on each line\n",
    "\n",
    "path = nlp.data.find('aeneid.txt')\n",
    "\n",
    "#raw = open(path, 'rU').read()"
   ]
  },
  {
   "cell_type": "code",
   "execution_count": null,
   "metadata": {
    "collapsed": true
   },
   "outputs": [],
   "source": []
  }
 ],
 "metadata": {
  "kernelspec": {
   "display_name": "Python 3",
   "language": "python",
   "name": "python3"
  },
  "language_info": {
   "codemirror_mode": {
    "name": "ipython",
    "version": 3
   },
   "file_extension": ".py",
   "mimetype": "text/x-python",
   "name": "python",
   "nbconvert_exporter": "python",
   "pygments_lexer": "ipython3",
   "version": "3.6.1"
  }
 },
 "nbformat": 4,
 "nbformat_minor": 2
}
