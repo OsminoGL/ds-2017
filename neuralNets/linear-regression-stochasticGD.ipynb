{
 "cells": [
  {
   "cell_type": "markdown",
   "metadata": {},
   "source": [
    "## Linear Regression\n",
    "\n",
    "In this section we will implement a linear regression model trainable with SGD using numpy. Here are the objectives:\n",
    "\n",
    "1. Implement a simple forward model: $y = W x + b$\n",
    "\n",
    "1. build a `predict` function which returns the predicted regression value given an input $x$\n",
    "\n",
    "1. build an `accuracy` function for a batch of inputs $X$ and the corresponding expected outputs $y_{true}$ (for regression we typically use Mean Squared Error (MSE) as metric)\n",
    "\n",
    "1. build a `grad` function which computes the gradients for an $x$ and its corresponding expected output $y_{true}$ ; check that the gradients are well defined\n",
    "\n",
    "1. build a `train` function which uses the `grad` function output to update $W$ and $b$"
   ]
  },
  {
   "cell_type": "code",
   "execution_count": 1,
   "metadata": {
    "collapsed": true
   },
   "outputs": [],
   "source": [
    "%matplotlib inline\n",
    "import matplotlib.pyplot as plt\n",
    "plt.rcParams[\"figure.figsize\"] = (8, 8)\n",
    "plt.rcParams[\"font.size\"] = 14\n",
    "\n",
    "import numpy as np"
   ]
  },
  {
   "cell_type": "code",
   "execution_count": 2,
   "metadata": {
    "collapsed": true
   },
   "outputs": [],
   "source": [
    "# our toy data for this task\n",
    "x = np.random.uniform(0, 10, size=20)\n",
    "temp = 1.3*x + 15 + np.random.normal(0, 1, size=20)"
   ]
  },
  {
   "cell_type": "code",
   "execution_count": 3,
   "metadata": {},
   "outputs": [
    {
     "data": {
      "image/png": "[encoded data removed]",
      "text/plain": [
       "<matplotlib.figure.Figure at 0x1061d9cc0>"
      ]
     },
     "metadata": {},
     "output_type": "display_data"
    }
   ],
   "source": [
    "plt.plot(x, temp, 'o')\n",
    "plt.xlabel(\"Minutes of sunshine in the last 10minutes\")\n",
    "plt.ylabel(\"Temperature [C]\");"
   ]
  },
  {
   "cell_type": "code",
   "execution_count": 14,
   "metadata": {
    "collapsed": true
   },
   "outputs": [],
   "source": [
    "class LinearRegression():\n",
    "    def __init__(self):\n",
    "        self.W = np.random.uniform(high=0.5, low=-0.5)\n",
    "        self.b = np.random.uniform(high=0.5, low=-0.5)\n",
    "    \n",
    "    def predict(self, X):\n",
    "        y_pred = self.W*X + self.b\n",
    "        return y_pred\n",
    "    \n",
    "    def grad_loss(self, x, y_true):\n",
    "        # TODO?: compute gradient with respect to W and b for one sample x\n",
    "        # and the true value y_true\n",
    "        grad_b = 0\n",
    "        grad_W = 0\n",
    "\n",
    "        #calculating the change for each point\n",
    "        grad_b += - 2 * (y_true - ((self.W*x) + self.b))\n",
    "        grad_W += - 2 * x * (y_true - ((self.W * x) + self.b))\n",
    "        \n",
    "        grads = {\"W\": grad_W, \"b\": grad_b}\n",
    "        return grads\n",
    "    \n",
    "    def train(self, x, y, learning_rate):\n",
    "        # TODO: compute one step of the gradient descent update, update W and b\n",
    "        grads = self.grad_loss(x, y)\n",
    "        \n",
    "        self.W = self.W - (learning_rate * grads['W'])\n",
    "        self.b = self.b - (learning_rate * grads['b'])\n",
    "        \n",
    "    def loss(self, x, y):\n",
    "        y_pred = self.predict(x)\n",
    "        loss = (y - y_pred)**2\n",
    "        \n",
    "        return loss\n",
    "\n",
    "    def accuracy(self, X, y):\n",
    "        acc = np.empty(len(X))\n",
    "        \n",
    "        for value, result in zip(X, y):\n",
    "            np.append(acc, self.loss(value, result))    \n",
    "        \n",
    "        print(acc)\n",
    "        ols = np.sum(acc)/len(X)\n",
    "\n",
    "        return ols"
   ]
  },
  {
   "cell_type": "markdown",
   "metadata": {},
   "source": [
    "Questions:\n",
    "\n",
    "* how do you know that you trained for enough epochs?\n",
    "* visualise how the loss changes over the epochs\n",
    "* are more epochs always better? How could you show this?\n",
    "* change the setup to use stochastic gradient descent\n",
    "* (bonus) visualise the values of W and b over the epochs\n",
    "* (bonus) can you see a difference for the paths of W and b between SGD and normal GD?"
   ]
  },
  {
   "cell_type": "code",
   "execution_count": 12,
   "metadata": {},
   "outputs": [
    {
     "name": "stdout",
     "output_type": "stream",
     "text": [
      "initial value of W: -0.4054 and b: -0.3975\n"
     ]
    }
   ],
   "source": [
    "lr = LinearRegression()\n",
    "print('initial value of W: %.4f and b: %.4f' % (lr.W, lr.b))"
   ]
  },
  {
   "cell_type": "code",
   "execution_count": 15,
   "metadata": {},
   "outputs": [
    {
     "name": "stdout",
     "output_type": "stream",
     "text": [
      "Update: train accuracy: 3.065 value of W: 2.2032 and b: 11.1690\n",
      "Update: train accuracy: 3.065 value of W: 2.0891 and b: 11.6869\n",
      "Update: train accuracy: 3.065 value of W: 1.9877 and b: 12.1476\n",
      "Update: train accuracy: 3.065 value of W: 1.8974 and b: 12.5575\n",
      "Update: train accuracy: 3.065 value of W: 1.8170 and b: 12.9222\n",
      "Update: train accuracy: 3.065 value of W: 1.7455 and b: 13.2467\n",
      "Update: train accuracy: 3.065 value of W: 1.6820 and b: 13.5353\n",
      "Update: train accuracy: 3.065 value of W: 1.6254 and b: 13.7921\n",
      "Update: train accuracy: 3.065 value of W: 1.5751 and b: 14.0205\n"
     ]
    }
   ],
   "source": [
    "# Train for one epoch\n",
    "learning_rate = 0.01\n",
    "for epoch in range(1,10):\n",
    "    for i, (x_, y_) in enumerate(zip(x, temp)):\n",
    "        lr.train(x_, y_, learning_rate)\n",
    "        train_acc = lr.accuracy(x, temp)\n",
    "    print(\"Update: train accuracy: %0.3f\"% (train_acc), end=' ')\n",
    "    print('value of W: %.4f and b: %.4f' % (lr.W, lr.b))"
   ]
  },
  {
   "cell_type": "code",
   "execution_count": 7,
   "metadata": {},
   "outputs": [
    {
     "data": {
      "image/png": "[encoded data removed]",
      "text/plain": [
       "<matplotlib.figure.Figure at 0x10621abe0>"
      ]
     },
     "metadata": {},
     "output_type": "display_data"
    }
   ],
   "source": [
    "line = np.linspace(0, 10, 100)\n",
    "plt.plot(x, temp, 'o')\n",
    "plt.plot(line, lr.predict(line));"
   ]
  },
  {
   "cell_type": "code",
   "execution_count": null,
   "metadata": {
    "collapsed": true
   },
   "outputs": [],
   "source": []
  }
 ],
 "metadata": {
  "kernelspec": {
   "display_name": "Python 3",
   "language": "python",
   "name": "python3"
  },
  "language_info": {
   "codemirror_mode": {
    "name": "ipython",
    "version": 3
   },
   "file_extension": ".py",
   "mimetype": "text/x-python",
   "name": "python",
   "nbconvert_exporter": "python",
   "pygments_lexer": "ipython3",
   "version": "3.6.1"
  }
 },
 "nbformat": 4,
 "nbformat_minor": 2
}
