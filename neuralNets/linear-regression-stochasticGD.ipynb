{
 "cells": [
  {
   "cell_type": "markdown",
   "metadata": {},
   "source": [
    "## Linear Regression\n",
    "\n",
    "In this section we will implement a linear regression model trainable with SGD using numpy. Here are the objectives:\n",
    "\n",
    "1. Implement a simple forward model: $y = W x + b$\n",
    "\n",
    "1. build a `predict` function which returns the predicted regression value given an input $x$\n",
    "\n",
    "1. build an `accuracy` function for a batch of inputs $X$ and the corresponding expected outputs $y_{true}$ (for regression we typically use Mean Squared Error (MSE) as metric)\n",
    "\n",
    "1. build a `grad` function which computes the gradients for an $x$ and its corresponding expected output $y_{true}$ ; check that the gradients are well defined\n",
    "\n",
    "1. build a `train` function which uses the `grad` function output to update $W$ and $b$"
   ]
  },
  {
   "cell_type": "code",
   "execution_count": 1,
   "metadata": {
    "collapsed": true
   },
   "outputs": [],
   "source": [
    "%matplotlib inline\n",
    "import matplotlib.pyplot as plt\n",
    "plt.rcParams[\"figure.figsize\"] = (8, 8)\n",
    "plt.rcParams[\"font.size\"] = 14\n",
    "\n",
    "import numpy as np"
   ]
  },
  {
   "cell_type": "code",
   "execution_count": 2,
   "metadata": {
    "collapsed": true
   },
   "outputs": [],
   "source": [
    "# our toy data for this task\n",
    "x = np.random.uniform(0, 10, size=20)\n",
    "temp = 1.3*x + 15 + np.random.normal(0, 1, size=20)"
   ]
  },
  {
   "cell_type": "code",
   "execution_count": 3,
   "metadata": {},
   "outputs": [
    {
     "data": {
      "image/png": "[encoded data removed]",
      "text/plain": [
       "<matplotlib.figure.Figure at 0x1061e7c88>"
      ]
     },
     "metadata": {},
     "output_type": "display_data"
    }
   ],
   "source": [
    "plt.plot(x, temp, 'o')\n",
    "plt.xlabel(\"Minutes of sunshine in the last 10minutes\")\n",
    "plt.ylabel(\"Temperature [C]\");"
   ]
  },
  {
   "cell_type": "code",
   "execution_count": 19,
   "metadata": {
    "collapsed": true
   },
   "outputs": [],
   "source": [
    "class LinearRegression():\n",
    "    def __init__(self):\n",
    "        self.W = np.random.uniform(high=0.5, low=-0.5)\n",
    "        self.b = np.random.uniform(high=0.5, low=-0.5)\n",
    "    \n",
    "    def predict(self, X):\n",
    "        y_pred = np.dot(self.W,X) + self.b\n",
    "        return y_pred\n",
    "    \n",
    "    def grad_loss(self, x, y_true):\n",
    "        # TODO?: compute gradient with respect to W and b for one sample x\n",
    "        # and the true value y_true\n",
    "        grad_b = 0\n",
    "        grad_W = 0\n",
    "\n",
    "        #calculating the change for each point\n",
    "        grad_b += - 2 * (y_true - ((self.W*x) + self.b))\n",
    "        grad_W += - 2 * x * (y_true - ((self.W * x) + self.b))\n",
    "        \n",
    "        grads = {\"W\": grad_W, \"b\": grad_b}\n",
    "        return grads\n",
    "    \n",
    "    def train(self, x, y, learning_rate):\n",
    "        # TODO: compute one step of the gradient descent update, update W and b\n",
    "        grads = self.grad_loss(x, y)\n",
    "        \n",
    "        self.W = self.W - (learning_rate * grads['W'])\n",
    "        self.b = self.b - (learning_rate * grads['b'])\n",
    "        \n",
    "    def loss(self, x, y):\n",
    "        y_pred = self.predict(x)\n",
    "        loss = (y - y_pred)**2\n",
    "        \n",
    "        return loss\n",
    "\n",
    "    def accuracy(self, X, y):          \n",
    "        acc = self.loss(X, y)    \n",
    "        ols = np.sum(acc)/len(X)\n",
    "\n",
    "        return ols"
   ]
  },
  {
   "cell_type": "markdown",
   "metadata": {},
   "source": [
    "Questions:\n",
    "\n",
    "* how do you know that you trained for enough epochs?\n",
    "* visualise how the loss changes over the epochs\n",
    "* are more epochs always better? How could you show this?\n",
    "* change the setup to use stochastic gradient descent\n",
    "* (bonus) visualise the values of W and b over the epochs\n",
    "* (bonus) can you see a difference for the paths of W and b between SGD and normal GD?"
   ]
  },
  {
   "cell_type": "code",
   "execution_count": 20,
   "metadata": {},
   "outputs": [
    {
     "name": "stdout",
     "output_type": "stream",
     "text": [
      "initial value of W: -0.4869 and b: -0.4587\n"
     ]
    }
   ],
   "source": [
    "lr = LinearRegression()\n",
    "print('initial value of W: %.4f and b: %.4f' % (lr.W, lr.b))"
   ]
  },
  {
   "cell_type": "code",
   "execution_count": 21,
   "metadata": {
    "scrolled": true
   },
   "outputs": [
    {
     "name": "stdout",
     "output_type": "stream",
     "text": [
      "Update: train accuracy: 467.9838 value of W: -0.1634 and b: -0.4063\n",
      "Update: train accuracy: 416.8112 value of W: 0.0974 and b: -0.3585\n",
      "Update: train accuracy: 410.8028 value of W: 0.1232 and b: -0.3260\n",
      "Update: train accuracy: 354.3465 value of W: 0.4373 and b: -0.2799\n",
      "Update: train accuracy: 340.0585 value of W: 0.5167 and b: -0.2477\n",
      "Update: train accuracy: 312.6972 value of W: 0.6811 and b: -0.2150\n",
      "Update: train accuracy: 304.2536 value of W: 0.7283 and b: -0.1823\n",
      "Update: train accuracy: 261.4280 value of W: 1.0107 and b: -0.1410\n",
      "Update: train accuracy: 242.4130 value of W: 1.1413 and b: -0.1066\n",
      "Update: train accuracy: 220.6022 value of W: 1.3009 and b: -0.0745\n",
      "Update: train accuracy: 211.0731 value of W: 1.3700 and b: -0.0448\n",
      "Update: train accuracy: 197.6597 value of W: 1.4732 and b: -0.0129\n",
      "Update: train accuracy: 178.9267 value of W: 1.6303 and b: 0.0103\n",
      "Update: train accuracy: 172.5205 value of W: 1.6813 and b: 0.0395\n",
      "Update: train accuracy: 159.7782 value of W: 1.7942 and b: 0.0676\n",
      "Update: train accuracy: 152.3670 value of W: 1.8605 and b: 0.0931\n",
      "Update: train accuracy: 139.4310 value of W: 1.9867 and b: 0.1176\n",
      "Update: train accuracy: 127.2913 value of W: 2.1141 and b: 0.1359\n",
      "Update: train accuracy: 117.6687 value of W: 2.2194 and b: 0.1582\n",
      "Update: train accuracy: 110.4583 value of W: 2.3025 and b: 0.1756\n",
      "Update: train accuracy: 102.0996 value of W: 2.4052 and b: 0.1922\n",
      "Update: train accuracy: 94.3177 value of W: 2.5063 and b: 0.2107\n",
      "Update: train accuracy: 92.2640 value of W: 2.5282 and b: 0.2383\n",
      "Update: train accuracy: 86.3825 value of W: 2.6114 and b: 0.2505\n",
      "Update: train accuracy: 82.7540 value of W: 2.6617 and b: 0.2709\n",
      "Update: train accuracy: 79.4032 value of W: 2.7125 and b: 0.2810\n",
      "Update: train accuracy: 76.7117 value of W: 2.7499 and b: 0.3069\n",
      "Update: train accuracy: 71.5367 value of W: 2.8362 and b: 0.3195\n",
      "Update: train accuracy: 67.2184 value of W: 2.9108 and b: 0.3392\n",
      "Update: train accuracy: 63.6133 value of W: 2.9781 and b: 0.3527\n",
      "Update: train accuracy: 60.9657 value of W: 3.0271 and b: 0.3738\n",
      "Update: train accuracy: 57.7206 value of W: 3.0928 and b: 0.3941\n",
      "Update: train accuracy: 57.5952 value of W: 3.0956 and b: 0.3945\n",
      "Update: train accuracy: 55.5590 value of W: 3.1363 and b: 0.4178\n",
      "Update: train accuracy: 52.8357 value of W: 3.1994 and b: 0.4335\n",
      "Update: train accuracy: 50.9229 value of W: 3.2448 and b: 0.4510\n",
      "Update: train accuracy: 49.0775 value of W: 3.2939 and b: 0.4605\n",
      "Update: train accuracy: 49.2067 value of W: 3.2903 and b: 0.4600\n",
      "Update: train accuracy: 47.4437 value of W: 3.3398 and b: 0.4705\n",
      "Update: train accuracy: 46.4643 value of W: 3.3689 and b: 0.4766\n",
      "Update: train accuracy: 45.9009 value of W: 3.3865 and b: 0.4794\n",
      "Update: train accuracy: 44.6814 value of W: 3.4259 and b: 0.4866\n",
      "Update: train accuracy: 43.8652 value of W: 3.4462 and b: 0.5122\n",
      "Update: train accuracy: 44.0308 value of W: 3.4404 and b: 0.5113\n",
      "Update: train accuracy: 42.8475 value of W: 3.4794 and b: 0.5271\n",
      "Update: train accuracy: 42.6602 value of W: 3.4863 and b: 0.5285\n",
      "Update: train accuracy: 41.6301 value of W: 3.5198 and b: 0.5517\n",
      "Update: train accuracy: 41.3637 value of W: 3.5306 and b: 0.5533\n",
      "Update: train accuracy: 40.0944 value of W: 3.5834 and b: 0.5672\n",
      "Update: train accuracy: 39.4155 value of W: 3.6151 and b: 0.5736\n",
      "Update: train accuracy: 38.5281 value of W: 3.6562 and b: 0.5913\n",
      "Update: train accuracy: 37.5955 value of W: 3.7073 and b: 0.6071\n",
      "Update: train accuracy: 38.5623 value of W: 3.6507 and b: 0.5987\n",
      "Update: train accuracy: 37.7999 value of W: 3.6874 and b: 0.6197\n",
      "Update: train accuracy: 37.0886 value of W: 3.7311 and b: 0.6306\n",
      "Update: train accuracy: 36.5219 value of W: 3.7683 and b: 0.6449\n",
      "Update: train accuracy: 36.2798 value of W: 3.7876 and b: 0.6486\n",
      "Update: train accuracy: 36.9784 value of W: 3.7337 and b: 0.6409\n",
      "Update: train accuracy: 36.5858 value of W: 3.7617 and b: 0.6468\n",
      "Update: train accuracy: 36.4780 value of W: 3.7699 and b: 0.6485\n",
      "Update: train accuracy: 36.6750 value of W: 3.7547 and b: 0.6460\n",
      "Update: train accuracy: 36.4694 value of W: 3.7704 and b: 0.6489\n",
      "Update: train accuracy: 36.0873 value of W: 3.7900 and b: 0.6735\n",
      "Update: train accuracy: 36.5794 value of W: 3.7501 and b: 0.6677\n",
      "Update: train accuracy: 36.0896 value of W: 3.7845 and b: 0.6817\n",
      "Update: train accuracy: 36.2121 value of W: 3.7745 and b: 0.6797\n",
      "Update: train accuracy: 35.7390 value of W: 3.8063 and b: 0.7017\n",
      "Update: train accuracy: 35.9342 value of W: 3.7882 and b: 0.6991\n",
      "Update: train accuracy: 35.4496 value of W: 3.8325 and b: 0.7108\n",
      "Update: train accuracy: 35.2882 value of W: 3.8504 and b: 0.7143\n",
      "Update: train accuracy: 34.9452 value of W: 3.8883 and b: 0.7307\n",
      "Update: train accuracy: 34.6632 value of W: 3.9337 and b: 0.7447\n",
      "Update: train accuracy: 35.1458 value of W: 3.8544 and b: 0.7330\n",
      "Update: train accuracy: 34.8127 value of W: 3.8893 and b: 0.7530\n",
      "Update: train accuracy: 34.6002 value of W: 3.9255 and b: 0.7620\n",
      "Update: train accuracy: 34.4357 value of W: 3.9593 and b: 0.7750\n",
      "Update: train accuracy: 34.4133 value of W: 3.9672 and b: 0.7765\n",
      "Update: train accuracy: 34.7134 value of W: 3.8942 and b: 0.7660\n",
      "Update: train accuracy: 34.6014 value of W: 3.9138 and b: 0.7702\n",
      "Update: train accuracy: 34.6009 value of W: 3.9139 and b: 0.7702\n",
      "Update: train accuracy: 34.7568 value of W: 3.8862 and b: 0.7657\n",
      "Update: train accuracy: 34.7161 value of W: 3.8927 and b: 0.7669\n",
      "Update: train accuracy: 34.4952 value of W: 3.9120 and b: 0.7911\n",
      "Update: train accuracy: 34.8143 value of W: 3.8591 and b: 0.7833\n",
      "Update: train accuracy: 34.5550 value of W: 3.8917 and b: 0.7966\n",
      "Update: train accuracy: 34.6609 value of W: 3.8751 and b: 0.7932\n",
      "Update: train accuracy: 34.3904 value of W: 3.9061 and b: 0.8148\n",
      "Update: train accuracy: 34.5504 value of W: 3.8772 and b: 0.8106\n",
      "Update: train accuracy: 34.3104 value of W: 3.9181 and b: 0.8213\n",
      "Update: train accuracy: 34.2573 value of W: 3.9306 and b: 0.8238\n",
      "Update: train accuracy: 34.1041 value of W: 3.9672 and b: 0.8396\n",
      "Update: train accuracy: 34.0363 value of W: 4.0102 and b: 0.8529\n",
      "Update: train accuracy: 34.1982 value of W: 3.9224 and b: 0.8399\n",
      "Update: train accuracy: 34.0215 value of W: 3.9565 and b: 0.8594\n",
      "Update: train accuracy: 33.9596 value of W: 3.9897 and b: 0.8677\n",
      "Update: train accuracy: 33.9320 value of W: 4.0221 and b: 0.8802\n",
      "Update: train accuracy: 33.9351 value of W: 4.0256 and b: 0.8809\n",
      "Update: train accuracy: 33.9909 value of W: 3.9455 and b: 0.8693\n",
      "Update: train accuracy: 33.9500 value of W: 3.9618 and b: 0.8728\n",
      "Update: train accuracy: 33.9567 value of W: 3.9587 and b: 0.8721\n",
      "Update: train accuracy: 34.0469 value of W: 3.9264 and b: 0.8669\n",
      "Update: train accuracy: 34.0362 value of W: 3.9294 and b: 0.8674\n",
      "Update: train accuracy: 33.8772 value of W: 3.9484 and b: 0.8914\n",
      "Update: train accuracy: 34.0845 value of W: 3.8908 and b: 0.8829\n",
      "Update: train accuracy: 33.9091 value of W: 3.9225 and b: 0.8958\n",
      "Update: train accuracy: 33.9881 value of W: 3.9033 and b: 0.8920\n",
      "Update: train accuracy: 33.7946 value of W: 3.9340 and b: 0.9132\n",
      "Update: train accuracy: 33.9090 value of W: 3.9011 and b: 0.9084\n",
      "Update: train accuracy: 33.7551 value of W: 3.9405 and b: 0.9188\n",
      "Update: train accuracy: 33.7302 value of W: 3.9510 and b: 0.9209\n",
      "Update: train accuracy: 33.6473 value of W: 3.9869 and b: 0.9364\n",
      "Update: train accuracy: 33.6563 value of W: 4.0288 and b: 0.9494\n",
      "Update: train accuracy: 33.6751 value of W: 3.9380 and b: 0.9360\n",
      "Update: train accuracy: 33.5577 value of W: 3.9717 and b: 0.9552\n",
      "Update: train accuracy: 33.5475 value of W: 4.0036 and b: 0.9632\n",
      "Update: train accuracy: 33.5695 value of W: 4.0354 and b: 0.9754\n",
      "Update: train accuracy: 33.5736 value of W: 4.0372 and b: 0.9757\n",
      "Update: train accuracy: 33.5227 value of W: 3.9547 and b: 0.9638\n",
      "Update: train accuracy: 33.5037 value of W: 3.9696 and b: 0.9670\n",
      "Update: train accuracy: 33.5080 value of W: 3.9653 and b: 0.9661\n",
      "Update: train accuracy: 33.5655 value of W: 3.9313 and b: 0.9606\n",
      "Update: train accuracy: 33.5612 value of W: 3.9330 and b: 0.9609\n",
      "Update: train accuracy: 33.4267 value of W: 3.9519 and b: 0.9847\n",
      "Update: train accuracy: 33.5835 value of W: 3.8927 and b: 0.9760\n",
      "Update: train accuracy: 33.4406 value of W: 3.9239 and b: 0.9886\n",
      "Update: train accuracy: 33.5060 value of W: 3.9037 and b: 0.9846\n",
      "Update: train accuracy: 33.3427 value of W: 3.9341 and b: 1.0057\n",
      "Update: train accuracy: 33.4343 value of W: 3.9000 and b: 1.0007\n",
      "Update: train accuracy: 33.3129 value of W: 3.9387 and b: 1.0109\n",
      "Update: train accuracy: 33.2970 value of W: 3.9483 and b: 1.0129\n",
      "Update: train accuracy: 33.2410 value of W: 3.9838 and b: 1.0282\n",
      "Update: train accuracy: 33.2785 value of W: 4.0253 and b: 1.0410\n",
      "Update: train accuracy: 33.2396 value of W: 3.9335 and b: 1.0274\n",
      "Update: train accuracy: 33.1453 value of W: 3.9669 and b: 1.0465\n",
      "Update: train accuracy: 33.1540 value of W: 3.9983 and b: 1.0543\n",
      "Update: train accuracy: 33.1942 value of W: 4.0296 and b: 1.0664\n",
      "Update: train accuracy: 33.1974 value of W: 4.0308 and b: 1.0666\n",
      "Update: train accuracy: 33.1043 value of W: 3.9476 and b: 1.0546\n",
      "Update: train accuracy: 33.0930 value of W: 3.9621 and b: 1.0577\n",
      "Update: train accuracy: 33.0957 value of W: 3.9572 and b: 1.0567\n",
      "Update: train accuracy: 33.1392 value of W: 3.9227 and b: 1.0511\n",
      "Update: train accuracy: 33.1366 value of W: 3.9239 and b: 1.0513\n",
      "Update: train accuracy: 33.0125 value of W: 3.9426 and b: 1.0749\n",
      "Update: train accuracy: 33.1480 value of W: 3.8831 and b: 1.0661\n",
      "Update: train accuracy: 33.0183 value of W: 3.9140 and b: 1.0787\n",
      "Update: train accuracy: 33.0780 value of W: 3.8934 and b: 1.0746\n",
      "Update: train accuracy: 32.9271 value of W: 3.9236 and b: 1.0955\n",
      "Update: train accuracy: 33.0086 value of W: 3.8892 and b: 1.0905\n",
      "Update: train accuracy: 32.9002 value of W: 3.9276 and b: 1.1006\n",
      "Update: train accuracy: 32.8875 value of W: 3.9368 and b: 1.1025\n",
      "Update: train accuracy: 32.8423 value of W: 3.9720 and b: 1.1176\n",
      "Update: train accuracy: 32.8903 value of W: 4.0131 and b: 1.1303\n",
      "Update: train accuracy: 32.8292 value of W: 3.9213 and b: 1.1168\n",
      "Update: train accuracy: 32.7443 value of W: 3.9545 and b: 1.1357\n",
      "Update: train accuracy: 32.7600 value of W: 3.9855 and b: 1.1435\n",
      "Update: train accuracy: 32.8066 value of W: 4.0165 and b: 1.1554\n",
      "Update: train accuracy: 32.8094 value of W: 4.0175 and b: 1.1556\n",
      "Update: train accuracy: 32.7007 value of W: 3.9344 and b: 1.1436\n",
      "Update: train accuracy: 32.6922 value of W: 3.9486 and b: 1.1466\n",
      "Update: train accuracy: 32.6941 value of W: 3.9435 and b: 1.1456\n",
      "Update: train accuracy: 32.7319 value of W: 3.9089 and b: 1.1400\n",
      "Update: train accuracy: 32.7298 value of W: 3.9100 and b: 1.1402\n",
      "Update: train accuracy: 32.6106 value of W: 3.9286 and b: 1.1636\n",
      "Update: train accuracy: 32.7368 value of W: 3.8692 and b: 1.1549\n",
      "Update: train accuracy: 32.6132 value of W: 3.8998 and b: 1.1673\n",
      "Update: train accuracy: 32.6704 value of W: 3.8790 and b: 1.1632\n",
      "Update: train accuracy: 32.5253 value of W: 3.9090 and b: 1.1840\n",
      "Update: train accuracy: 32.6020 value of W: 3.8747 and b: 1.1790\n",
      "Update: train accuracy: 32.4994 value of W: 3.9129 and b: 1.1890\n",
      "Update: train accuracy: 32.4880 value of W: 3.9220 and b: 1.1908\n",
      "Update: train accuracy: 32.4472 value of W: 3.9570 and b: 1.2059\n",
      "Update: train accuracy: 32.4991 value of W: 3.9978 and b: 1.2185\n",
      "Update: train accuracy: 32.4296 value of W: 3.9062 and b: 1.2050\n",
      "Update: train accuracy: 32.3490 value of W: 3.9391 and b: 1.2238\n",
      "Update: train accuracy: 32.3672 value of W: 3.9699 and b: 1.2315\n",
      "Update: train accuracy: 32.4159 value of W: 4.0007 and b: 1.2434\n",
      "Update: train accuracy: 32.4186 value of W: 4.0016 and b: 1.2435\n",
      "Update: train accuracy: 32.3046 value of W: 3.9188 and b: 1.2316\n",
      "Update: train accuracy: 32.2973 value of W: 3.9329 and b: 1.2346\n",
      "Update: train accuracy: 32.2988 value of W: 3.9276 and b: 1.2335\n"
     ]
    }
   ],
   "source": [
    "# Train for one epoch\n",
    "learning_rate = 0.001\n",
    "for epoch in range(1,10):\n",
    "    for i, (x_, y_) in enumerate(zip(x, temp)):\n",
    "        lr.train(x_, y_, learning_rate)\n",
    "        train_acc = lr.accuracy(x, temp)\n",
    "        print(\"Update: train accuracy: %.4f\"% (train_acc), end=' ')\n",
    "        print('value of W: %.4f and b: %.4f' % (lr.W, lr.b))"
   ]
  },
  {
   "cell_type": "code",
   "execution_count": 7,
   "metadata": {},
   "outputs": [
    {
     "name": "stdout",
     "output_type": "stream",
     "text": [
      "______________________\n",
      "[  1.40396396   1.79731735   2.19067074   2.58402413   2.97737752\n",
      "   3.37073091   3.7640843    4.15743769   4.55079108   4.94414446\n",
      "   5.33749785   5.73085124   6.12420463   6.51755802   6.91091141\n",
      "   7.3042648    7.69761819   8.09097158   8.48432497   8.87767836\n",
      "   9.27103175   9.66438513  10.05773852  10.45109191  10.8444453\n",
      "  11.23779869  11.63115208  12.02450547  12.41785886  12.81121225\n",
      "  13.20456564  13.59791903  13.99127242  14.3846258   14.77797919\n",
      "  15.17133258  15.56468597  15.95803936  16.35139275  16.74474614\n",
      "  17.13809953  17.53145292  17.92480631  18.3181597   18.71151309\n",
      "  19.10486647  19.49821986  19.89157325  20.28492664  20.67828003\n",
      "  21.07163342  21.46498681  21.8583402   22.25169359  22.64504698\n",
      "  23.03840037  23.43175375  23.82510714  24.21846053  24.61181392\n",
      "  25.00516731  25.3985207   25.79187409  26.18522748  26.57858087\n",
      "  26.97193426  27.36528765  27.75864104  28.15199442  28.54534781\n",
      "  28.9387012   29.33205459  29.72540798  30.11876137  30.51211476\n",
      "  30.90546815  31.29882154  31.69217493  32.08552832  32.47888171\n",
      "  32.87223509  33.26558848  33.65894187  34.05229526  34.44564865\n",
      "  34.83900204  35.23235543  35.62570882  36.01906221  36.4124156\n",
      "  36.80576899  37.19912238  37.59247576  37.98582915  38.37918254\n",
      "  38.77253593  39.16588932  39.55924271  39.9525961   40.34594949]\n"
     ]
    },
    {
     "data": {
      "image/png": "[encoded data removed]",
      "text/plain": [
       "<matplotlib.figure.Figure at 0x106210cc0>"
      ]
     },
     "metadata": {},
     "output_type": "display_data"
    }
   ],
   "source": [
    "line = np.linspace(0, 10, 100)\n",
    "plt.plot(x, temp, 'o')\n",
    "plt.plot(line, lr.predict(line));"
   ]
  },
  {
   "cell_type": "code",
   "execution_count": null,
   "metadata": {
    "collapsed": true
   },
   "outputs": [],
   "source": []
  }
 ],
 "metadata": {
  "kernelspec": {
   "display_name": "Python 3",
   "language": "python",
   "name": "python3"
  },
  "language_info": {
   "codemirror_mode": {
    "name": "ipython",
    "version": 3
   },
   "file_extension": ".py",
   "mimetype": "text/x-python",
   "name": "python",
   "nbconvert_exporter": "python",
   "pygments_lexer": "ipython3",
   "version": "3.6.1"
  }
 },
 "nbformat": 4,
 "nbformat_minor": 2
}
