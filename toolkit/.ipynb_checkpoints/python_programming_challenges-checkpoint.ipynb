{
 "cells": [
  {
   "cell_type": "markdown",
   "metadata": {},
   "source": [
    "## Propulsion Academy Data Science curriculum\n",
    "### Day 2: Python programming challenges"
   ]
  },
  {
   "cell_type": "markdown",
   "metadata": {},
   "source": [
    "#### Challenge 1\n",
    "Print the difference between two UNIX timestamps as human-readable time"
   ]
  },
  {
   "cell_type": "code",
   "execution_count": 1,
   "metadata": {},
   "outputs": [
    {
     "name": "stdout",
     "output_type": "stream",
     "text": [
      "The time difference is 1 hour 28 minutes\n"
     ]
    }
   ],
   "source": [
    "# First we import the required libraries\n",
    "import datetime\n",
    "import dateutil.relativedelta\n",
    "import math\n",
    "# Convert the timestamps to to datetime format\n",
    "dt1 = datetime.datetime.fromtimestamp(1493560132)\n",
    "dt2 = datetime.datetime.fromtimestamp(1493565412)\n",
    "# Get the differene between two timestamps\n",
    "dtt = dt2 - dt1\n",
    "# Get the difference in seconds\n",
    "offset_seconds = dtt.total_seconds()\n",
    "## convert offset to a string first and then spit into hours and minutes\n",
    "str_time_diff = str(datetime.timedelta(seconds=offset_seconds))\n",
    "str_time_diff_split = str_time_diff.split(\":\")\n",
    "# print the time\n",
    "print(\"The time difference is \" + str_time_diff_split[0] + \" hour \" + str_time_diff_split[1], \"minutes\")"
   ]
  },
  {
   "cell_type": "markdown",
   "metadata": {},
   "source": [
    "#### Challenge 2\n",
    "Given a string, print which words appear within which other words"
   ]
  },
  {
   "cell_type": "code",
   "execution_count": 3,
   "metadata": {},
   "outputs": [
    {
     "name": "stdout",
     "output_type": "stream",
     "text": [
      "\"is\" is in words is, island\n",
      "\"a\" is in words a, palm, island\n"
     ]
    }
   ],
   "source": [
    "# import re for regular expression match\n",
    "import re\n",
    "\n",
    "string = \"There is a palm tree on the island\"\n",
    "# Split the strings into individual words\n",
    "\n",
    "string_ls = string.split()\n",
    "\n",
    "## Loop over words in the list generated above\n",
    "for word in string_ls:\n",
    "    # finding the word in the list\n",
    "    output = list(filter(lambda x:word in x, string_ls))\n",
    "    # only printing words with more than one appearance\n",
    "    if len(output) > 1:\n",
    "        print(\"\\\"\" + word + \"\\\"\" + \" is in words \" + \", \".join(output))\n",
    "\n"
   ]
  },
  {
   "cell_type": "markdown",
   "metadata": {},
   "source": [
    "#### Challenge 3\n",
    "Print all words in a string that are anagrams of each other"
   ]
  },
  {
   "cell_type": "code",
   "execution_count": 1,
   "metadata": {
    "collapsed": true
   },
   "outputs": [],
   "source": [
    "import six\n",
    "import string\n",
    "\n",
    "def list_anagrams(s):\n",
    "    # first we remove the punctuation. translate is very fast, and uses a dictionary of\n",
    "    # known punctuation characters (which is why we have to import string)\n",
    "    punctuation_remover = str.maketrans('', '', string.punctuation)\n",
    "    s = s.translate(punctuation_remover)\n",
    "    \n",
    "    # then we'll convert the string to lowercase, and split it into words\n",
    "    # split() is equivalent to split(\" \")\n",
    "    words = s.lower().split()\n",
    "    \n",
    "    # this is our main data structure: a dictionary containing the words as key, and the\n",
    "    # corresponding sorted list of characters as value. If two values are the same, then\n",
    "    # the corresponding keys (words) are anagrams\n",
    "    letter_bags = {w: ''.join(sorted(w)) for w in words}\n",
    "    # iterating over all word\n",
    "    cases = []\n",
    "    for word in words:\n",
    "        # building a list of anagrams for a given word: all words that have the same 'letter bag'\n",
    "        # (but a word is not an anagram of itself)\n",
    "        anagrams = [w for w,lb in six.iteritems(letter_bags) if lb == letter_bags[word] and w != word]\n",
    "        if anagrams and word not in cases: \n",
    "            cases.append(word)\n",
    "            cases.extend(anagrams)\n",
    "            \n",
    "            print('%s has %d anagram%s: %s' % (word,\n",
    "                                               len(anagrams), \n",
    "                                               's' if len(anagrams) > 1 else '',\n",
    "                                               ', '.join(anagrams),)\n",
    "                 )\n",
    "    print('The sentence has %d anagrams: %s' % (len(cases), ', '.join(cases)))\n",
    "\n",
    "            # note that this function returns nothing"
   ]
  },
  {
   "cell_type": "code",
   "execution_count": 2,
   "metadata": {},
   "outputs": [
    {
     "name": "stdout",
     "output_type": "stream",
     "text": [
      "listen has 1 anagram: silent\n",
      "silent has 1 anagram: listen\n"
     ]
    }
   ],
   "source": [
    "list_anagrams('how can you listen if you are not silent')"
   ]
  },
  {
   "cell_type": "code",
   "execution_count": 3,
   "metadata": {},
   "outputs": [
    {
     "name": "stdout",
     "output_type": "stream",
     "text": [
      "listen has 1 anagram: silent\n",
      "silent has 1 anagram: listen\n"
     ]
    }
   ],
   "source": [
    "# the function is insensitive to case and punctuation\n",
    "list_anagrams('how can you LISTEN! if you are not siLent???')"
   ]
  },
  {
   "cell_type": "code",
   "execution_count": 4,
   "metadata": {},
   "outputs": [
    {
     "name": "stdout",
     "output_type": "stream",
     "text": [
      "aces has 1 anagram: case\n",
      "aces has 1 anagram: case\n",
      "case has 1 anagram: aces\n",
      "toad has 2 anagrams: dato, doat\n",
      "dato has 2 anagrams: doat, toad\n",
      "doat has 2 anagrams: dato, toad\n"
     ]
    }
   ],
   "source": [
    "# since we're building a dictionary with unique keys, any repetition of a word will be omitted\n",
    "list_anagrams('ACES! I have aces in my case and some TOAD dato doat?')"
   ]
  },
  {
   "cell_type": "markdown",
   "metadata": {},
   "source": [
    "#### Challenge 4\n",
    "Write an email validation function, returning True or False depending on whether the email address is correctly formatted."
   ]
  },
  {
   "cell_type": "code",
   "execution_count": 7,
   "metadata": {
    "collapsed": true
   },
   "outputs": [],
   "source": [
    "def email_is_valid(s):\n",
    "    # we'll validate iteratively by testing several criteria, and return True only if all the tests pass\n",
    "    # does the email contain an @?\n",
    "    try:\n",
    "        local, domain = s.split('@')\n",
    "    except ValueError:\n",
    "        # if there isn't exactly one @ in the string,\n",
    "        # split will return a ValueError: too many/not enough values to unpack\n",
    "        return False\n",
    "    \n",
    "    if (not local) or (not domain):\n",
    "        # this will catch addresses like @domain.com or user@\n",
    "        return False\n",
    "    \n",
    "    # let's make sure that only legit characters are contained in the local and domain parts, \n",
    "    # cf. https://en.wikipedia.org/wiki/Email_address#Local-part\n",
    "    allowed_chars_local = \"abcdefghijklmnopqrstuvwxyzABCDEFGHIJKLMNOPQRSTUVWXYZ0123456789!#$%&'*+-/=?^_`{|}~.\"\n",
    "    if [c for c in local if c not in allowed_chars_local]:\n",
    "        return False\n",
    "    \n",
    "    allowed_chars_domain = 'abcdefghijklmnopqrstuvwxyzABCDEFGHIJKLMNOPQRSTUVWXYZ0123456789-.'\n",
    "    if [c for c in domain if c not in allowed_chars_domain]:\n",
    "        return False\n",
    "    \n",
    "    # testing whether the TLD exists goes beyond the scope of this exercise, so let's just make sure that\n",
    "    # there's at least one period in the domain, and that it's neither at the end nor the beginning\n",
    "    period_index = domain.find('.')\n",
    "    if domain.endswith('.') or (period_index in [-1, 0]): # -1 means it's not in the string\n",
    "        return False\n",
    "    \n",
    "    return True"
   ]
  },
  {
   "cell_type": "code",
   "execution_count": 8,
   "metadata": {},
   "outputs": [
    {
     "data": {
      "text/plain": [
       "True"
      ]
     },
     "execution_count": 8,
     "metadata": {},
     "output_type": "execute_result"
    }
   ],
   "source": [
    "email_is_valid('someuser@somedomain.com')"
   ]
  },
  {
   "cell_type": "code",
   "execution_count": 9,
   "metadata": {},
   "outputs": [
    {
     "data": {
      "text/plain": [
       "False"
      ]
     },
     "execution_count": 9,
     "metadata": {},
     "output_type": "execute_result"
    }
   ],
   "source": [
    "email_is_valid('someuser@')"
   ]
  },
  {
   "cell_type": "code",
   "execution_count": 10,
   "metadata": {},
   "outputs": [
    {
     "data": {
      "text/plain": [
       "False"
      ]
     },
     "execution_count": 10,
     "metadata": {},
     "output_type": "execute_result"
    }
   ],
   "source": [
    "email_is_valid('someuser@.com')"
   ]
  },
  {
   "cell_type": "code",
   "execution_count": 11,
   "metadata": {},
   "outputs": [
    {
     "data": {
      "text/plain": [
       "False"
      ]
     },
     "execution_count": 11,
     "metadata": {},
     "output_type": "execute_result"
    }
   ],
   "source": [
    "email_is_valid('some user@somedomain.com')"
   ]
  }
 ],
 "metadata": {
  "kernelspec": {
   "display_name": "Python 3",
   "language": "python",
   "name": "python3"
  },
  "language_info": {
   "codemirror_mode": {
    "name": "ipython",
    "version": 3
   },
   "file_extension": ".py",
   "mimetype": "text/x-python",
   "name": "python",
   "nbconvert_exporter": "python",
   "pygments_lexer": "ipython3",
   "version": "3.6.1"
  }
 },
 "nbformat": 4,
 "nbformat_minor": 2
}
