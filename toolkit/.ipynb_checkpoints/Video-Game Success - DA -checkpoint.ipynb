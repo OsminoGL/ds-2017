{
 "cells": [
  {
   "cell_type": "code",
   "execution_count": 219,
   "metadata": {},
   "outputs": [],
   "source": [
    "# Importing libraries\n",
    "\n",
    "import pandas as pd\n",
    "import numpy as np\n",
    "import igdbapi\n",
    "\n",
    "%matplotlib inline"
   ]
  },
  {
   "cell_type": "markdown",
   "metadata": {},
   "source": [
    "# Game Sucess Analysis"
   ]
  },
  {
   "cell_type": "markdown",
   "metadata": {},
   "source": [
    "# The goal is to identify which factors, and combinations of factors, make a game successful.\n",
    "\n",
    "### and if  there is any relationsip between a game high rating and the platform and genre of a game! \n",
    "\n",
    "### and if there is any relationship between a game high global sales and the platform and genre of a game! "
   ]
  },
  {
   "cell_type": "markdown",
   "metadata": {},
   "source": [
    "#### On the first attempt in order to acquire the largest and most reliable dataset, a test with IGDB (Internet Game Database) was tried. IGDB retrieves data from different sources, it's free and has a high number of daily queries.\n",
    "\n",
    "#### igdbapi is an implemented crawler for the API, which cointain methods to get the data easily\n",
    "\n"
   ]
  },
  {
   "cell_type": "markdown",
   "metadata": {},
   "source": [
    "#### Unfortunetaly, after getting the data, additional scrapping is required from other datasets in the API's to transform the ID's of the columns in the real name (foreign key). Which require a more time consuming solution\n",
    "\n",
    "#### From that point on the datasets provides from ign as csv files were used for the analysis"
   ]
  },
  {
   "cell_type": "code",
   "execution_count": 2,
   "metadata": {
    "collapsed": true
   },
   "outputs": [],
   "source": [
    "# API Crawler from: https://github.com/noragami/igdbapi\n",
    "# MIT License\n",
    "\n",
    "#Copyright (c) 2017 Daniele Dell'Erba"
   ]
  },
  {
   "cell_type": "code",
   "execution_count": 220,
   "metadata": {},
   "outputs": [],
   "source": [
    "# API Key\n",
    "key = 'feFQMqx7camshC9IwRH4Nifrmd2fp16AmoyjsnkdEa8lPa0ZgF'"
   ]
  },
  {
   "cell_type": "code",
   "execution_count": 5,
   "metadata": {},
   "outputs": [
    {
     "data": {
      "text/plain": [
       "<igdbapi.core.APIClient at 0x10705f400>"
      ]
     },
     "execution_count": 5,
     "metadata": {},
     "output_type": "execute_result"
    }
   ],
   "source": [
    "# Client initialization\n",
    "igdbapi.core.APIClient(api_key=key)"
   ]
  },
  {
   "cell_type": "code",
   "execution_count": 221,
   "metadata": {},
   "outputs": [
    {
     "data": {
      "text/plain": [
       "['name',\n",
       " 'slug',\n",
       " 'url',\n",
       " 'created_at',\n",
       " 'updated_at',\n",
       " 'summary',\n",
       " 'storyline',\n",
       " 'collection',\n",
       " 'franchise',\n",
       " 'hypes',\n",
       " 'rating',\n",
       " 'popularity',\n",
       " 'aggregated_rating',\n",
       " 'aggregated_rating_count',\n",
       " 'total_rating',\n",
       " 'total_rating_count',\n",
       " 'rating_count',\n",
       " 'game',\n",
       " 'games',\n",
       " 'tags',\n",
       " 'developers',\n",
       " 'publishers',\n",
       " 'game_engines',\n",
       " 'category',\n",
       " 'time_to_beat',\n",
       " 'time_to_beat.hastly',\n",
       " 'time_to_beat.normally',\n",
       " 'time_to_beat.completely',\n",
       " 'player_perspectives',\n",
       " 'game_modes',\n",
       " 'keywords',\n",
       " 'themes',\n",
       " 'genres',\n",
       " 'first_release_date',\n",
       " 'status',\n",
       " 'pulse_count',\n",
       " 'release_dates',\n",
       " 'release_dates.category',\n",
       " 'release_dates.platform',\n",
       " 'release_dates.date',\n",
       " 'release_dates.region',\n",
       " 'release_dates.human',\n",
       " 'release_dates.y',\n",
       " 'release_dates.m',\n",
       " 'alternative_names',\n",
       " 'alternative_names.name',\n",
       " 'alternative_names.comment',\n",
       " 'screenshots',\n",
       " 'screenshots.url',\n",
       " 'screenshots.cloudinary_id',\n",
       " 'screenshots.width',\n",
       " 'screenshots.height',\n",
       " 'videos',\n",
       " 'videos.name',\n",
       " 'videos.video_id',\n",
       " 'cover',\n",
       " 'cover.url',\n",
       " 'cover.cloudinary_id',\n",
       " 'cover.width',\n",
       " 'cover.height',\n",
       " 'esrb',\n",
       " 'esrb.synopsis',\n",
       " 'esrb.rating',\n",
       " 'pegi',\n",
       " 'pegi.synopsis',\n",
       " 'pegi.rating',\n",
       " 'websites',\n",
       " 'websites.category',\n",
       " 'websites.url']"
      ]
     },
     "execution_count": 221,
     "metadata": {},
     "output_type": "execute_result"
    }
   ],
   "source": [
    "# Checking meta\n",
    "igdbapi.games.Games().meta()"
   ]
  },
  {
   "cell_type": "code",
   "execution_count": 224,
   "metadata": {},
   "outputs": [],
   "source": [
    "# Retrieving the data and creating the lists to generate the dataframe\n",
    "\n",
    "# TODO: Implement method to generate the lists without redudancy\n",
    "\n",
    "names=[]; rating=[]; rating_count=[]; popularity=[]; genres=[]; perspectives=[]\n",
    "\n",
    "for x in range(1,10):\n",
    "    game = igdbapi.games.Games().find(x)\n",
    "\n",
    "    try:\n",
    "        names.append(game.name)\n",
    "    except AttributeError:\n",
    "        names.append('nan')\n",
    "    \n",
    "    try:\n",
    "        popularity.append(game.popularity)\n",
    "    except AttributeError:\n",
    "        popularity.append('nan')\n",
    "    \n",
    "    try:\n",
    "        genres.append(game.genres)\n",
    "    except AttributeError:\n",
    "        genres.append('nan')\n",
    "    \n",
    "    try:\n",
    "        perspectives.append(game.player_perspectives)\n",
    "    except AttributeError:\n",
    "        perspectives.append('nan')\n",
    "    \n",
    "    try:\n",
    "        rating_count.append(game.rating_count)\n",
    "    except AttributeError:\n",
    "        rating_count.append('nan')\n",
    "    \n",
    "    try:\n",
    "        rating.append(game.rating)\n",
    "    except AttributeError:\n",
    "        rating.append('nan')"
   ]
  },
  {
   "cell_type": "code",
   "execution_count": 25,
   "metadata": {},
   "outputs": [],
   "source": [
    "# Creating the Dataframe\n",
    "\n",
    "crit_df = pd.DataFrame({\n",
    "                        'Name':names,\n",
    "                        'Rating': rating,\n",
    "                        'Rating_count': rating_count,\n",
    "                        'Popularity': popularity,\n",
    "                        'Genres': genres, \n",
    "                        'Perspective': perspectives,\n",
    "                        'Mode': modes, \n",
    "                        })"
   ]
  },
  {
   "cell_type": "code",
   "execution_count": 225,
   "metadata": {},
   "outputs": [
    {
     "data": {
      "text/html": [
       "<div>\n",
       "<style>\n",
       "    .dataframe thead tr:only-child th {\n",
       "        text-align: right;\n",
       "    }\n",
       "\n",
       "    .dataframe thead th {\n",
       "        text-align: left;\n",
       "    }\n",
       "\n",
       "    .dataframe tbody tr th {\n",
       "        vertical-align: top;\n",
       "    }\n",
       "</style>\n",
       "<table border=\"1\" class=\"dataframe\">\n",
       "  <thead>\n",
       "    <tr style=\"text-align: right;\">\n",
       "      <th></th>\n",
       "      <th>Genres</th>\n",
       "      <th>Mode</th>\n",
       "      <th>Name</th>\n",
       "      <th>Perspective</th>\n",
       "      <th>Popularity</th>\n",
       "      <th>Rating</th>\n",
       "      <th>Rating_count</th>\n",
       "    </tr>\n",
       "  </thead>\n",
       "  <tbody>\n",
       "    <tr>\n",
       "      <th>0</th>\n",
       "      <td>[5]</td>\n",
       "      <td>[1]</td>\n",
       "      <td>Thief II: The Metal Age</td>\n",
       "      <td>[1]</td>\n",
       "      <td>2.142857</td>\n",
       "      <td>90.976</td>\n",
       "      <td>38</td>\n",
       "    </tr>\n",
       "    <tr>\n",
       "      <th>1</th>\n",
       "      <td>[5]</td>\n",
       "      <td>[1]</td>\n",
       "      <td>Thief: The Dark Project</td>\n",
       "      <td>[1]</td>\n",
       "      <td>1.571429</td>\n",
       "      <td>83.3814</td>\n",
       "      <td>51</td>\n",
       "    </tr>\n",
       "    <tr>\n",
       "      <th>2</th>\n",
       "      <td>[5]</td>\n",
       "      <td>[1]</td>\n",
       "      <td>Thief: Deadly Shadows</td>\n",
       "      <td>[1, 2]</td>\n",
       "      <td>1.428571</td>\n",
       "      <td>81.2402</td>\n",
       "      <td>35</td>\n",
       "    </tr>\n",
       "    <tr>\n",
       "      <th>3</th>\n",
       "      <td>[5]</td>\n",
       "      <td>[1]</td>\n",
       "      <td>Thief</td>\n",
       "      <td>[1]</td>\n",
       "      <td>2.857143</td>\n",
       "      <td>72.2576</td>\n",
       "      <td>67</td>\n",
       "    </tr>\n",
       "    <tr>\n",
       "      <th>4</th>\n",
       "      <td>[12]</td>\n",
       "      <td>[1, 3]</td>\n",
       "      <td>Baldur's Gate</td>\n",
       "      <td>[3]</td>\n",
       "      <td>5.000000</td>\n",
       "      <td>90.3825</td>\n",
       "      <td>74</td>\n",
       "    </tr>\n",
       "    <tr>\n",
       "      <th>5</th>\n",
       "      <td>[12, 15]</td>\n",
       "      <td>[1, 2]</td>\n",
       "      <td>Baldur's Gate II: Shadows Of Amn</td>\n",
       "      <td>[3]</td>\n",
       "      <td>2.142857</td>\n",
       "      <td>90.7379</td>\n",
       "      <td>128</td>\n",
       "    </tr>\n",
       "    <tr>\n",
       "      <th>6</th>\n",
       "      <td>[12, 16, 24]</td>\n",
       "      <td>[1]</td>\n",
       "      <td>Jagged Alliance</td>\n",
       "      <td>[3]</td>\n",
       "      <td>1.142857</td>\n",
       "      <td>88.6662</td>\n",
       "      <td>6</td>\n",
       "    </tr>\n",
       "    <tr>\n",
       "      <th>7</th>\n",
       "      <td>[12, 16, 24]</td>\n",
       "      <td>[1]</td>\n",
       "      <td>Jagged Alliance: Deadly Games</td>\n",
       "      <td>[3]</td>\n",
       "      <td>1.142857</td>\n",
       "      <td>nan</td>\n",
       "      <td>nan</td>\n",
       "    </tr>\n",
       "    <tr>\n",
       "      <th>8</th>\n",
       "      <td>[12, 16, 24]</td>\n",
       "      <td>[1]</td>\n",
       "      <td>Jagged Alliance 2</td>\n",
       "      <td>[3]</td>\n",
       "      <td>1.142857</td>\n",
       "      <td>90.0739</td>\n",
       "      <td>9</td>\n",
       "    </tr>\n",
       "  </tbody>\n",
       "</table>\n",
       "</div>"
      ],
      "text/plain": [
       "         Genres    Mode                              Name Perspective  \\\n",
       "0           [5]     [1]           Thief II: The Metal Age         [1]   \n",
       "1           [5]     [1]           Thief: The Dark Project         [1]   \n",
       "2           [5]     [1]             Thief: Deadly Shadows      [1, 2]   \n",
       "3           [5]     [1]                             Thief         [1]   \n",
       "4          [12]  [1, 3]                     Baldur's Gate         [3]   \n",
       "5      [12, 15]  [1, 2]  Baldur's Gate II: Shadows Of Amn         [3]   \n",
       "6  [12, 16, 24]     [1]                   Jagged Alliance         [3]   \n",
       "7  [12, 16, 24]     [1]     Jagged Alliance: Deadly Games         [3]   \n",
       "8  [12, 16, 24]     [1]                 Jagged Alliance 2         [3]   \n",
       "\n",
       "   Popularity   Rating Rating_count  \n",
       "0    2.142857   90.976           38  \n",
       "1    1.571429  83.3814           51  \n",
       "2    1.428571  81.2402           35  \n",
       "3    2.857143  72.2576           67  \n",
       "4    5.000000  90.3825           74  \n",
       "5    2.142857  90.7379          128  \n",
       "6    1.142857  88.6662            6  \n",
       "7    1.142857      nan          nan  \n",
       "8    1.142857  90.0739            9  "
      ]
     },
     "execution_count": 225,
     "metadata": {},
     "output_type": "execute_result"
    }
   ],
   "source": [
    "# Glimpse on the database\n",
    "crit_df"
   ]
  },
  {
   "cell_type": "code",
   "execution_count": 226,
   "metadata": {
    "collapsed": true
   },
   "outputs": [],
   "source": [
    "###\n",
    "# Following another approach\n",
    "###"
   ]
  },
  {
   "cell_type": "markdown",
   "metadata": {},
   "source": [
    "# Commercial Perspective Analysis\n",
    "\n",
    "# Global Analysis"
   ]
  },
  {
   "cell_type": "code",
   "execution_count": 177,
   "metadata": {
    "collapsed": true
   },
   "outputs": [],
   "source": [
    "# Importing data"
   ]
  },
  {
   "cell_type": "code",
   "execution_count": 30,
   "metadata": {
    "collapsed": true
   },
   "outputs": [],
   "source": [
    "vgs = pd.read_csv(\"data/ign_data/vgsales.csv\", index_col=0)"
   ]
  },
  {
   "cell_type": "code",
   "execution_count": 33,
   "metadata": {},
   "outputs": [
    {
     "data": {
      "text/html": [
       "<div>\n",
       "<style>\n",
       "    .dataframe thead tr:only-child th {\n",
       "        text-align: right;\n",
       "    }\n",
       "\n",
       "    .dataframe thead th {\n",
       "        text-align: left;\n",
       "    }\n",
       "\n",
       "    .dataframe tbody tr th {\n",
       "        vertical-align: top;\n",
       "    }\n",
       "</style>\n",
       "<table border=\"1\" class=\"dataframe\">\n",
       "  <thead>\n",
       "    <tr style=\"text-align: right;\">\n",
       "      <th></th>\n",
       "      <th>Name</th>\n",
       "      <th>Platform</th>\n",
       "      <th>Year</th>\n",
       "      <th>Genre</th>\n",
       "      <th>Publisher</th>\n",
       "      <th>NA_Sales</th>\n",
       "      <th>EU_Sales</th>\n",
       "      <th>JP_Sales</th>\n",
       "      <th>Other_Sales</th>\n",
       "      <th>Global_Sales</th>\n",
       "    </tr>\n",
       "    <tr>\n",
       "      <th>Rank</th>\n",
       "      <th></th>\n",
       "      <th></th>\n",
       "      <th></th>\n",
       "      <th></th>\n",
       "      <th></th>\n",
       "      <th></th>\n",
       "      <th></th>\n",
       "      <th></th>\n",
       "      <th></th>\n",
       "      <th></th>\n",
       "    </tr>\n",
       "  </thead>\n",
       "  <tbody>\n",
       "    <tr>\n",
       "      <th>1</th>\n",
       "      <td>Wii Sports</td>\n",
       "      <td>Wii</td>\n",
       "      <td>2006.0</td>\n",
       "      <td>Sports</td>\n",
       "      <td>Nintendo</td>\n",
       "      <td>41.49</td>\n",
       "      <td>29.02</td>\n",
       "      <td>3.77</td>\n",
       "      <td>8.46</td>\n",
       "      <td>82.74</td>\n",
       "    </tr>\n",
       "    <tr>\n",
       "      <th>2</th>\n",
       "      <td>Super Mario Bros.</td>\n",
       "      <td>NES</td>\n",
       "      <td>1985.0</td>\n",
       "      <td>Platform</td>\n",
       "      <td>Nintendo</td>\n",
       "      <td>29.08</td>\n",
       "      <td>3.58</td>\n",
       "      <td>6.81</td>\n",
       "      <td>0.77</td>\n",
       "      <td>40.24</td>\n",
       "    </tr>\n",
       "    <tr>\n",
       "      <th>3</th>\n",
       "      <td>Mario Kart Wii</td>\n",
       "      <td>Wii</td>\n",
       "      <td>2008.0</td>\n",
       "      <td>Racing</td>\n",
       "      <td>Nintendo</td>\n",
       "      <td>15.85</td>\n",
       "      <td>12.88</td>\n",
       "      <td>3.79</td>\n",
       "      <td>3.31</td>\n",
       "      <td>35.82</td>\n",
       "    </tr>\n",
       "    <tr>\n",
       "      <th>4</th>\n",
       "      <td>Wii Sports Resort</td>\n",
       "      <td>Wii</td>\n",
       "      <td>2009.0</td>\n",
       "      <td>Sports</td>\n",
       "      <td>Nintendo</td>\n",
       "      <td>15.75</td>\n",
       "      <td>11.01</td>\n",
       "      <td>3.28</td>\n",
       "      <td>2.96</td>\n",
       "      <td>33.00</td>\n",
       "    </tr>\n",
       "    <tr>\n",
       "      <th>5</th>\n",
       "      <td>Pokemon Red/Pokemon Blue</td>\n",
       "      <td>GB</td>\n",
       "      <td>1996.0</td>\n",
       "      <td>Role-Playing</td>\n",
       "      <td>Nintendo</td>\n",
       "      <td>11.27</td>\n",
       "      <td>8.89</td>\n",
       "      <td>10.22</td>\n",
       "      <td>1.00</td>\n",
       "      <td>31.37</td>\n",
       "    </tr>\n",
       "  </tbody>\n",
       "</table>\n",
       "</div>"
      ],
      "text/plain": [
       "                          Name Platform    Year         Genre Publisher  \\\n",
       "Rank                                                                      \n",
       "1                   Wii Sports      Wii  2006.0        Sports  Nintendo   \n",
       "2            Super Mario Bros.      NES  1985.0      Platform  Nintendo   \n",
       "3               Mario Kart Wii      Wii  2008.0        Racing  Nintendo   \n",
       "4            Wii Sports Resort      Wii  2009.0        Sports  Nintendo   \n",
       "5     Pokemon Red/Pokemon Blue       GB  1996.0  Role-Playing  Nintendo   \n",
       "\n",
       "      NA_Sales  EU_Sales  JP_Sales  Other_Sales  Global_Sales  \n",
       "Rank                                                           \n",
       "1        41.49     29.02      3.77         8.46         82.74  \n",
       "2        29.08      3.58      6.81         0.77         40.24  \n",
       "3        15.85     12.88      3.79         3.31         35.82  \n",
       "4        15.75     11.01      3.28         2.96         33.00  \n",
       "5        11.27      8.89     10.22         1.00         31.37  "
      ]
     },
     "execution_count": 33,
     "metadata": {},
     "output_type": "execute_result"
    }
   ],
   "source": [
    "# First glympse of the dataset\n",
    "vgs.head(5)"
   ]
  },
  {
   "cell_type": "code",
   "execution_count": 34,
   "metadata": {},
   "outputs": [
    {
     "data": {
      "text/plain": [
       "(16598, 10)"
      ]
     },
     "execution_count": 34,
     "metadata": {},
     "output_type": "execute_result"
    }
   ],
   "source": [
    "vgs.shape"
   ]
  },
  {
   "cell_type": "markdown",
   "metadata": {},
   "source": [
    "### What's the most profitable Global sales period?"
   ]
  },
  {
   "cell_type": "code",
   "execution_count": 178,
   "metadata": {
    "collapsed": true
   },
   "outputs": [],
   "source": [
    "# Lets group the sales over the years and check the total amount of Global Sales\n",
    "gSalesYear = vgs.groupby(vgs.Year).Global_Sales.sum().reset_index().sort_values('Year', ascending=True)"
   ]
  },
  {
   "cell_type": "code",
   "execution_count": 179,
   "metadata": {},
   "outputs": [
    {
     "data": {
      "text/plain": [
       "<matplotlib.axes._subplots.AxesSubplot at 0x10bbea470>"
      ]
     },
     "execution_count": 179,
     "metadata": {},
     "output_type": "execute_result"
    },
    {
     "data": {
      "image/png": "[encoded data removed]",
      "text/plain": [
       "<matplotlib.figure.Figure at 0x10c37a240>"
      ]
     },
     "metadata": {},
     "output_type": "display_data"
    }
   ],
   "source": [
    "# Ploting the graphic\n",
    "gSalesYear.plot(x='Year', y='Global_Sales', figsize=(14,6), title='Games Global Sales per Year')"
   ]
  },
  {
   "cell_type": "markdown",
   "metadata": {},
   "source": [
    "#### Based on the Pareto's Principle (80/20) where 80% of effects come from 20% of causes, let's find if it's apply for global sales along the years. Moreover we want to focus on the years where the current platforms were in the market already."
   ]
  },
  {
   "cell_type": "code",
   "execution_count": 180,
   "metadata": {},
   "outputs": [
    {
     "data": {
      "text/plain": [
       "7056.2879999999632"
      ]
     },
     "execution_count": 180,
     "metadata": {},
     "output_type": "execute_result"
    }
   ],
   "source": [
    "# Finding the 80% from total global sales\n",
    "total_80p = gSalesYear.Global_Sales.sum()*.8\n",
    "total_80p"
   ]
  },
  {
   "cell_type": "code",
   "execution_count": 181,
   "metadata": {},
   "outputs": [
    {
     "data": {
      "text/html": [
       "<div>\n",
       "<style>\n",
       "    .dataframe thead tr:only-child th {\n",
       "        text-align: right;\n",
       "    }\n",
       "\n",
       "    .dataframe thead th {\n",
       "        text-align: left;\n",
       "    }\n",
       "\n",
       "    .dataframe tbody tr th {\n",
       "        vertical-align: top;\n",
       "    }\n",
       "</style>\n",
       "<table border=\"1\" class=\"dataframe\">\n",
       "  <thead>\n",
       "    <tr style=\"text-align: right;\">\n",
       "      <th></th>\n",
       "      <th>Year</th>\n",
       "      <th>Global_Sales</th>\n",
       "    </tr>\n",
       "  </thead>\n",
       "  <tbody>\n",
       "    <tr>\n",
       "      <th>28</th>\n",
       "      <td>2008.0</td>\n",
       "      <td>678.9</td>\n",
       "    </tr>\n",
       "  </tbody>\n",
       "</table>\n",
       "</div>"
      ],
      "text/plain": [
       "      Year  Global_Sales\n",
       "28  2008.0         678.9"
      ]
     },
     "execution_count": 181,
     "metadata": {},
     "output_type": "execute_result"
    }
   ],
   "source": [
    "# Best year for global sales (peak)\n",
    "gSalesYear.sort_values('Global_Sales', ascending=False).head(1)"
   ]
  },
  {
   "cell_type": "code",
   "execution_count": 164,
   "metadata": {},
   "outputs": [
    {
     "data": {
      "text/plain": [
       "7.8000000000000007"
      ]
     },
     "execution_count": 164,
     "metadata": {},
     "output_type": "execute_result"
    }
   ],
   "source": [
    "# 20% of the quantity of the years\n",
    "gSalesYear.Year.count()*.2"
   ]
  },
  {
   "cell_type": "code",
   "execution_count": 165,
   "metadata": {
    "collapsed": true
   },
   "outputs": [],
   "source": [
    "# Around 8 years using 2008 as the peak we have the period between 2005 and 2013 \n",
    "gSalesPeriod = vgs[(vgs.Year>=2005) & (vgs.Year<=2013)]"
   ]
  },
  {
   "cell_type": "code",
   "execution_count": 167,
   "metadata": {},
   "outputs": [
    {
     "data": {
      "text/plain": [
       "0.67831698479427494"
      ]
     },
     "execution_count": 167,
     "metadata": {},
     "output_type": "execute_result"
    }
   ],
   "source": [
    "gSalesPeriod.Global_Sales.sum()/total_80p"
   ]
  },
  {
   "cell_type": "markdown",
   "metadata": {},
   "source": [
    "#### The 20% of the years actually represent around 67% of the Global sales. "
   ]
  },
  {
   "cell_type": "markdown",
   "metadata": {},
   "source": [
    "#### From now on let's use the period between 2005 and 2016 (inclusive) for further analysis. Once the new platforms are more relevant for sales."
   ]
  },
  {
   "cell_type": "code",
   "execution_count": 172,
   "metadata": {
    "collapsed": true
   },
   "outputs": [],
   "source": [
    "gSalesPeriod = vgs[(vgs.Year>=2005) & (vgs.Year<=2016)]"
   ]
  },
  {
   "cell_type": "markdown",
   "metadata": {},
   "source": [
    "### What's the most profitable platforms on the desired period?"
   ]
  },
  {
   "cell_type": "code",
   "execution_count": 173,
   "metadata": {},
   "outputs": [],
   "source": [
    "gSalesPlat = gSalesPeriod.groupby(gSalesPeriod.Platform).Global_Sales.sum().reset_index().sort_values('Global_Sales', ascending=False)"
   ]
  },
  {
   "cell_type": "code",
   "execution_count": 174,
   "metadata": {},
   "outputs": [
    {
     "data": {
      "text/plain": [
       "<matplotlib.axes._subplots.AxesSubplot at 0x10e3fd550>"
      ]
     },
     "execution_count": 174,
     "metadata": {},
     "output_type": "execute_result"
    },
    {
     "data": {
      "image/png": "[encoded data removed]",
      "text/plain": [
       "<matplotlib.figure.Figure at 0x10e40b710>"
      ]
     },
     "metadata": {},
     "output_type": "display_data"
    }
   ],
   "source": [
    "gSalesPlat.plot(x='Platform', y='Global_Sales', kind='bar', figsize=(14,6), title='Global Sales per Platform between 2005~2016')"
   ]
  },
  {
   "cell_type": "markdown",
   "metadata": {},
   "source": [
    "### What's the most profitable genres in the desirable period?"
   ]
  },
  {
   "cell_type": "code",
   "execution_count": 175,
   "metadata": {
    "collapsed": true
   },
   "outputs": [],
   "source": [
    "gSalesGenr = gSalesPeriod.groupby(vgs.Genre).Global_Sales.sum().reset_index().sort_values('Global_Sales', ascending=False)"
   ]
  },
  {
   "cell_type": "code",
   "execution_count": 176,
   "metadata": {},
   "outputs": [
    {
     "data": {
      "text/plain": [
       "<matplotlib.axes._subplots.AxesSubplot at 0x10e2b50b8>"
      ]
     },
     "execution_count": 176,
     "metadata": {},
     "output_type": "execute_result"
    },
    {
     "data": {
      "image/png": "[encoded data removed]",
      "text/plain": [
       "<matplotlib.figure.Figure at 0x10dc3eac8>"
      ]
     },
     "metadata": {},
     "output_type": "display_data"
    }
   ],
   "source": [
    "gSalesGenr.plot(x='Genre', y='Global_Sales', kind='bar', figsize=(14,6))"
   ]
  },
  {
   "cell_type": "markdown",
   "metadata": {},
   "source": [
    "## Conclusions on a Global scale:\n",
    "#### Action, Sports, Shooter, Misc and Role-Playing are the most impactful genres\n",
    "#### Xbox360, PS3 , Wii and DS are most impactful platforms\n"
   ]
  },
  {
   "cell_type": "markdown",
   "metadata": {},
   "source": [
    "# Regional Analysis"
   ]
  },
  {
   "cell_type": "code",
   "execution_count": 229,
   "metadata": {
    "collapsed": true
   },
   "outputs": [],
   "source": [
    "#TODO"
   ]
  },
  {
   "cell_type": "markdown",
   "metadata": {},
   "source": [
    "# Critically Perspective Analysis"
   ]
  },
  {
   "cell_type": "code",
   "execution_count": 183,
   "metadata": {
    "collapsed": true
   },
   "outputs": [],
   "source": [
    "# Importing the data \n",
    "\n",
    "ign = pd.read_csv(\"data/ign_data/ign.csv\")"
   ]
  },
  {
   "cell_type": "code",
   "execution_count": 184,
   "metadata": {},
   "outputs": [
    {
     "data": {
      "text/html": [
       "<div>\n",
       "<style>\n",
       "    .dataframe thead tr:only-child th {\n",
       "        text-align: right;\n",
       "    }\n",
       "\n",
       "    .dataframe thead th {\n",
       "        text-align: left;\n",
       "    }\n",
       "\n",
       "    .dataframe tbody tr th {\n",
       "        vertical-align: top;\n",
       "    }\n",
       "</style>\n",
       "<table border=\"1\" class=\"dataframe\">\n",
       "  <thead>\n",
       "    <tr style=\"text-align: right;\">\n",
       "      <th></th>\n",
       "      <th>Unnamed: 0</th>\n",
       "      <th>score_phrase</th>\n",
       "      <th>title</th>\n",
       "      <th>url</th>\n",
       "      <th>platform</th>\n",
       "      <th>score</th>\n",
       "      <th>genre</th>\n",
       "      <th>editors_choice</th>\n",
       "      <th>release_year</th>\n",
       "      <th>release_month</th>\n",
       "      <th>release_day</th>\n",
       "    </tr>\n",
       "  </thead>\n",
       "  <tbody>\n",
       "    <tr>\n",
       "      <th>0</th>\n",
       "      <td>0</td>\n",
       "      <td>Amazing</td>\n",
       "      <td>LittleBigPlanet PS Vita</td>\n",
       "      <td>/games/littlebigplanet-vita/vita-98907</td>\n",
       "      <td>PlayStation Vita</td>\n",
       "      <td>9.0</td>\n",
       "      <td>Platformer</td>\n",
       "      <td>Y</td>\n",
       "      <td>2012</td>\n",
       "      <td>9</td>\n",
       "      <td>12</td>\n",
       "    </tr>\n",
       "    <tr>\n",
       "      <th>1</th>\n",
       "      <td>1</td>\n",
       "      <td>Amazing</td>\n",
       "      <td>LittleBigPlanet PS Vita -- Marvel Super Hero E...</td>\n",
       "      <td>/games/littlebigplanet-ps-vita-marvel-super-he...</td>\n",
       "      <td>PlayStation Vita</td>\n",
       "      <td>9.0</td>\n",
       "      <td>Platformer</td>\n",
       "      <td>Y</td>\n",
       "      <td>2012</td>\n",
       "      <td>9</td>\n",
       "      <td>12</td>\n",
       "    </tr>\n",
       "    <tr>\n",
       "      <th>2</th>\n",
       "      <td>2</td>\n",
       "      <td>Great</td>\n",
       "      <td>Splice: Tree of Life</td>\n",
       "      <td>/games/splice/ipad-141070</td>\n",
       "      <td>iPad</td>\n",
       "      <td>8.5</td>\n",
       "      <td>Puzzle</td>\n",
       "      <td>N</td>\n",
       "      <td>2012</td>\n",
       "      <td>9</td>\n",
       "      <td>12</td>\n",
       "    </tr>\n",
       "    <tr>\n",
       "      <th>3</th>\n",
       "      <td>3</td>\n",
       "      <td>Great</td>\n",
       "      <td>NHL 13</td>\n",
       "      <td>/games/nhl-13/xbox-360-128182</td>\n",
       "      <td>Xbox 360</td>\n",
       "      <td>8.5</td>\n",
       "      <td>Sports</td>\n",
       "      <td>N</td>\n",
       "      <td>2012</td>\n",
       "      <td>9</td>\n",
       "      <td>11</td>\n",
       "    </tr>\n",
       "    <tr>\n",
       "      <th>4</th>\n",
       "      <td>4</td>\n",
       "      <td>Great</td>\n",
       "      <td>NHL 13</td>\n",
       "      <td>/games/nhl-13/ps3-128181</td>\n",
       "      <td>PlayStation 3</td>\n",
       "      <td>8.5</td>\n",
       "      <td>Sports</td>\n",
       "      <td>N</td>\n",
       "      <td>2012</td>\n",
       "      <td>9</td>\n",
       "      <td>11</td>\n",
       "    </tr>\n",
       "  </tbody>\n",
       "</table>\n",
       "</div>"
      ],
      "text/plain": [
       "   Unnamed: 0 score_phrase                                              title  \\\n",
       "0           0      Amazing                            LittleBigPlanet PS Vita   \n",
       "1           1      Amazing  LittleBigPlanet PS Vita -- Marvel Super Hero E...   \n",
       "2           2        Great                               Splice: Tree of Life   \n",
       "3           3        Great                                             NHL 13   \n",
       "4           4        Great                                             NHL 13   \n",
       "\n",
       "                                                 url          platform  score  \\\n",
       "0             /games/littlebigplanet-vita/vita-98907  PlayStation Vita    9.0   \n",
       "1  /games/littlebigplanet-ps-vita-marvel-super-he...  PlayStation Vita    9.0   \n",
       "2                          /games/splice/ipad-141070              iPad    8.5   \n",
       "3                      /games/nhl-13/xbox-360-128182          Xbox 360    8.5   \n",
       "4                           /games/nhl-13/ps3-128181     PlayStation 3    8.5   \n",
       "\n",
       "        genre editors_choice  release_year  release_month  release_day  \n",
       "0  Platformer              Y          2012              9           12  \n",
       "1  Platformer              Y          2012              9           12  \n",
       "2      Puzzle              N          2012              9           12  \n",
       "3      Sports              N          2012              9           11  \n",
       "4      Sports              N          2012              9           11  "
      ]
     },
     "execution_count": 184,
     "metadata": {},
     "output_type": "execute_result"
    }
   ],
   "source": [
    "# Checking the dataset\n",
    "ign.head(5)"
   ]
  },
  {
   "cell_type": "code",
   "execution_count": 185,
   "metadata": {},
   "outputs": [
    {
     "data": {
      "text/plain": [
       "(18625, 11)"
      ]
     },
     "execution_count": 185,
     "metadata": {},
     "output_type": "execute_result"
    }
   ],
   "source": [
    "ign.shape"
   ]
  },
  {
   "cell_type": "markdown",
   "metadata": {},
   "source": [
    "### What'are the most well evaluated genres and platforms?"
   ]
  },
  {
   "cell_type": "markdown",
   "metadata": {},
   "source": [
    "#### The split values choice for the desired features are scores bigger or equal than 9.0 and amazing score_phase "
   ]
  },
  {
   "cell_type": "code",
   "execution_count": 189,
   "metadata": {},
   "outputs": [],
   "source": [
    "amazingGames_df = ign[(ign.score_phrase == 'Amazing') & (ign.score >= 9.0)]"
   ]
  },
  {
   "cell_type": "code",
   "execution_count": 208,
   "metadata": {},
   "outputs": [],
   "source": [
    "# From all those highly rated games, let's find those who the media approves\n",
    "temp_df = amazingGames_df.groupby(amazingGames_df.platform).editors_choice.count().reset_index().sort_values('editors_choice', ascending=False)"
   ]
  },
  {
   "cell_type": "code",
   "execution_count": 214,
   "metadata": {},
   "outputs": [
    {
     "data": {
      "text/plain": [
       "<matplotlib.axes._subplots.AxesSubplot at 0x10b2e4400>"
      ]
     },
     "execution_count": 214,
     "metadata": {},
     "output_type": "execute_result"
    },
    {
     "data": {
      "image/png": "[encoded data removed]",
      "text/plain": [
       "<matplotlib.figure.Figure at 0x10dc0ed30>"
      ]
     },
     "metadata": {},
     "output_type": "display_data"
    }
   ],
   "source": [
    "temp_df.plot(x='platform', y='editors_choice', kind='bar', figsize=(16,6))"
   ]
  },
  {
   "cell_type": "code",
   "execution_count": 215,
   "metadata": {},
   "outputs": [],
   "source": [
    "# Let's use the same approach for the genre \n",
    "temp_df = amazingGames_df.groupby(amazingGames_df.genre).editors_choice.count().reset_index().sort_values('editors_choice', ascending=False)"
   ]
  },
  {
   "cell_type": "code",
   "execution_count": 216,
   "metadata": {},
   "outputs": [
    {
     "data": {
      "text/plain": [
       "<matplotlib.axes._subplots.AxesSubplot at 0x10e49f550>"
      ]
     },
     "execution_count": 216,
     "metadata": {},
     "output_type": "execute_result"
    },
    {
     "data": {
      "image/png": "[encoded data removed]",
      "text/plain": [
       "<matplotlib.figure.Figure at 0x10e414e10>"
      ]
     },
     "metadata": {},
     "output_type": "display_data"
    }
   ],
   "source": [
    "temp_df.plot(x='genre', y='editors_choice', kind='bar', figsize=(16,6))"
   ]
  },
  {
   "cell_type": "markdown",
   "metadata": {},
   "source": [
    "# Conclusions:\n",
    "### Action, Shooter, Sports, and RPG are the most well evaluated genres\n",
    "### PC, Xbox360, Playstation3 and Playstation2 are the platforms with the biggest amount of high evaluated games"
   ]
  }
 ],
 "metadata": {
  "kernelspec": {
   "display_name": "Python 3",
   "language": "python",
   "name": "python3"
  },
  "language_info": {
   "codemirror_mode": {
    "name": "ipython",
    "version": 3
   },
   "file_extension": ".py",
   "mimetype": "text/x-python",
   "name": "python",
   "nbconvert_exporter": "python",
   "pygments_lexer": "ipython3",
   "version": "3.6.1"
  }
 },
 "nbformat": 4,
 "nbformat_minor": 2
}
