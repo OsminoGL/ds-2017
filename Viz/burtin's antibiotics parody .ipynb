{
 "cells": [
  {
   "cell_type": "code",
   "execution_count": 1,
   "metadata": {
    "collapsed": true
   },
   "outputs": [],
   "source": [
    "# graph showing the effectiveness of three popular antibiotics on 16 different bacteria\n",
    "# parody of the Will Burtin graphic"
   ]
  },
  {
   "cell_type": "code",
   "execution_count": 2,
   "metadata": {
    "collapsed": true
   },
   "outputs": [],
   "source": [
    "import pandas as pd\n",
    "import numpy as np\n",
    "\n",
    "import matplotlib.pyplot as plt\n",
    "%matplotlib inline\n",
    "\n",
    "import seaborn as sns"
   ]
  },
  {
   "cell_type": "code",
   "execution_count": 3,
   "metadata": {
    "collapsed": true
   },
   "outputs": [],
   "source": [
    "df = pd.read_csv(\"data/bacteria.csv\")"
   ]
  },
  {
   "cell_type": "code",
   "execution_count": 4,
   "metadata": {
    "scrolled": true
   },
   "outputs": [
    {
     "data": {
      "text/html": [
       "<div>\n",
       "<style>\n",
       "    .dataframe thead tr:only-child th {\n",
       "        text-align: right;\n",
       "    }\n",
       "\n",
       "    .dataframe thead th {\n",
       "        text-align: left;\n",
       "    }\n",
       "\n",
       "    .dataframe tbody tr th {\n",
       "        vertical-align: top;\n",
       "    }\n",
       "</style>\n",
       "<table border=\"1\" class=\"dataframe\">\n",
       "  <thead>\n",
       "    <tr style=\"text-align: right;\">\n",
       "      <th></th>\n",
       "      <th>name</th>\n",
       "      <th>penicillin</th>\n",
       "      <th>streptomycin</th>\n",
       "      <th>neomycin</th>\n",
       "      <th>gram</th>\n",
       "    </tr>\n",
       "  </thead>\n",
       "  <tbody>\n",
       "    <tr>\n",
       "      <th>12</th>\n",
       "      <td>Staphylococcus albus</td>\n",
       "      <td>0.007</td>\n",
       "      <td>0.1</td>\n",
       "      <td>0.001</td>\n",
       "      <td>positive</td>\n",
       "    </tr>\n",
       "  </tbody>\n",
       "</table>\n",
       "</div>"
      ],
      "text/plain": [
       "                    name  penicillin  streptomycin  neomycin      gram\n",
       "12  Staphylococcus albus       0.007           0.1     0.001  positive"
      ]
     },
     "execution_count": 4,
     "metadata": {},
     "output_type": "execute_result"
    }
   ],
   "source": [
    "df[df.name == 'Staphylococcus albus']"
   ]
  },
  {
   "cell_type": "code",
   "execution_count": 5,
   "metadata": {
    "collapsed": true
   },
   "outputs": [],
   "source": [
    "from sklearn.preprocessing import normalize\n",
    "df_ = pd.DataFrame(normalize(df.iloc[:,1:4], axis=0))\n",
    "df_.insert(0, 'name', df['name'])\n",
    "df_.columns = ['name', 'penicillin', 'streptomycin', 'neomycin']"
   ]
  },
  {
   "cell_type": "code",
   "execution_count": 6,
   "metadata": {},
   "outputs": [
    {
     "data": {
      "text/html": [
       "<div>\n",
       "<style>\n",
       "    .dataframe thead tr:only-child th {\n",
       "        text-align: right;\n",
       "    }\n",
       "\n",
       "    .dataframe thead th {\n",
       "        text-align: left;\n",
       "    }\n",
       "\n",
       "    .dataframe tbody tr th {\n",
       "        vertical-align: top;\n",
       "    }\n",
       "</style>\n",
       "<table border=\"1\" class=\"dataframe\">\n",
       "  <thead>\n",
       "    <tr style=\"text-align: right;\">\n",
       "      <th></th>\n",
       "      <th>name</th>\n",
       "      <th>penicillin</th>\n",
       "      <th>streptomycin</th>\n",
       "      <th>neomycin</th>\n",
       "    </tr>\n",
       "  </thead>\n",
       "  <tbody>\n",
       "    <tr>\n",
       "      <th>0</th>\n",
       "      <td>Mycobacterium tuberculosis</td>\n",
       "      <td>0.473712</td>\n",
       "      <td>0.234553</td>\n",
       "      <td>0.047039</td>\n",
       "    </tr>\n",
       "    <tr>\n",
       "      <th>1</th>\n",
       "      <td>Salmonella schottmuelleri</td>\n",
       "      <td>0.005921</td>\n",
       "      <td>0.037528</td>\n",
       "      <td>0.002117</td>\n",
       "    </tr>\n",
       "    <tr>\n",
       "      <th>2</th>\n",
       "      <td>Proteus vulgaris</td>\n",
       "      <td>0.001776</td>\n",
       "      <td>0.004691</td>\n",
       "      <td>0.002352</td>\n",
       "    </tr>\n",
       "  </tbody>\n",
       "</table>\n",
       "</div>"
      ],
      "text/plain": [
       "                         name  penicillin  streptomycin  neomycin\n",
       "0  Mycobacterium tuberculosis    0.473712      0.234553  0.047039\n",
       "1   Salmonella schottmuelleri    0.005921      0.037528  0.002117\n",
       "2            Proteus vulgaris    0.001776      0.004691  0.002352"
      ]
     },
     "execution_count": 6,
     "metadata": {},
     "output_type": "execute_result"
    }
   ],
   "source": [
    "df_.head(3)"
   ]
  },
  {
   "cell_type": "code",
   "execution_count": 7,
   "metadata": {
    "collapsed": true
   },
   "outputs": [],
   "source": [
    "#myDict = {'negative': -1, 'positive': 1}\n",
    "\n",
    "df_['ratio'] = df.gram.apply(lambda x: (1 if x == 'positive' else -1))\n",
    "\n",
    "df_['penicillin'] = df_['penicillin'] * df_.ratio\n",
    "df_['streptomycin'] = df_['neomycin'] * df_.ratio\n",
    "df_['neomycin'] = df_['neomycin'] * df_.ratio"
   ]
  },
  {
   "cell_type": "code",
   "execution_count": 8,
   "metadata": {
    "collapsed": true
   },
   "outputs": [],
   "source": [
    "del df_['ratio']"
   ]
  },
  {
   "cell_type": "code",
   "execution_count": 9,
   "metadata": {},
   "outputs": [
    {
     "data": {
      "text/html": [
       "<div>\n",
       "<style>\n",
       "    .dataframe thead tr:only-child th {\n",
       "        text-align: right;\n",
       "    }\n",
       "\n",
       "    .dataframe thead th {\n",
       "        text-align: left;\n",
       "    }\n",
       "\n",
       "    .dataframe tbody tr th {\n",
       "        vertical-align: top;\n",
       "    }\n",
       "</style>\n",
       "<table border=\"1\" class=\"dataframe\">\n",
       "  <thead>\n",
       "    <tr style=\"text-align: right;\">\n",
       "      <th></th>\n",
       "      <th>name</th>\n",
       "      <th>penicillin</th>\n",
       "      <th>streptomycin</th>\n",
       "      <th>neomycin</th>\n",
       "    </tr>\n",
       "  </thead>\n",
       "  <tbody>\n",
       "    <tr>\n",
       "      <th>0</th>\n",
       "      <td>Mycobacterium tuberculosis</td>\n",
       "      <td>-0.473712</td>\n",
       "      <td>-0.047039</td>\n",
       "      <td>-0.047039</td>\n",
       "    </tr>\n",
       "    <tr>\n",
       "      <th>1</th>\n",
       "      <td>Salmonella schottmuelleri</td>\n",
       "      <td>-0.005921</td>\n",
       "      <td>-0.002117</td>\n",
       "      <td>-0.002117</td>\n",
       "    </tr>\n",
       "    <tr>\n",
       "      <th>2</th>\n",
       "      <td>Proteus vulgaris</td>\n",
       "      <td>-0.001776</td>\n",
       "      <td>-0.002352</td>\n",
       "      <td>-0.002352</td>\n",
       "    </tr>\n",
       "  </tbody>\n",
       "</table>\n",
       "</div>"
      ],
      "text/plain": [
       "                         name  penicillin  streptomycin  neomycin\n",
       "0  Mycobacterium tuberculosis   -0.473712     -0.047039 -0.047039\n",
       "1   Salmonella schottmuelleri   -0.005921     -0.002117 -0.002117\n",
       "2            Proteus vulgaris   -0.001776     -0.002352 -0.002352"
      ]
     },
     "execution_count": 9,
     "metadata": {},
     "output_type": "execute_result"
    }
   ],
   "source": [
    "df_.head(3)"
   ]
  },
  {
   "cell_type": "code",
   "execution_count": 22,
   "metadata": {},
   "outputs": [
    {
     "data": {
      "image/png": "[encoded data removed]",
      "text/plain": [
       "<matplotlib.figure.Figure at 0x10bdf4ba8>"
      ]
     },
     "metadata": {},
     "output_type": "display_data"
    }
   ],
   "source": [
    "#fig = plt.figure(figsize=(10,5))\n",
    "#ax = fig.add_subplot(111)\n",
    "\n",
    "g = df_.plot(x='name', \n",
    "            kind='barh',\n",
    "            figsize=(15,10),\n",
    "            fontsize=12,\n",
    "            width=1.5\n",
    "\n",
    ")\n",
    "\n",
    "g.set_title('Burtin\\'s Antibiotics Parody', fontsize= 30)\n",
    "g.set_xlim([-1, 1])\n",
    "g.set_xticklabels([0.8, 0.6, 0.4, 0.2, 0.0, 0.2, 0.4, 0.6, 0.8, 1.0])\n",
    "\n",
    "g.set_xlabel(\"Antibiotic Efficiency\", fontsize=13)\n",
    "g.set_ylabel(\"Bacteria\", fontsize=13)\n",
    "\n",
    "g.axvspan(-1, 0, color='r', alpha=0.05, lw=0)\n",
    "g.axvspan(0, 1, color='g', alpha=0.05, lw=0)\n",
    "\n",
    "g.text(-.6, 13, 'Gram-Negative', fontsize=14)\n",
    "g.text(.5, 8, 'Gram-Positive', fontsize=14)\n",
    "\n",
    "g.legend(loc=4,prop={'size':13})\n",
    "\n",
    "fig = g.get_figure()\n",
    "fig.savefig(\"img1.jpg\")\n",
    "None"
   ]
  },
  {
   "cell_type": "code",
   "execution_count": 11,
   "metadata": {
    "collapsed": true
   },
   "outputs": [],
   "source": [
    "_df_ = df.copy()"
   ]
  },
  {
   "cell_type": "code",
   "execution_count": 12,
   "metadata": {
    "collapsed": true
   },
   "outputs": [],
   "source": [
    "_df_.loc[_df_.gram == 'negative', ['neomycin', 'penicillin','streptomycin']] = -_df_.loc[df.gram == 'negative', ['neomycin', 'penicillin','streptomycin']]"
   ]
  },
  {
   "cell_type": "code",
   "execution_count": 13,
   "metadata": {},
   "outputs": [
    {
     "data": {
      "text/html": [
       "<div>\n",
       "<style>\n",
       "    .dataframe thead tr:only-child th {\n",
       "        text-align: right;\n",
       "    }\n",
       "\n",
       "    .dataframe thead th {\n",
       "        text-align: left;\n",
       "    }\n",
       "\n",
       "    .dataframe tbody tr th {\n",
       "        vertical-align: top;\n",
       "    }\n",
       "</style>\n",
       "<table border=\"1\" class=\"dataframe\">\n",
       "  <thead>\n",
       "    <tr style=\"text-align: right;\">\n",
       "      <th></th>\n",
       "      <th>name</th>\n",
       "      <th>penicillin</th>\n",
       "      <th>streptomycin</th>\n",
       "      <th>neomycin</th>\n",
       "      <th>gram</th>\n",
       "    </tr>\n",
       "  </thead>\n",
       "  <tbody>\n",
       "    <tr>\n",
       "      <th>0</th>\n",
       "      <td>Mycobacterium tuberculosis</td>\n",
       "      <td>-800.0</td>\n",
       "      <td>-5.0</td>\n",
       "      <td>-2.00</td>\n",
       "      <td>negative</td>\n",
       "    </tr>\n",
       "    <tr>\n",
       "      <th>1</th>\n",
       "      <td>Salmonella schottmuelleri</td>\n",
       "      <td>-10.0</td>\n",
       "      <td>-0.8</td>\n",
       "      <td>-0.09</td>\n",
       "      <td>negative</td>\n",
       "    </tr>\n",
       "    <tr>\n",
       "      <th>2</th>\n",
       "      <td>Proteus vulgaris</td>\n",
       "      <td>-3.0</td>\n",
       "      <td>-0.1</td>\n",
       "      <td>-0.10</td>\n",
       "      <td>negative</td>\n",
       "    </tr>\n",
       "  </tbody>\n",
       "</table>\n",
       "</div>"
      ],
      "text/plain": [
       "                         name  penicillin  streptomycin  neomycin      gram\n",
       "0  Mycobacterium tuberculosis      -800.0          -5.0     -2.00  negative\n",
       "1   Salmonella schottmuelleri       -10.0          -0.8     -0.09  negative\n",
       "2            Proteus vulgaris        -3.0          -0.1     -0.10  negative"
      ]
     },
     "execution_count": 13,
     "metadata": {},
     "output_type": "execute_result"
    }
   ],
   "source": [
    "_df_.head(3)"
   ]
  },
  {
   "cell_type": "code",
   "execution_count": 14,
   "metadata": {
    "collapsed": true
   },
   "outputs": [],
   "source": [
    "_df_ = pd.DataFrame(normalize(_df_.iloc[:,1:4], axis=0))"
   ]
  },
  {
   "cell_type": "code",
   "execution_count": 15,
   "metadata": {
    "collapsed": true
   },
   "outputs": [],
   "source": [
    "_df_.insert(0, 'name', df['name'])\n",
    "_df_.columns = ['name', 'penicillin', 'streptomycin', 'neomycin']"
   ]
  },
  {
   "cell_type": "code",
   "execution_count": 16,
   "metadata": {},
   "outputs": [
    {
     "data": {
      "text/html": [
       "<div>\n",
       "<style>\n",
       "    .dataframe thead tr:only-child th {\n",
       "        text-align: right;\n",
       "    }\n",
       "\n",
       "    .dataframe thead th {\n",
       "        text-align: left;\n",
       "    }\n",
       "\n",
       "    .dataframe tbody tr th {\n",
       "        vertical-align: top;\n",
       "    }\n",
       "</style>\n",
       "<table border=\"1\" class=\"dataframe\">\n",
       "  <thead>\n",
       "    <tr style=\"text-align: right;\">\n",
       "      <th></th>\n",
       "      <th>name</th>\n",
       "      <th>penicillin</th>\n",
       "      <th>streptomycin</th>\n",
       "      <th>neomycin</th>\n",
       "    </tr>\n",
       "  </thead>\n",
       "  <tbody>\n",
       "    <tr>\n",
       "      <th>0</th>\n",
       "      <td>Mycobacterium tuberculosis</td>\n",
       "      <td>-0.473712</td>\n",
       "      <td>-0.234553</td>\n",
       "      <td>-0.047039</td>\n",
       "    </tr>\n",
       "    <tr>\n",
       "      <th>1</th>\n",
       "      <td>Salmonella schottmuelleri</td>\n",
       "      <td>-0.005921</td>\n",
       "      <td>-0.037528</td>\n",
       "      <td>-0.002117</td>\n",
       "    </tr>\n",
       "    <tr>\n",
       "      <th>2</th>\n",
       "      <td>Proteus vulgaris</td>\n",
       "      <td>-0.001776</td>\n",
       "      <td>-0.004691</td>\n",
       "      <td>-0.002352</td>\n",
       "    </tr>\n",
       "  </tbody>\n",
       "</table>\n",
       "</div>"
      ],
      "text/plain": [
       "                         name  penicillin  streptomycin  neomycin\n",
       "0  Mycobacterium tuberculosis   -0.473712     -0.234553 -0.047039\n",
       "1   Salmonella schottmuelleri   -0.005921     -0.037528 -0.002117\n",
       "2            Proteus vulgaris   -0.001776     -0.004691 -0.002352"
      ]
     },
     "execution_count": 16,
     "metadata": {},
     "output_type": "execute_result"
    }
   ],
   "source": [
    "_df_.head(3)"
   ]
  },
  {
   "cell_type": "code",
   "execution_count": null,
   "metadata": {
    "collapsed": true
   },
   "outputs": [],
   "source": []
  }
 ],
 "metadata": {
  "kernelspec": {
   "display_name": "Python 3",
   "language": "python",
   "name": "python3"
  },
  "language_info": {
   "codemirror_mode": {
    "name": "ipython",
    "version": 3
   },
   "file_extension": ".py",
   "mimetype": "text/x-python",
   "name": "python",
   "nbconvert_exporter": "python",
   "pygments_lexer": "ipython3",
   "version": "3.6.1"
  }
 },
 "nbformat": 4,
 "nbformat_minor": 2
}
